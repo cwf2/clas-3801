{
 "cells": [
  {
   "cell_type": "markdown",
   "metadata": {},
   "source": [
    "\n",
    "<h1>Welcome to Digital Methods in the Humanities</h1>\n",
    "\n",
    "## This is a Jupyter Notebook\n",
    "\n",
    "This document is a [Jupyter Notebook](https://jupyter-notebook.readthedocs.io/en/stable/notebook.html). It's a way of combining live computer code with rich content like instructions, links, images, sound, etc.\n",
    "\n",
    "All the programming we do in Digital Methods will be carried out in Notebooks like this one, running on a remote server, and accessed through your favourite web browser.\n",
    "\n",
    "### Cells, code and Markdown\n",
    "\n",
    "A Notebook document is divided into **cells**. Each cell can contain either **code** or non-code content like this message. The non-code is written in **Markdown**, a mixture of plain text, special formatting codes, and HTML.\n",
    "\n",
    "Cells containing code should have an annotation in the margin like `In [ ]:`. The cell directly below this one is an example. Try typing or pasting the following code into it:\n",
    "\n",
    "```python\n",
    "print('Hello, world!')\n",
    "```\n",
    "\n",
    "Then run your code by choosing <samp>Cell</samp> <i class=\"fa fa-arrow-right\"></i> <samp>Run Cells</samp> from the menu, or by clicking the <i class=\"fa fa-step-forward\"></i> <samp>Run</samp> button above."
   ]
  },
  {
   "cell_type": "code",
   "execution_count": null,
   "metadata": {},
   "outputs": [],
   "source": []
  },
  {
   "cell_type": "markdown",
   "metadata": {},
   "source": [
    "You should see some output appear beneath your code:\n",
    "\n",
    "     Hello, world!\n",
    "     \n",
    "You should also see a little number appear in the margin, something like `In [1]:`. This tells you that the cell has been run, and that it was the first cell that you ran in this document. The order which you run code makes a difference, so it's important to keep track!\n",
    "\n",
    "### The Python 3 kernel\n",
    "\n",
    "The code we'll be writing is in the Python 3 language. When you run a cell containing code, it's executed by a Python 3 interpreter that lives on the remote server. There's a special instance of the interpreter running just for your Notebook, called the **kernel**.\n",
    "\n",
    "The kernel remembers what you've done so far, even in another cell. For example, in the cell below, type:\n",
    "\n",
    "```python\n",
    "foo = 3\n",
    "```"
   ]
  },
  {
   "cell_type": "code",
   "execution_count": null,
   "metadata": {},
   "outputs": [],
   "source": []
  },
  {
   "cell_type": "markdown",
   "metadata": {},
   "source": [
    "You've created a **variable** and given it a value. Now, in the cell below, check that the Python kernel remembers your variable:\n",
    "\n",
    "```python\n",
    "print(foo)\n",
    "```"
   ]
  },
  {
   "cell_type": "code",
   "execution_count": null,
   "metadata": {},
   "outputs": [],
   "source": []
  },
  {
   "cell_type": "markdown",
   "metadata": {},
   "source": [
    "Did it work?  Try changing your variable:\n",
    "\n",
    "```python\n",
    "foo = foo + 1\n",
    "```"
   ]
  },
  {
   "cell_type": "code",
   "execution_count": null,
   "metadata": {},
   "outputs": [],
   "source": []
  },
  {
   "cell_type": "markdown",
   "metadata": {},
   "source": [
    "Check the new value:\n",
    "```python\n",
    "print(foo)\n",
    "```"
   ]
  },
  {
   "cell_type": "code",
   "execution_count": null,
   "metadata": {},
   "outputs": [],
   "source": []
  },
  {
   "cell_type": "markdown",
   "metadata": {},
   "source": [
    "<div class=\"alert alert-warning\">\n",
    "If you need to stop a program that's gone wrong, you can use the <samp>Kernel</samp> <i class=\"fa fa-arrow-right\"></i> <samp>Interrupt</samp> menu item. If you want Python to forget everything you've done so far, choose <samp>Kernel</samp> <i class=\"fa fa-arrow-right\"></i> <samp>Restart</samp> or one of its variants. Don't worry, your code won't be deleted.\n",
    "</div>\n",
    "\n",
    "### Switching between code and Markdown\n",
    "\n",
    "New cells default to code content, but you can write Markdown, too. You can select <samp>Cell</samp> <i class=\"fa fa-arrow-right\"></i> <samp>Cell Type</samp> <i class=\"fa fa-arrow-right\"></i> <samp>Markdown</samp> from the menus, or look for a dropdown in the toolbar that says <samp>Code</samp> and select <samp>Markdown</samp> instead. The `In [ ]:` annotation should disappear.\n",
    "\n",
    "You can type plain text into a markdown cell to make notes, explain things, or answer questions. Markdown has a bunch of [special codes](http://jupyter-notebook.readthedocs.io/en/stable/examples/Notebook/Working%20With%20Markdown%20Cells.html) for formatting your text, if you like, and you can also use raw HTML tags too. Try changing the cell below to Markdown and adding your own text."
   ]
  },
  {
   "cell_type": "code",
   "execution_count": null,
   "metadata": {},
   "outputs": [],
   "source": []
  },
  {
   "cell_type": "markdown",
   "metadata": {},
   "source": [
    "### Keyboard shortcuts\n",
    "\n",
    "Actions like running the current cell, creating a new one, and switching between code and Markdown all have keyboard shortcuts that you might want to learn. Click on the <i class=\"fa fa-keyboard-o\"></i> button in the toolbar above to see what they are on your system."
   ]
  }
 ],
 "metadata": {
  "kernelspec": {
   "display_name": "Python 3 (ipykernel)",
   "language": "python",
   "name": "python3"
  },
  "language_info": {
   "codemirror_mode": {
    "name": "ipython",
    "version": 3
   },
   "file_extension": ".py",
   "mimetype": "text/x-python",
   "name": "python",
   "nbconvert_exporter": "python",
   "pygments_lexer": "ipython3",
   "version": "3.10.12"
  }
 },
 "nbformat": 4,
 "nbformat_minor": 4
}
