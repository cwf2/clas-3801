{
 "cells": [
  {
   "cell_type": "markdown",
   "metadata": {},
   "source": [
    "# Python Basics\n",
    "\n",
    "## Expressions\n",
    "\n",
    "In a Python script, the basic unit of sense is the **expression**, much like a sentence in English. Some expressions can be extremely short, like:\n",
    "\n",
    "```python\n",
    "4\n",
    "```\n",
    "\n",
    "Believe it or not, `4` is a complete epression. Enter it (or another integer) into the cell below, then run the cell and see what happens."
   ]
  },
  {
   "cell_type": "code",
   "execution_count": 1,
   "metadata": {},
   "outputs": [
    {
     "data": {
      "text/plain": [
       "4"
      ]
     },
     "execution_count": 1,
     "metadata": {},
     "output_type": "execute_result"
    }
   ],
   "source": [
    "4"
   ]
  },
  {
   "cell_type": "markdown",
   "metadata": {},
   "source": [
    "When you type an expression into a code cell and hit <kbd>Run</kbd>, the kernel will **evaluate** the expression for you. That means, resolve it to a single value. If there are math operators, they'll be processed. If your expression includes a function, it will be invoked and the return value substituted in, and so on.\n",
    "\n",
    "## How Jupyter deals with expressions\n",
    "\n",
    "Once Python has evaluated your expression (if you haven't asked it to do anything else in particular), Jupyter will print out the resulting value. In this case, as you might have guessed, the expression `4` evaluates to `4`.  After running the cell above, you should see something like this:\n",
    "\n",
    "    Out[1]: 4\n",
    "\n",
    "👉🏻 **Note**: Automatically printing out the value of an expression is not Python's default behaviour, it's just something nice that Jupyter does for us. If we want to tell Python explicitly to print something out, we use the `print()` function:\n",
    "\n",
    "```python\n",
    "print(4)\n",
    "```\n",
    "\n",
    "Most of the time in this class I'll try to remember to explicitly use `print()` in my examples. If you use `print()`, you won't see the `Out[]:` tag beside your output.\n",
    "\n",
    "\n",
    "## More than one expression in a cell\n",
    "\n",
    "In a Jupyter Notebook you can type as many expressions as you like into a single cell. When you run the cell, they'll each be evaluated in turn. Jupyter will only print out the value of the last expression by default.\n",
    "\n",
    "For example, if you enter this set of expressions (press Enter after each line)...\n",
    "\n",
    "```python\n",
    "5 / 9\n",
    "100000\n",
    "4 * 3\n",
    "```\n",
    "\n",
    "...you should see something like this...\n",
    "\n",
    "    Out[2]: 12"
   ]
  },
  {
   "cell_type": "code",
   "execution_count": 3,
   "metadata": {},
   "outputs": [
    {
     "data": {
      "text/plain": [
       "12"
      ]
     },
     "execution_count": 3,
     "metadata": {},
     "output_type": "execute_result"
    }
   ],
   "source": [
    "5 / 9\n",
    "100000\n",
    "4 * 3"
   ]
  },
  {
   "cell_type": "markdown",
   "metadata": {},
   "source": [
    "Each cell can have as much code or as little as you want. The most important rule in writing a Notebook is to organize your work so that you (and others) can understand how it works."
   ]
  },
  {
   "cell_type": "markdown",
   "metadata": {},
   "source": [
    "## Mathematical operators\n",
    "\n",
    "Python can easily perform all the math operations you might expect from a good calculator. The following do what you probably expect:\n",
    "\n",
    "```python\n",
    "5 + 5         # addition\n",
    "100 - 101     # subtraction\n",
    "5 * 4         # multiplication\n",
    "12 / 5        # division\n",
    "```\n",
    "\n",
    "### Modulus and Integer division\n",
    "\n",
    "If you worked through *ABS* Chapter 1, you'll have seen two additional math operators that might be less familiar: `//`, **integer division**, and `%`, **modulus**.\n",
    "\n",
    "These have a complementary relationship. `a // b` will divide `a` by `b` and throw away any remainder, that is, it will always round the answer towards 0. `a % b`, on the other hand, will also divide `a` by `b`, but it will keep *only* the remainder."
   ]
  }
 ],
 "metadata": {
  "kernelspec": {
   "display_name": "Python 3.6",
   "language": "python",
   "name": "python36"
  },
  "language_info": {
   "codemirror_mode": {
    "name": "ipython",
    "version": 3
   },
   "file_extension": ".py",
   "mimetype": "text/x-python",
   "name": "python",
   "nbconvert_exporter": "python",
   "pygments_lexer": "ipython3",
   "version": "3.6.3"
  }
 },
 "nbformat": 4,
 "nbformat_minor": 2
}
