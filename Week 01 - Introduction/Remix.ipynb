{
 "cells": [
  {
   "cell_type": "code",
   "execution_count": 1,
   "metadata": {},
   "outputs": [],
   "source": [
    "REFTEXT = '''\n",
    "I like the slants of light; I’m a collector. That’s a good one, I say, that bit of bank there, the snakeskin and the aquarium, that patch of light from the creek on bark. Sometimes I spread my fingers into a viewfinder; more often I peek through a tiny square or rectangle—a frame of shadow—formed by the tips of index fingers and thumbs held directly before my eye. Speaking of the development of papier collé in late Cubism, Picasso said, “We tried to get rid of the trompe-l’oeil to find a trompe-l’esprit.” Trompe-l’esprit! I don’t know why the world didn’t latch on to the phrase. Our whole life is a stroll—or a forced march—through a gallery hung in trompes-l’esprit.\n",
    "\tOnce I visited a great university and wandered, a stranger, into the subterranean halls of its famous biology department. I saw a sign on a door: ichthyology department. The door was open a crack, and as I walked past I glanced in. I saw just a flash. There were two white-coated men seated opposite each other on high lab stools at a hard-surfaced table. They bent over identical white enamel trays. On one side, one man, with a lancet, was just cutting into an enormous preserved fish he’d taken from a jar. On the other side, the other person, with a silver spoon, was eating a grapefruit. I laughed all the way back to Virginia.\n",
    "\tMichael Goldman wrote in a poem, “When the Muse comes She doesn’t tell you to write; / She says get up for a minute, I’ve something to show you, stand here.” What made me look up at that roadside tree?\n",
    "\tThe road to Grundy, Virginia, is, as you might expect, a narrow scrawl scribbled all over the most improbably peaked and hunched mountains you ever saw. The few people who live along the road also seem peaked and hunched. But what on earth—? It was hot, sunny summer. The road was just bending off sharply to the right. I hadn’t seen a house in miles, and none was in sight. At the apogee of the road’s curve grew an enormous oak, a massive bur oak two hundred years old, one hundred and fifty feet high, an oak whose lowest limb was beyond the span of the highest ladder. I looked up: there were clothes spread all over the tree. Red shirts, blue trousers, black pants, little baby smocks—they weren’t hung from the branches. They were outside, carefully spread, splayed as if to dry, on the outer leaves of the great oak’s crown. Were there pillowcases, blankets? I can’t remember. There was a gay assortment of cotton underwear, yellow dresses, children’s green sweaters, plaid skirts. . . . You know roads. A bend comes and you take it, thoughtlessly, moving on. I looked behind me for another split second, astonished; both sides of the tree’s canopy, clear to the top, bore clothes. Trompe!\n",
    "'''"
   ]
  },
  {
   "cell_type": "code",
   "execution_count": 7,
   "metadata": {},
   "outputs": [],
   "source": [
    "from collections import Counter\n",
    "import re\n",
    "\n",
    "def wordCount(text):\n",
    "    clean = re.sub(pattern='[^a-z ]', repl='', string=text.lower().strip())\n",
    "    words = clean.split()\n",
    "    wc = Counter(words)\n",
    "    \n",
    "    return wc\n",
    "\n",
    "def checkText(textin):\n",
    "    this_wc = wordCount(textin)\n",
    "    ref_wc = wordCount(REFTEXT)\n",
    "    \n",
    "    wc_diff = Counter()\n",
    "    for w in this_wc | wc_ref:\n",
    "        wc_diff[w] = wc_ref[w] - this_wc[w]\n",
    "        \n",
    "    return wc_diff"
   ]
  },
  {
   "cell_type": "code",
   "execution_count": 16,
   "metadata": {},
   "outputs": [],
   "source": [
    "mytext = \"Grundy is a famous grapefruit collector. She held an massive one before my eye, two feet in span. That's an enormous snack, I say.\""
   ]
  },
  {
   "cell_type": "code",
   "execution_count": 17,
   "metadata": {},
   "outputs": [],
   "source": [
    "wc = wordCount(mytext)"
   ]
  }
 ],
 "metadata": {
  "kernelspec": {
   "display_name": "Python 3",
   "language": "python",
   "name": "python3"
  },
  "language_info": {
   "codemirror_mode": {
    "name": "ipython",
    "version": 3
   },
   "file_extension": ".py",
   "mimetype": "text/x-python",
   "name": "python",
   "nbconvert_exporter": "python",
   "pygments_lexer": "ipython3",
   "version": "3.6.5"
  }
 },
 "nbformat": 4,
 "nbformat_minor": 2
}
