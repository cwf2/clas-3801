{
 "cells": [
  {
   "cell_type": "markdown",
   "metadata": {
    "collapsed": true
   },
   "source": [
    "### Introduction to colour\n",
    "\n",
    "To this point, we've been working with greyscale images. Each pixel had a single value specifying its brightness: 0 for black, 255 for white, and shades of grey between.\n",
    "\n",
    "<figure class=\"figure\" style=\"float:right; margin-left:2em;\">\n",
    "<table class=\"table table-striped table-hover\" style=\"width:400px;\">\n",
    "<tr><td></td><th>red component</th><th>green component</th><th>blue component</th></tr>\n",
    "<tr><th style=\"color:#000000;\">black</th><td>0</td><td>0</td><td>0</td>\n",
    "<tr><th style=\"color:#ff0000;\">red</th><td>255</td><td>0</td><td>0</td>\n",
    "<tr><th style=\"color:#00ff00;\">green</th><td>0</td><td>255</td><td>0</td>\n",
    "<tr><th style=\"color:#0000ff;\">blue</th><td>0</td><td>0</td><td>255</td>\n",
    "<tr><th style=\"color:#ffff00;\">yellow</th><td>255</td><td>255</td><td>0</td>\n",
    "<tr><th style=\"color:#ff00ff;\">magenta</th><td>255</td><td>0</td><td>255</td>\n",
    "<tr><th style=\"color:#00ffff;\">cyan</th><td>0</td><td>255</td><td>255</td>\n",
    "<tr><th style=\"color:#ffffff;\">white</th><td>255</td><td>255</td><td>255</td>\n",
    "</table>\n",
    "</figure>\n",
    "\n",
    "One common way to represent colour is as a mixture of three component primary colours: **red**, **green**, and **blue**. Each of these three components can take any value from 0 (i.e., none) to 255 (i.e. as bright as possible). \n",
    "\n",
    "For example:\n",
    "\n",
    "<span style=\"font-size:100%; padding-left:1em; background:#ff0000;\">&nbsp;</span> To make **red**, we want as much red as possible (255) and none (0) of green or blue. Thus, when we're using <code>getpixel()</code> or <code>putpixel()</code> we should expect/assign the triplet of values <code>(255, 0, 0)</code> as a tuple, where before we would just have had a single integer.\n",
    "\n",
    "<span style=\"font-size:100%; padding-left:1em; background:#00ff00;\">&nbsp;</span> To make **green**, we do something similar, but in this case it's the middle value that we set to the maximum: <code>(0, 0, 0)</code>.\n",
    "\n",
    "<span style=\"font-size:100%; padding-left:1em; background:#ffff00;\">&nbsp;</span> What about mixing colours? In <a href=\"https://en.wikipedia.org/wiki/RGB_color_model\">additive colour mixing</a>, **yellow** is created by mixing **red** and **green**. Let's assume we want our yellow to be as bright as possible. So we dial both the first two components up to the max, and leave blue at zero: <code>(255, 255, 0)</code>.\n",
    "\n",
    "<div class=\"alert alert-success\">\n",
    "<h3>Try it out</h3>\n",
    "<p>\n",
    "Practice creating new <strong>Image</strong> objects in colour (<code>'RGB'</code> mode) instead of greyscale (<code>'L'</code>).</p>\n",
    "<p>🤔 Specify different background colours as <code>(r, g, b)</code> triples and see what happens.\n",
    "</p></div>"
   ]
  },
  {
   "cell_type": "code",
   "execution_count": 3,
   "metadata": {},
   "outputs": [
    {
     "data": {
      "image/png": "[encoded data removed]",
      "text/plain": [
       "<PIL.Image.Image image mode=RGB size=300x150 at 0x1109635F8>"
      ]
     },
     "execution_count": 3,
     "metadata": {},
     "output_type": "execute_result"
    }
   ],
   "source": [
    "from PIL import Image\n",
    "\n",
    "# cyan rectangle\n",
    "foo = Image.new('RGB', (300, 150), (0, 255, 255))\n",
    "foo"
   ]
  },
  {
   "cell_type": "markdown",
   "metadata": {},
   "source": [
    "## “Garnet and gold” checkerboard\n",
    "\n",
    "As in the previous classes, but now in the glorious <del>Gryffindor</del> Mount Allison colours..."
   ]
  },
  {
   "cell_type": "code",
   "execution_count": 8,
   "metadata": {},
   "outputs": [
    {
     "data": {
      "image/png": "[encoded data removed]",
      "text/plain": [
       "<PIL.Image.Image image mode=RGB size=250x250 at 0x106637860>"
      ]
     },
     "execution_count": 8,
     "metadata": {},
     "output_type": "execute_result"
    }
   ],
   "source": [
    "#HIDE\n",
    "# start with a fresh image\n",
    "foo = Image.new('RGB', (250, 250))\n",
    "\n",
    "# set the step parameters\n",
    "step_x = 25\n",
    "step_y = 25\n",
    "\n",
    "# set colours\n",
    "col1 = (102, 0, 0) # garnet\n",
    "col2 = (242, 235, 22) # gold\n",
    "\n",
    "# iterate over all pixels\n",
    "for x in range(foo.width):\n",
    "    for y in range(foo.height):\n",
    "        if (x // step_x) % 2 == (y // step_y) % 2:\n",
    "            foo.putpixel((x,y), col1)\n",
    "        else:\n",
    "            foo.putpixel((x,y), col2)\n",
    "foo"
   ]
  },
  {
   "cell_type": "markdown",
   "metadata": {},
   "source": [
    "# Mixing primary colours\n",
    "\n",
    "Let's blend primary colours one at a time to see the various combinations at work.\n",
    "\n",
    "### Step 1: a black canvas with a single red rectangle\n",
    "\n",
    "<ul>\n",
    "<li>Create a new image, dimensions <code>(300, 200)</code>, background black.</li>\n",
    "<li>Add a red rectangle, from upper-left <code>(80, 20)</code> to lower-right <code>(180, 110)</code>.</li>\n",
    "</ul>"
   ]
  },
  {
   "cell_type": "code",
   "execution_count": 9,
   "metadata": {},
   "outputs": [
    {
     "data": {
      "image/png": "[encoded data removed]",
      "text/plain": [
       "<PIL.Image.Image image mode=RGB size=300x200 at 0x1066F69B0>"
      ]
     },
     "execution_count": 9,
     "metadata": {},
     "output_type": "execute_result"
    }
   ],
   "source": [
    "#HIDE\n",
    "foo = Image.new('RGB', (300, 200))\n",
    "\n",
    "for x in range(80, 180):\n",
    "    for y in range(20, 110):\n",
    "        foo.putpixel((x,y), (255, 0, 0))\n",
    "\n",
    "foo"
   ]
  },
  {
   "cell_type": "markdown",
   "metadata": {},
   "source": [
    "### Step 2: an overlapping green rectangle\n",
    "\n",
    "Continuing to work with the same image:\n",
    "<ul><li>Add a green rectangle from <code>(15, 60)</code> to <code>(130, 175)</code>.</li>\n",
    "</ul>\n",
    "<div class=\"alert alert-warning\">\n",
    "<h5>⚠️ Careful</h5>\n",
    "<ul><li>you can't just set each pixel to <code>(0, 255, 0)</code> in this case</li>\n",
    "<li>to blend the colors, you have to <strong>preserve the existing red and blue values</strong>, but add your green</li>\n",
    "</ul>"
   ]
  },
  {
   "cell_type": "code",
   "execution_count": 10,
   "metadata": {},
   "outputs": [
    {
     "data": {
      "image/png": "[encoded data removed]",
      "text/plain": [
       "<PIL.Image.Image image mode=RGB size=300x200 at 0x1066F69B0>"
      ]
     },
     "execution_count": 10,
     "metadata": {},
     "output_type": "execute_result"
    }
   ],
   "source": [
    "#HIDE\n",
    "for x in range(15, 130):\n",
    "    for y in range(60, 175):\n",
    "        r, g, b = foo.getpixel((x,y))\n",
    "        g = 255\n",
    "        foo.putpixel((x,y), (r,g,b))        \n",
    "foo"
   ]
  },
  {
   "cell_type": "markdown",
   "metadata": {},
   "source": [
    "Where the green and red are added together, you should get yellow.\n",
    "\n",
    "### Step 3: add a blue rectangle\n",
    "\n",
    "For the final piece, add a blue rectangle from <code>(100, 40)</code> to <code>(270, 160)</code>"
   ]
  },
  {
   "cell_type": "code",
   "execution_count": 11,
   "metadata": {},
   "outputs": [
    {
     "data": {
      "image/png": "[encoded data removed]",
      "text/plain": [
       "<PIL.Image.Image image mode=RGB size=300x200 at 0x1066F69B0>"
      ]
     },
     "execution_count": 11,
     "metadata": {},
     "output_type": "execute_result"
    }
   ],
   "source": [
    "#HIDE\n",
    "for x in range(100, 270):\n",
    "    for y in range(40, 160):\n",
    "        r, g, b = foo.getpixel((x,y))\n",
    "        b = 255\n",
    "        foo.putpixel((x,y), (r,g,b))        \n",
    "foo"
   ]
  },
  {
   "cell_type": "markdown",
   "metadata": {},
   "source": [
    "You should see all combinations of the three primary colours where the squares overlap.\n",
    "<ul>\n",
    "<li><strong>Magenta</strong> at the intersection of <strong>red</strong> and <strong>blue</strong></li>\n",
    "<li><strong>Cyan</strong> at the intersection of <strong>blue</strong> and <strong>green</strong></li>\n",
    "<li><strong>Yellow</strong> at the intersection of <strong>green</strong> and <strong>red</strong></li>\n",
    "<li><strong>White</strong> where all three overlap</li>\n",
    "</ul>\n",
    "\n",
    "### Challenge option\n",
    "\n",
    "If you want to be really elegant, try using overlapping circles instead of squares. Go back to the “Worst class ever known” peep-hole exercise (<a href=\"https://moodle.mta.ca/mod/page/view.php?id=211033\" target=\"_blank\">Images II</a>) for the basic template. If you want to try to match the image below, here are the parameters:\n",
    "\n",
    "<ul>\n",
    "<li>image dimensions: <code>(300, 300)</code></li>\n",
    "<li>radius (all circles are the same size): <code>80</code></li>\n",
    "<li>centres:</li>\n",
    "<ul style=\"margin-top:0px;\">\n",
    "<li>red: <code>(150, 100)</code></li>\n",
    "<li>green: <code>(100, 200)</code></li>\n",
    "<li>blue: <code>(200, 200)</code></li>\n",
    "</ul>\n",
    "</ul>"
   ]
  },
  {
   "cell_type": "code",
   "execution_count": 12,
   "metadata": {},
   "outputs": [
    {
     "data": {
      "image/png": "[encoded data removed]",
      "text/plain": [
       "<PIL.Image.Image image mode=RGB size=300x300 at 0x1066F6CC0>"
      ]
     },
     "execution_count": 12,
     "metadata": {},
     "output_type": "execute_result"
    }
   ],
   "source": [
    "#HIDE\n",
    "# need math for distance calculations\n",
    "import math\n",
    "\n",
    "# define a circle-drawing function\n",
    "def draw_circle(img, cent, rad, col):\n",
    "    '''overlay a coloured circle (additive)'''\n",
    "    \n",
    "    cent_x, cent_y = cent\n",
    "    add_r, add_g, add_b = col\n",
    "    \n",
    "    for x in range(max(cent_x - rad, 0), min(cent_x + r, img.width)):\n",
    "        for y in range(max(cent_y - rad, 0), min(cent_y + r, img.height)):\n",
    "            dist = math.sqrt((x - cent_x)**2 + (y - cent_y)**2)\n",
    "            if dist <= rad:\n",
    "                old_r, old_g, old_b = img.getpixel((x, y))\n",
    "                img.putpixel((x, y), (old_r + add_r, old_g + add_g, old_b + add_b))\n",
    "\n",
    "\n",
    "# start with a blank (black) image\n",
    "foo = Image.new('RGB', (300, 300), (0, 0, 0))\n",
    "\n",
    "# three centre-points\n",
    "p1 = (150, 100) # upper middle\n",
    "p2 = (100, 200) # lower right\n",
    "p3 = (200, 200) # lower right\n",
    "\n",
    "# radius\n",
    "r = 80\n",
    "\n",
    "# three primary colours\n",
    "c1 = (255, 0, 0) # red\n",
    "c2 = (0, 255, 0) # green\n",
    "c3 = (0, 0, 255) # blue\n",
    "\n",
    "# draw three overlapping circles\n",
    "draw_circle(foo, p1, r, c1)\n",
    "draw_circle(foo, p2, r, c2)\n",
    "draw_circle(foo, p3, r, c3)\n",
    "\n",
    "# display the image\n",
    "foo"
   ]
  },
  {
   "cell_type": "markdown",
   "metadata": {},
   "source": [
    "### Manipulating colour images\n",
    "\n",
    "Let's overlay two different colour images. First, we'll download two \"cat of the day\" pics from the internet:"
   ]
  },
  {
   "cell_type": "code",
   "execution_count": null,
   "metadata": {
    "collapsed": true
   },
   "outputs": [],
   "source": []
  }
 ],
 "metadata": {
  "kernelspec": {
   "display_name": "Python 3",
   "language": "python",
   "name": "python3"
  },
  "language_info": {
   "codemirror_mode": {
    "name": "ipython",
    "version": 3
   },
   "file_extension": ".py",
   "mimetype": "text/x-python",
   "name": "python",
   "nbconvert_exporter": "python",
   "pygments_lexer": "ipython3",
   "version": "3.6.3"
  }
 },
 "nbformat": 4,
 "nbformat_minor": 2
}
