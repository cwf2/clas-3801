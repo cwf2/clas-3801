{
 "cells": [
  {
   "cell_type": "markdown",
   "metadata": {},
   "source": [
    "# Love and War: Stylometry in Latin Poetry\n",
    "\n",
    "In this lab, we're going to use word counts to look at the difference between two genres of Latin poetry, Epic and Elegy.\n",
    "<div class=\"alert alert-info\" style=\"margin:0.5em; 2em;\">\n",
    "<h5>Epic</h5>\n",
    "<ul>\n",
    "    <li>Treats grand events from mythology and history: e.g., the Trojan War, Jason and the Argonauts, the founding of Rome.</li>\n",
    "    <li>Long poems (10,000 lines or more), divided into chapter-like \"books.\"</li>\n",
    "    <li>Written as a continous series of hexameter lines.</li>\n",
    "    <li>Elevated style and diction.</li>\n",
    "</ul>\n",
    "</div>\n",
    "<div class=\"alert alert-info\" style=\"margin:0.5em; 2em;\">\n",
    "<h5>Elegy</h5>\n",
    "<ul>\n",
    "    <li>Treats personal issues—especially love, but also friendships and grudges.</li>\n",
    "    <li>Shorter poems (tens to hundreds of lines), arranged loosely in groups.</li>\n",
    "    <li>Lines are grouped in couplets: one hexameter and one pentameter.</li>\n",
    "    <li>Diction is often lower—includes conversational and vulgar language.</li>\n",
    "</ul>\n",
    "</div>\n",
    "\n",
    "### The corpus\n",
    "\n",
    "These are the texts I've chosen to represent each genre.\n",
    "\n",
    "#### Epics\n",
    "\n",
    "<table class=\"table table-striped\">\n",
    "    <thead>\n",
    "        <tr>\n",
    "            <th>Author</th>\n",
    "            <th>Title</th>\n",
    "            <th>Date</th>\n",
    "            <th>Lines</th>\n",
    "            <th>Divided into</th>\n",
    "        </tr>\n",
    "    </thead>\n",
    "    <tbody>\n",
    "        <tr>\n",
    "            <td>Vergil</td>\n",
    "            <td><em>Aeneid</em></td>\n",
    "            <td>19 BCE</td>\n",
    "            <td>9896</td>\n",
    "            <td>12 Books</td>\n",
    "        </tr>\n",
    "        <tr>\n",
    "            <td>Lucan</td>\n",
    "            <td><em>Civil War</em></td>\n",
    "            <td>65 CE</td>\n",
    "            <td>8061</td>\n",
    "            <td>10 Books</td>\n",
    "        </tr>\n",
    "        <tr>\n",
    "            <td>Statius</td>\n",
    "            <td><em>Thebaid</em></td>\n",
    "            <td>90s CE</td>\n",
    "            <td>9731</td>\n",
    "            <td>12 Books</td>\n",
    "        </tr>\n",
    "        <tr>\n",
    "            <td>Valerius Flaccus</td>\n",
    "            <td><em>Argonautica</em></td>\n",
    "            <td>90s CE</td>\n",
    "            <td>5592</td>\n",
    "            <td>8 Books</td>\n",
    "        </tr>\n",
    "    </tbody>\n",
    "</table>\n",
    "\n",
    "#### Elegies\n",
    "\n",
    "<table class=\"table table-striped\">\n",
    "    <thead>\n",
    "        <tr>\n",
    "            <th>Author</th>\n",
    "            <th>Title</th>\n",
    "            <th>Date</th>\n",
    "            <th>Lines</th>\n",
    "            <th>Divided into</th>\n",
    "        </tr>\n",
    "    </thead>\n",
    "    <tbody>\n",
    "        <tr>\n",
    "            <td>Catullus</td>\n",
    "            <td>Poems 65–116</td>\n",
    "            <td>50s BCE</td>\n",
    "            <td>643</td>\n",
    "            <td>—</td>\n",
    "        </tr>\n",
    "        <tr>\n",
    "            <td>Tibullus</td>\n",
    "            <td><em>Elegies</em> (Books 1 and 2)</td>\n",
    "            <td>30–20 BCE</td>\n",
    "            <td>1241</td>\n",
    "            <td>2 Books</td>\n",
    "        </tr>\n",
    "        <tr>\n",
    "            <td>Propertius</td>\n",
    "            <td><em>Elegies</em></td>\n",
    "            <td>20s–10s BCE</td>\n",
    "            <td>3982</td>\n",
    "            <td>4 Books</td>\n",
    "        </tr>\n",
    "        <tr>\n",
    "            <td>Ovid</td>\n",
    "            <td><em>Amores</em></td>\n",
    "            <td>10s (?) BCE</td>\n",
    "            <td>2458</td>\n",
    "            <td>3 Books</td>\n",
    "        </tr>\n",
    "        <tr>\n",
    "            <td>Pseudo-Tibullus (perhaps several authors)</td>\n",
    "            <td>Transmitted with Tibullus as <em>Elegies</em> Book 3</td>\n",
    "            <td>1st century CE (??)</td>\n",
    "            <td>684</td>\n",
    "            <td>—</td>\n",
    "        </tr>\n",
    "    </tbody>\n",
    "</table>\n",
    "\n",
    "### Data and sources\n",
    "\n",
    "The texts we're using today were all drawn from online, public-domain or open-source editions. The Latin texts I occasionally refer to are all from the [Perseus Digital Library](http://www.perseus.tufts.edu/hopper/); Perseus in turn digitized and hand-corrected them from out-of-copyright editions of the late 19th and early 20th centuries. You can browse Perseus' library [here](http://scaife.perseus.org/), or download their entire Latin collection in (XML format) [here](https://github.com/PerseusDL/canonical-latinLit).\n",
    "\n",
    "The English texts we'll use for most of the lab are from a couple of places, but all essentially go back to out-of-copyright volumes from the [Loeb Classical Library](https://www.loebclassics.com/page/history). Catullus is from Perseus. Most of the epic authors are from the [Theoi Texts Library](http://theoi.com/Library.html) in New Zealand. The rest I got by searching for specific Loebs at the [Internet Archive](https://archive.org/).\n",
    "\n",
    "I've modified all of these texts to make them easier for us to use. Depending on the source, digital texts can be easy to work with or very difficult; Perseus' texts are formatted so that you can download and manipulate them easily using scripts; the Internet Archive texts, on the other hand, are just raw text—often uncorrected OCR, which means they have lots weird \"typos.\"\n",
    "\n",
    "You can browse the texts using Jupyter's dashboard. Click on the `texts` folder, and then the `latin` or `english` subfolder, and then pick a text to examine. If you have trouble finding the files, just let me know and I can help out.\n",
    "\n",
    "<div class=\"alert alert-warning\">\n",
    "<h5>✏️ Analysis</h5>\n",
    "<p>Before moving on, take a moment with your group to **look at the data summary** above. Then **skim through one or two of the text files.**</p>\n",
    "<ul>\n",
    "    <li>Do you notice any patterns, trends, or systematic differences between the groups?</li>\n",
    "    <li>Do any of the texts stand out as anomalous?</li>\n",
    "    <li>Does anyone in your group know something interesting about these authors or works?</li>\n",
    "    <li>Can you suggest any possible sources of bias we might want to watch out for?</li>\n",
    "</ul>\n",
    "<p>Spend a few minutes talking it over, then **write a brief response** in the cell below.</p>\n",
    "</div>"
   ]
  },
  {
   "cell_type": "markdown",
   "metadata": {},
   "source": []
  },
  {
   "cell_type": "markdown",
   "metadata": {},
   "source": [
    "## Preliminaries\n",
    "\n",
    "For this lab, I've written a lot of the code we'll need ahead of time. Please run the following cell to get started. "
   ]
  },
  {
   "cell_type": "code",
   "execution_count": 60,
   "metadata": {},
   "outputs": [],
   "source": [
    "# for dealing with files and directories\n",
    "import os\n",
    "\n",
    "# for string processing\n",
    "import re\n",
    "\n",
    "# for dictionary-like counters\n",
    "from collections import Counter\n",
    "\n",
    "# for graphing\n",
    "import numpy\n",
    "from matplotlib import pyplot\n",
    "%matplotlib inline"
   ]
  },
  {
   "cell_type": "markdown",
   "metadata": {},
   "source": [
    "### Read the directory\n",
    "\n",
    "The following code snippet reads the contents `texts/english` directory.\n",
    "   - files ending with `.txt` are saved to a list called `files`\n",
    "\n",
    "<div class=\"alert alert-info\" style=\"margin:0.5em 2em;\">\n",
    "👉🏻 If you want to try processing the Latin files later, just change `english` to `latin` and re-run this cell.\n",
    "</div>"
   ]
  },
  {
   "cell_type": "code",
   "execution_count": 58,
   "metadata": {},
   "outputs": [],
   "source": [
    "# choose a folder to work with\n",
    "folder = os.path.join('texts', 'english')\n",
    "\n",
    "# create a list of files\n",
    "files = []\n",
    "for f in os.listdir(folder):\n",
    "    if f.endswith('.txt'):\n",
    "        files.append(f)\n",
    "\n",
    "# reorder the list alphabetically\n",
    "files.sort()"
   ]
  },
  {
   "cell_type": "markdown",
   "metadata": {},
   "source": [
    "### Create a list of genre labels\n",
    "\n",
    "To help keep our data organized, it's useful to have another list, *in the same order*, that gives the genre for each of the files. The code below assigns each file to a genre based on the author's name, which is built into the file name."
   ]
  },
  {
   "cell_type": "code",
   "execution_count": 59,
   "metadata": {},
   "outputs": [],
   "source": [
    "# start with an empty list\n",
    "genres = []\n",
    "\n",
    "for file in files:\n",
    "    \n",
    "    # author is first element of filename\n",
    "    auth = file.split('.')[0]\n",
    "    \n",
    "    # assign genre\n",
    "    if auth in ['lucan', 'statius', 'valerius_flaccus', 'vergil']:\n",
    "        genre = 'epic'\n",
    "    else:\n",
    "        genre = 'elegy'\n",
    "        \n",
    "    # add genre to list\n",
    "    genres.append(genre)"
   ]
  },
  {
   "cell_type": "markdown",
   "metadata": {},
   "source": [
    "<div class=\"alert alert-warning\">\n",
    "<h5>✏️ Double check</h5>\n",
    "<p>\n",
    "Before moving on, check the contents of the two lists against the names of the files in the `texts/english` folder.\n",
    "</p>\n",
    "<ul>\n",
    "    <li>In the cell below, **write a `for` loop** to print out each of the items in `files`.</li>\n",
    "    <li>Do the same for `genres`.</li>\n",
    "</ul>\n",
    "<p>🤔 Can you come up with a way to print the lists side by side? (One way comes up below.)</p>"
   ]
  },
  {
   "cell_type": "markdown",
   "metadata": {},
   "source": []
  },
  {
   "cell_type": "markdown",
   "metadata": {},
   "source": [
    "## Counting words\n",
    "\n",
    "The following code defines a new function, `wordCount()`:\n",
    "  - it takes a file as its argument\n",
    "  - it returns a dictionary (actually, a dictionary-like object called a [*Counter*](https://docs.python.org/3.6/library/collections.html#counter-objects)).\n",
    "\n",
    "Run the cell, then proceed with the example below."
   ]
  },
  {
   "cell_type": "code",
   "execution_count": 65,
   "metadata": {},
   "outputs": [],
   "source": [
    "def wordCount(path, normalize=False):\n",
    "    '''Read a text file and produce a set of word counts as a Counter.'''\n",
    "    \n",
    "    # a dictionary to collect the word counts\n",
    "    wc = Counter()\n",
    "    \n",
    "    # open the file\n",
    "    file = open(path)\n",
    "    \n",
    "    # process each line in turn:\n",
    "    #  - cut off the line number tags\n",
    "    #  - make the line lowercase\n",
    "    #  - remove all non-letter characters\n",
    "    #  - break into words\n",
    "    #  - make sure there are no empty strings\n",
    "    \n",
    "    for line in file:\n",
    "\n",
    "        # separate the latin text from the line number\n",
    "        if '\\t' in line:\n",
    "            text = line.split('\\t')[-1]\n",
    "        else:\n",
    "            text = line\n",
    "            \n",
    "        # sanitize\n",
    "        text = re.sub(pattern='[^a-z ]', repl='', string=text)\n",
    "        \n",
    "        # split into words\n",
    "        words = text.split()\n",
    "        \n",
    "        # add words to counter\n",
    "        wc.update(words)\n",
    "          \n",
    "    # optional normalization to freq per thousand words\n",
    "    if normalize:\n",
    "        total = sum(wc.values())\n",
    "        for word in wc:\n",
    "            wc[word] = round(1000 * wc[word] / total, 2)\n",
    "\n",
    "    return wc"
   ]
  },
  {
   "cell_type": "markdown",
   "metadata": {},
   "source": [
    "#### Example\n",
    "\n",
    "```python\n",
    "# pick a file to examine; don't forget to add the folder name\n",
    "file = os.path.join(folder, 'lucan.civil_war_07.txt')\n",
    "\n",
    "# call the function and assign the result to a variable\n",
    "wc = wordCount(file)\n",
    "\n",
    "# check a specific word count\n",
    "print(wc['caesar'])\n",
    "```"
   ]
  },
  {
   "cell_type": "code",
   "execution_count": null,
   "metadata": {},
   "outputs": [],
   "source": []
  },
  {
   "cell_type": "markdown",
   "metadata": {},
   "source": [
    "<div class=\"alert alert-warning\">\n",
    "<h5>✏️ Try it out</h5>\n",
    "<p>\n",
    "Test the function on book 1 of Vergil's *Aeneid*. How many times does this book refer to . . .\n",
    "</p>\n",
    "<ul>\n",
    "    <li>Aeneas</li>\n",
    "    <li>Dido</li>\n",
    "    <li>Troy</li>\n",
    "    <li>Rome</li>\n",
    "</ul> \n",
    "<p><strong>Show your code</strong> in the cell below. 🤔 Can you use a loop to check all these words?</p>\n",
    "<p>If you find you're getting the hang of it, then try some other words, or maybe a different book for comparison.</p> \n",
    "</div>"
   ]
  },
  {
   "cell_type": "code",
   "execution_count": null,
   "metadata": {},
   "outputs": [],
   "source": []
  },
  {
   "cell_type": "markdown",
   "metadata": {},
   "source": [
    "### A toy model of genre\n",
    "\n",
    "Let's start with a comparison of word counts for a couple of important thematic words for these genres: \"arms\" (Latin *arma*) and \"love\" (Latin *amor*).\n",
    "\n",
    "<div class=\"alert alert-info\" style=\"margin: 0.5em 2em;\">\n",
    "<p><strong><em>arma</em></strong>, famously the first word of Vergil's *Aeneid*, is a key word for epic. Its meaning takes in both weapons and armour: swords and spears used for attack, but also the divine shield made for Aeneas. It's not completly absent from elegy, though. A common elegiac trope compares the lover to a soldier on campain; and Ovid uses the word to open his *Amores* as a kind of literary joke on Vergil.</p>\n",
    "<p><strong><em>amor</em></strong> means \"love,\" either in the abstract or personified as Cupid. In the plural it means \"love affairs.\" Obviously a principal theme of elegy, it also has an important place in epic: think of the affairs of Aeneas and Dido, Jason and Medea, among others.</p>\n",
    "</div>\n",
    "\n",
    "In the code below, `wordCount()` is called on each of the files in turn. A summary table is produced comparing counts for 'arms' and 'love', listed alongside the file and genre labels."
   ]
  },
  {
   "cell_type": "code",
   "execution_count": 35,
   "metadata": {},
   "outputs": [
    {
     "name": "stdout",
     "output_type": "stream",
     "text": [
      "elegy\t0.16\t4.85\tTrue\tcatullus.elegiacs.txt\n",
      "epic\t1.3\t0.39\tFalse\tlucan.civil_war_01.txt\n",
      "epic\t1.41\t0.35\tFalse\tlucan.civil_war_02.txt\n",
      "epic\t1.78\t0.36\tFalse\tlucan.civil_war_03.txt\n",
      "epic\t1.19\t0.22\tFalse\tlucan.civil_war_04.txt\n",
      "epic\t1.05\t0.42\tFalse\tlucan.civil_war_05.txt\n",
      "epic\t0.32\t0.32\tFalse\tlucan.civil_war_06.txt\n",
      "epic\t0.81\t0.2\tFalse\tlucan.civil_war_07.txt\n",
      "epic\t0.69\t0.3\tFalse\tlucan.civil_war_08.txt\n",
      "epic\t0.54\t0.7\tFalse\tlucan.civil_war_09.txt\n",
      "epic\t0.64\t0.8\tFalse\tlucan.civil_war_10.txt\n",
      "elegy\t2.1\t5.26\tTrue\tovid.amores_01.txt\n",
      "elegy\t1.69\t5.64\tTrue\tovid.amores_02.txt\n",
      "elegy\t0.72\t5.32\tTrue\tovid.amores_03.txt\n",
      "elegy\t0.94\t10.38\tTrue\tpropertius.elegies_01.txt\n",
      "elegy\t0.9\t6.62\tTrue\tpropertius.elegies_02.txt\n",
      "elegy\t1.35\t4.71\tTrue\tpropertius.elegies_03.txt\n",
      "elegy\t1.06\t1.25\tFalse\tpropertius.elegies_04.txt\n",
      "elegy\t1.13\t3.25\tTrue\tps_tibullus.poems.txt\n",
      "epic\t0.93\t0.8\tFalse\tstatius.thebaid_01.txt\n",
      "epic\t1.12\t0.62\tFalse\tstatius.thebaid_02.txt\n",
      "epic\t2.05\t0.13\tFalse\tstatius.thebaid_03.txt\n",
      "epic\t1.33\t0.44\tFalse\tstatius.thebaid_04.txt\n",
      "epic\t1.7\t0.61\tFalse\tstatius.thebaid_05.txt\n",
      "epic\t1.89\t0.5\tFalse\tstatius.thebaid_06.txt\n",
      "epic\t2.07\t0.57\tFalse\tstatius.thebaid_07.txt\n",
      "epic\t0.96\t0.24\tFalse\tstatius.thebaid_08.txt\n",
      "epic\t1.34\t0.1\tFalse\tstatius.thebaid_09.txt\n",
      "epic\t2.2\t0.8\tFalse\tstatius.thebaid_10.txt\n",
      "epic\t2.19\t0.12\tFalse\tstatius.thebaid_11.txt\n",
      "epic\t1.15\t0.58\tFalse\tstatius.thebaid_12.txt\n",
      "elegy\t1.54\t5.33\tTrue\ttibullus.elegies_01.txt\n",
      "elegy\t1.34\t4.91\tTrue\ttibullus.elegies_02.txt\n",
      "epic\t1.09\t0.1\tFalse\tvalerius_flaccus.argonautica_01.txt\n",
      "epic\t0.51\t0.9\tFalse\tvalerius_flaccus.argonautica_02.txt\n",
      "epic\t0.97\t0.61\tFalse\tvalerius_flaccus.argonautica_03.txt\n",
      "epic\t1.67\t0.36\tFalse\tvalerius_flaccus.argonautica_04.txt\n",
      "epic\t0.91\t0.39\tFalse\tvalerius_flaccus.argonautica_05.txt\n",
      "epic\t1.44\t0.36\tFalse\tvalerius_flaccus.argonautica_06.txt\n",
      "epic\t0.14\t0.84\tTrue\tvalerius_flaccus.argonautica_07.txt\n",
      "epic\t0.58\t0.78\tFalse\tvalerius_flaccus.argonautica_08.txt\n",
      "epic\t1.54\t1.03\tFalse\tvergil.aeneid_01.txt\n",
      "epic\t2.16\t0.36\tFalse\tvergil.aeneid_02.txt\n",
      "epic\t1.79\t0.41\tFalse\tvergil.aeneid_03.txt\n",
      "epic\t1.49\t2.16\tFalse\tvergil.aeneid_04.txt\n",
      "epic\t1.26\t0.8\tFalse\tvergil.aeneid_05.txt\n",
      "epic\t1.77\t1.0\tFalse\tvergil.aeneid_06.txt\n",
      "epic\t2.22\t0.37\tFalse\tvergil.aeneid_07.txt\n",
      "epic\t2.45\t0.27\tFalse\tvergil.aeneid_08.txt\n",
      "epic\t3.15\t0.38\tFalse\tvergil.aeneid_09.txt\n",
      "epic\t2.17\t0.65\tFalse\tvergil.aeneid_10.txt\n",
      "epic\t3.3\t0.53\tFalse\tvergil.aeneid_11.txt\n",
      "epic\t1.73\t0.31\tFalse\tvergil.aeneid_12.txt\n"
     ]
    }
   ],
   "source": [
    "# iterate over file and genre tags together\n",
    "for file, genre in zip(files, genres):\n",
    "    \n",
    "    # get file path and call wordCount\n",
    "    path = os.path.join(folder, file)\n",
    "    wc = wordCount(path)\n",
    "    \n",
    "    # check \n",
    "    arms = wc.get('arms', 0)\n",
    "    love = wc.get('love', 0)\n",
    "\n",
    "    print('{}\\t{}\\t{}\\t{}\\t{}'.format(genre, arms, love, love/arms > 2, file))"
   ]
  },
  {
   "cell_type": "code",
   "execution_count": 43,
   "metadata": {},
   "outputs": [
    {
     "data": {
      "text/plain": [
       "<matplotlib.legend.Legend at 0x112155cf8>"
      ]
     },
     "execution_count": 43,
     "metadata": {},
     "output_type": "execute_result"
    },
    {
     "data": {
      "image/png": "[encoded data removed]",
      "text/plain": [
       "<Figure size 576x360 with 1 Axes>"
      ]
     },
     "metadata": {},
     "output_type": "display_data"
    }
   ],
   "source": [
    "from matplotlib import pyplot\n",
    "%matplotlib inline\n",
    "import numpy\n",
    "\n",
    "# choose two words to graph\n",
    "x_word = 'i'\n",
    "y_word = 'he'\n",
    "\n",
    "# create a graph\n",
    "fig = pyplot.figure(figsize=(8,5))\n",
    "ax = fig.add_axes([.1, .1, .8, .8])\n",
    "ax.set_xlabel(x_word)\n",
    "ax.set_ylabel(y_word)\n",
    "\n",
    "# collect word counts\n",
    "x_vals = []\n",
    "y_vals = []\n",
    "\n",
    "for file in files:\n",
    "    path = os.path.join(folder, file)\n",
    "    wc = wordCount(path, True)\n",
    "\n",
    "    x_vals.append(wc.get(x_word, 0))\n",
    "    y_vals.append(wc.get(y_word, 0))\n",
    "\n",
    "# use numpy for easier array slicing\n",
    "x = numpy.array(x_vals)\n",
    "y = numpy.array(y_vals)\n",
    "g = numpy.array(genres)\n",
    "\n",
    "# plot epic and elegy as two series\n",
    "ax.plot(x[g=='epic'], y[g=='epic'], marker='o', linestyle='', label='epic')\n",
    "ax.plot(x[g=='elegy'], y[g=='elegy'], marker='o', linestyle='', label='elegy')\n",
    "ax.legend()\n"
   ]
  },
  {
   "cell_type": "code",
   "execution_count": 37,
   "metadata": {},
   "outputs": [
    {
     "name": "stdout",
     "output_type": "stream",
     "text": [
      "['the', 'and', 'of', 'to', 'in', 'his', 'with', 'a', 'that', 'he', 'i', 'from', 'is', 'for', 'her', 'by', 'my', 'on', 'their', 'but', 'not', 'was', 'as', 'all', 'it', 'they', 'me', 'thou', 'thy', 'be', 'when', 'she', 'at', 'now', 'him', 'you', 'or', 'are', 'no', 'so', 'have', 'this', 'then', 'nor', 'had', 'your', 'will', 'what', 'thee', 'upon', 'who', 'if', 'them', 'has', 'were', 'our', 'one', 'shall', 'its', 'yet', 'let', 'there', 'even', 'such', 'own', 'we', 'first', 'through', 'would', 'love', 'gods', 'more', 'sea', 'war', 'these', 'death', 'down', 'may', 'do', 'arms', 'over', 'while', 'hand', 'thus', 'which', 'long', 'up', 'too', 'men', 'forth', 'where', 'an', 'though', 'out', 'come', 'whom', 'before', 'blood', 'heaven', 'himself', 'many', 'into', 'back', 'earth', 'did', 'night', 'away', 'land', 'o', 'here', 'eyes', 'how', 'mighty', 'once', 'great', 'us', 'should', 'ye', 'see', 'than', 'against', 'far', 'words', 'heart', 'hands', 'father', 'any', 'ever', 'son', 'high', 'day', 'waters', 'sword', 'other', 'fear', 'man', 'why', 'last', 'can', 'head', 'could', 'life', 'face', 'left', 'make', 'city', 'never', 'still', 'time', 'cruel', 'those', 'alone', 'some', 'only', 'been', 'side', 'beneath', 'made', 'battle', 'deep', 'might', 'whose', 'every', 'way', 'give', 'am', 'go', 'tears', 'again', 'set', 'sky', 'god', 'light', 'fire', 'breast', 'already', 'walls', 'does', 'king', 'world', 'power', 'take', 'mother', 'shore', 'tis', 'aeneas', 'old', 'name', 'each', 'home', 'saw', 'foe', 'like', 'fields', 'fortune', 'must', 'fierce', 'limbs', 'caesar', 'hair', 'fate', 'waves', 'bring', 'off', 'ground', 'about', 'stars', 'above', 'bear', 'thine', 'amid', 'fall', 'mine', 'rome', 'cries', 'place', 'air', 'body', 'sire', 'right', 'weapons', 'art', 'soon', 'winds', 'gold', 'came', 'fathers', 'sons', 'wind', 'lay', 'hath', 'without', 'ships', 'spoke', 'turn', 'after', 'tell', 'race', 'brought', 'whole', 'strength', 'water', 'round', 'course', 'peace', 'spear', 'goddess', 'seek', 'know', 'lo', 'others', 'none', 'both', 'gave', 'youth', 'open', 'comes', 'under', 'ah', 'flight', 'fell', 'stream', 'dead', 'vain', 'wrath', 'rest', 'together', 'herself', 'jove', 'stood', 'glory', 'two', 'hope', 'ship', 'plain', 'return', 'pray', 'say', 'sacred', 'full', 'ancient', 'oft', 'grief', 'crime', 'brother', 'look', 'lies', 'close', 'also', 'comrades', 'house', 'years', 'keep', 'among', 'meet', 'nay', 'midst', 'whether', 'steeds', 'well', 'either', 'less', 'leave', 'shalt', 'within', 'stand', 'sun', 'little', 'another', 'phoebus', 'scarce', 'camp', 'fight', 'silent', 'behind', 'since', 'neck', 'very', 'shame', 'path', 'alas', 'end', 'river', 'sudden', 'turnus', 'rocks', 'sleep', 'hearts', 'mind', 'new', 'laid', 'find', 'sight', 'lofty', 'venus', 'shores', 'oer', 'troy', 'black', 'cause', 'said', 'magnus', 'hast', 'hard', 'hold', 'driven', 'till', 'huge', 'wild', 'dark', 'grant', 'wide', 'lost', 'doom', 'clouds', 'part', 'much', 'people', 'along', 'feet', 'dost', 'myself', 'put', 'roman', 'behold', 'destiny', 'call', 'fair', 'shoulders', 'often', 'age', 'terror', 'next', 'enough', 'unhappy', 'makes', 'lie', 'fury', 'shield', 'turned', 'gifts', 'follow', 'seen', 'same', 'doth', 'mothers', 'heard', 'voice', 'joy', 'given', 'wife', 'things', 'daughter', 'near', 'aid', 'nations', 'sister', 'dust', 'flame', 'rage', 'wine', 'hero', 'host', 'country', 'kings', 'sent', 'fame', 'free', 'darkness', 'suffer', 'borne', 'husband', 'mistress', 'anger', 'swift', 'vast', 'neither', 'die', 'wound', 'realm', 'rather', 'juno', 'cast', 'between', 'deeds', 'steel', 'good', 'because', 'birds', 'didst', 'weary', 'pallas', 'jupiter', 'lord', 'seas', 'savage', 'dread', 'beauty', 'afar', 'held', 'found', 'white', 'gates', 'stands', 'thebes', 'forward', 'armour', 'care', 'dear', 'shade', 'wounds', 'pass', 'think', 'bore', 'sound', 'ocean', 'field', 'true', 'altars', 'gives', 'most', 'bow', 'hither', 'just', 'foot', 'chance', 'called', 'spirit', 'prayers', 'honour', 'maid', 'heavens', 'brothers', 'hidden', 'lands', 'sails', 'form', 'golden', 'rich', 'secret', 'fires', 'empty', 'band', 'pompey', 'warriors', 'loud', 'slain', 'threshold', 'locks', 'passion', 'soul', 'holy', 'italy', 'ready', 'low', 'hapless', 'bodies', 'flames', 'cloud', 'valour']\n"
     ]
    }
   ],
   "source": [
    "wc_total = {}\n",
    "\n",
    "for file in files:\n",
    "    path = os.path.join(folder, file)\n",
    "    wc = wordCount(path)\n",
    "    \n",
    "    for word in wc:\n",
    "        wc_total[word] = wc_total.get(word, 0) + wc[word]\n",
    "\n",
    "top_500 = sorted(wc_total, key=wc_total.get, reverse=True)[:500]\n",
    "print(top_500)"
   ]
  },
  {
   "cell_type": "code",
   "execution_count": 38,
   "metadata": {},
   "outputs": [
    {
     "data": {
      "image/png": "[encoded data removed]",
      "text/plain": [
       "<Figure size 432x288 with 1 Axes>"
      ]
     },
     "metadata": {},
     "output_type": "display_data"
    }
   ],
   "source": [
    "rank = range(1, 501)\n",
    "freq = [wc_total[word] for word in top_500]\n",
    "\n",
    "pyplot.plot(rank, freq)\n",
    "pyplot.xlabel('rank')\n",
    "pyplot.ylabel('frequency')\n",
    "pyplot.show()"
   ]
  },
  {
   "cell_type": "code",
   "execution_count": 39,
   "metadata": {
    "scrolled": true
   },
   "outputs": [
    {
     "data": {
      "image/png": "[encoded data removed]",
      "text/plain": [
       "<Figure size 432x288 with 1 Axes>"
      ]
     },
     "metadata": {},
     "output_type": "display_data"
    }
   ],
   "source": [
    "pyplot.loglog(rank, freq)\n",
    "pyplot.xlabel('rank')\n",
    "pyplot.ylabel('frequency')\n",
    "pyplot.show()"
   ]
  },
  {
   "cell_type": "code",
   "execution_count": 52,
   "metadata": {},
   "outputs": [
    {
     "name": "stdout",
     "output_type": "stream",
     "text": [
      "Calculating 10 principal components\n"
     ]
    },
    {
     "data": {
      "text/plain": [
       "<matplotlib.legend.Legend at 0x106947550>"
      ]
     },
     "execution_count": 52,
     "metadata": {},
     "output_type": "execute_result"
    },
    {
     "data": {
      "image/png": "[encoded data removed]",
      "text/plain": [
       "<Figure size 432x288 with 1 Axes>"
      ]
     },
     "metadata": {},
     "output_type": "display_data"
    }
   ],
   "source": [
    "%matplotlib inline\n",
    "from sklearn import decomposition\n",
    "\n",
    "# build feature vectors\n",
    "data = []\n",
    "\n",
    "for file in files:\n",
    "    path = os.path.join(folder, file)\n",
    "    wc = wordCount(path, True)\n",
    "\n",
    "    this_vec = [wc.get(w, 0) for w in top_500]\n",
    "    data.append(this_vec)\n",
    "    \n",
    "data = numpy.array(data)\n",
    "\n",
    "# create author labels\n",
    "authors = []\n",
    "for f in files:\n",
    "    author = f.split('.')[0]\n",
    "    authors.append(author)\n",
    "\n",
    "# reduce dimensionality with PCA\n",
    "npcs = 10\n",
    "print('Calculating {} principal components'.format(npcs))\n",
    "pcmodel = decomposition.PCA(npcs)\n",
    "pca = pcmodel.fit_transform(data)\n",
    "\n",
    "# create a graph\n",
    "fig, ax = pyplot.subplots()\n",
    "ax.set_xlabel('PC1')\n",
    "ax.set_ylabel('PC2')\n",
    "\n",
    "# use numpy for easier array slicing\n",
    "x = pca[:,0]\n",
    "y = pca[:,1]\n",
    "a = numpy.array(authors)\n",
    "\n",
    "# plot each author as a separate series\n",
    "for auth in set(a):\n",
    "    ax.plot(x[a==auth], y[a==auth], marker='o', linestyle='', label=auth)    \n",
    "ax.legend(loc=\"upper left\", bbox_to_anchor=(1,1))"
   ]
  },
  {
   "cell_type": "markdown",
   "metadata": {},
   "source": [
    "### 3d plot"
   ]
  },
  {
   "cell_type": "code",
   "execution_count": null,
   "metadata": {},
   "outputs": [],
   "source": [
    "%matplotlib notebook\n",
    "from mpl_toolkits.mplot3d import axes3d\n",
    "from sklearn import decomposition\n",
    "\n",
    "# leave out lucan\n",
    "some_files = numpy.array([f for f in files if not f.startswith('lucan')])\n",
    "\n",
    "# build feature vectors\n",
    "data = []\n",
    "\n",
    "for file in some_files:\n",
    "    path = os.path.join('texts', 'raw', file)\n",
    "    wc = wordCount(path)\n",
    "\n",
    "    this_vec = [wc.get(w, 0) for w in top_500]\n",
    "    data.append(this_vec)\n",
    "    \n",
    "data = numpy.array(data)\n",
    "\n",
    "# create author labels\n",
    "authors = []\n",
    "for f in some_files:\n",
    "    author = f.split('.')[0]\n",
    "    authors.append(author)\n",
    "\n",
    "# reduce dimensionality with PCA\n",
    "npcs = 10\n",
    "print('Calculating {} principal components'.format(npcs))\n",
    "pcmodel = decomposition.PCA(npcs)\n",
    "pca = pcmodel.fit_transform(data)\n",
    "\n",
    "# create a graph\n",
    "fig = pyplot.figure()\n",
    "ax = fig.add_subplot(111, projection='3d')\n",
    "ax.set_xlabel('PC1')\n",
    "ax.set_ylabel('PC2')\n",
    "ax.set_zlabel('PC3')\n",
    "\n",
    "# use numpy for easier array slicing\n",
    "x = pca[:,0]\n",
    "y = pca[:,1]\n",
    "z = pca[:,2]\n",
    "g = numpy.array(genres)\n",
    "a = numpy.array(authors)\n",
    "\n",
    "# plot each author as a separate series\n",
    "for auth in set(a):\n",
    "    ax.scatter(x[a==auth], y[a==auth], z[a==auth], marker='o', label=auth)\n",
    "    \n",
    "ax.legend()"
   ]
  },
  {
   "cell_type": "code",
   "execution_count": null,
   "metadata": {},
   "outputs": [],
   "source": [
    "pca.shape"
   ]
  },
  {
   "cell_type": "code",
   "execution_count": null,
   "metadata": {},
   "outputs": [],
   "source": [
    "pyplot.plot(pca[:,0], pca[:,1], marker='o', linestyle='')"
   ]
  },
  {
   "cell_type": "code",
   "execution_count": null,
   "metadata": {},
   "outputs": [],
   "source": []
  },
  {
   "cell_type": "code",
   "execution_count": null,
   "metadata": {},
   "outputs": [],
   "source": [
    "%matplotlib notebook\n",
    "from sklearn import decomposition\n",
    "\n",
    "def fingerprint(start=0, end=500):\n",
    "    features = sorted(wc_total, key=wc_total.get, reverse=True)[start:end]\n",
    "    print(len(features), \" features\")\n",
    "\n",
    "    # build feature vectors\n",
    "    data = []\n",
    "\n",
    "    for file in some_files:\n",
    "        path = os.path.join('texts', 'raw', file)\n",
    "        wc = wordCount(path)\n",
    "\n",
    "        this_vec = [wc.get(w, 0) for w in features]\n",
    "        data.append(this_vec)\n",
    "\n",
    "    data = numpy.array(data)\n",
    "\n",
    "    # create author labels\n",
    "    authors = []\n",
    "    for f in some_files:\n",
    "        author = f.split('.')[0]\n",
    "        authors.append(author)\n",
    "\n",
    "    # reduce dimensionality with PCA\n",
    "    npcs = 10\n",
    "    print('Calculating {} principal components'.format(npcs))\n",
    "    pcmodel = decomposition.PCA(npcs)\n",
    "    pca = pcmodel.fit_transform(data)\n",
    "\n",
    "    # create a graph\n",
    "    fig, ax = pyplot.subplots()\n",
    "    ax.set_xlabel('PC1')\n",
    "    ax.set_ylabel('PC2')\n",
    "\n",
    "    # use numpy for easier array slicing\n",
    "    x = pca[:,0]\n",
    "    y = pca[:,1]\n",
    "    g = numpy.array(some_genres)\n",
    "    a = numpy.array(authors)\n",
    "\n",
    "    # plot each author as a separate series\n",
    "    for auth in set(a):\n",
    "        ax.plot(x[a==auth], y[a==auth], marker='o', linestyle='', label=auth)    \n",
    "    ax.legend()"
   ]
  },
  {
   "cell_type": "code",
   "execution_count": null,
   "metadata": {},
   "outputs": [],
   "source": [
    "from ipywidgets import interact\n",
    "interact(fingerprint, start=(0,500), end=(10, 1000))"
   ]
  },
  {
   "cell_type": "code",
   "execution_count": 22,
   "metadata": {},
   "outputs": [
    {
     "data": {
      "text/plain": [
       "9807"
      ]
     },
     "execution_count": 22,
     "metadata": {},
     "output_type": "execute_result"
    }
   ],
   "source": []
  },
  {
   "cell_type": "code",
   "execution_count": 66,
   "metadata": {},
   "outputs": [],
   "source": []
  },
  {
   "cell_type": "code",
   "execution_count": 67,
   "metadata": {},
   "outputs": [],
   "source": []
  },
  {
   "cell_type": "code",
   "execution_count": 68,
   "metadata": {},
   "outputs": [
    {
     "data": {
      "text/plain": [
       "0"
      ]
     },
     "execution_count": 68,
     "metadata": {},
     "output_type": "execute_result"
    }
   ],
   "source": []
  },
  {
   "cell_type": "code",
   "execution_count": null,
   "metadata": {},
   "outputs": [],
   "source": []
  }
 ],
 "metadata": {
  "kernelspec": {
   "display_name": "Python 3",
   "language": "python",
   "name": "python3"
  },
  "language_info": {
   "codemirror_mode": {
    "name": "ipython",
    "version": 3
   },
   "file_extension": ".py",
   "mimetype": "text/x-python",
   "name": "python",
   "nbconvert_exporter": "python",
   "pygments_lexer": "ipython3",
   "version": "3.6.5"
  }
 },
 "nbformat": 4,
 "nbformat_minor": 2
}
