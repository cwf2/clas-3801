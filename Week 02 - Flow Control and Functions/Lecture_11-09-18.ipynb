{
 "cells": [
  {
   "cell_type": "markdown",
   "metadata": {},
   "source": [
    "# Tuesday, 11 Sept. 2018\n",
    "\n",
    "This is the first real lecture class we've had. Our discussion topic is the Hildegard video."
   ]
  },
  {
   "cell_type": "markdown",
   "metadata": {},
   "source": [
    "## Loops\n",
    "\n",
    "### `while` loops\n",
    "\n",
    "A block that repeats as long as a condition holds true.\n",
    "\n",
    "**Example**\n",
    "\n",
    "Alta wants to ride in a booster seat; she has to weigh 40 pounds.\n",
    "\n",
    "```python\n",
    "# set an initial value\n",
    "weight = int(input('How much do you weigh? '))\n",
    "\n",
    "# loop until target weight is reached\n",
    "while weight < 40:\n",
    "    print('Sorry, you have to wait a little longer.')\n",
    "    print()\n",
    "    \n",
    "    # don't forget to check the weight again, inside the loop\n",
    "    weight = int(input('How much do you weigh? '))\n",
    "\n",
    "# the loop is over; target weight has been achieved \n",
    "print('Congrats, you get a new booster seat!')\n",
    "```"
   ]
  },
  {
   "cell_type": "code",
   "execution_count": null,
   "metadata": {},
   "outputs": [],
   "source": []
  },
  {
   "cell_type": "markdown",
   "metadata": {},
   "source": [
    "## `for` loops\n",
    "\n",
    "Iterate over a list, execute block on each item in turn.\n",
    "\n",
    "**Example 1: using a list**\n",
    "\n",
    "```python\n",
    "# start with a list of students\n",
    "students = ['Sam', 'Connor', 'Maya', 'Makoto', 'Miranda']\n",
    "\n",
    "# set the loop variable to each student's name in turn\n",
    "for student in students:\n",
    "    \n",
    "    # do something with the name; e.g., calculate length\n",
    "    name_length = len(student)\n",
    "    print('Hi, ' + student + ', your name has ' + str(name_length) + ' letters.')\n",
    "```"
   ]
  },
  {
   "cell_type": "code",
   "execution_count": null,
   "metadata": {},
   "outputs": [],
   "source": []
  },
  {
   "cell_type": "markdown",
   "metadata": {},
   "source": [
    "**Example 2: using `range()`**\n",
    "\n",
    "The `range()` function will produce a list of numbers to iterate over.\n",
    "\n",
    "```python\n",
    "# loop variable `i` iterates over numbers 0 to 4\n",
    "for i in range(5):\n",
    "    msg = 'Paris in ' + ('the ' * i) + 'spring.'\n",
    "    print(i, msg)\n",
    "```"
   ]
  },
  {
   "cell_type": "code",
   "execution_count": null,
   "metadata": {},
   "outputs": [],
   "source": []
  },
  {
   "cell_type": "markdown",
   "metadata": {},
   "source": [
    "**Fancier examples with `range()`**\n",
    "\n",
    "```python\n",
    "# using range() with start and stop values\n",
    "for i in range(101, 111):\n",
    "    print(i)\n",
    "```"
   ]
  },
  {
   "cell_type": "code",
   "execution_count": null,
   "metadata": {},
   "outputs": [],
   "source": []
  },
  {
   "cell_type": "markdown",
   "metadata": {},
   "source": [
    "**`range()` with *start*, *stop*, and *step* values.**\n",
    "\n",
    "```python\n",
    "# even numbers\n",
    "for i in range(0, 21, 2):\n",
    "    print(i)\n",
    "```"
   ]
  },
  {
   "cell_type": "code",
   "execution_count": null,
   "metadata": {},
   "outputs": [],
   "source": []
  },
  {
   "cell_type": "markdown",
   "metadata": {},
   "source": [
    "```python\n",
    "# odd numbers\n",
    "for i in range(1, 21, 2):\n",
    "    print(i)\n",
    "```"
   ]
  },
  {
   "cell_type": "code",
   "execution_count": null,
   "metadata": {},
   "outputs": [],
   "source": []
  },
  {
   "cell_type": "markdown",
   "metadata": {},
   "source": [
    "**Counting backwards with negative `step` value**\n",
    "\n",
    "```python\n",
    "# \"And the good fairy said...\"\n",
    "for i in range (3, 0, -1):    \n",
    "    msg = \"I'll give you \" + str(i) + ' more chances...'\n",
    "    print(msg)\n",
    "```"
   ]
  },
  {
   "cell_type": "code",
   "execution_count": null,
   "metadata": {},
   "outputs": [],
   "source": []
  },
  {
   "cell_type": "markdown",
   "metadata": {},
   "source": [
    "**Bonus: as above, but fix grammar**\n",
    "\n",
    "```python\n",
    "for i in range (3, 0, -1):\n",
    "    if i > 1:\n",
    "        chances = 'chances'\n",
    "    else:\n",
    "        chances = 'chance'\n",
    "    \n",
    "    msg = \"I'll give you \" + str(i) + \" more \" + chances + '...'\n",
    "    print(msg)\n",
    "```"
   ]
  },
  {
   "cell_type": "code",
   "execution_count": null,
   "metadata": {},
   "outputs": [],
   "source": []
  },
  {
   "cell_type": "markdown",
   "metadata": {},
   "source": [
    "## Functions\n",
    "\n",
    "A function is essentially just some code with a name. To make Python execute the code, we call the function by using parens after the name.\n",
    "\n",
    "**For example**\n",
    "\n",
    "`print` is the name of a function. If we just enter `print` into Jupyter, without parens, it displays a human-readable label for the underlying code, basically just saying 'Yep, print is a function. So what?'\n",
    "\n",
    "```python\n",
    "print\n",
    "```"
   ]
  },
  {
   "cell_type": "code",
   "execution_count": null,
   "metadata": {},
   "outputs": [],
   "source": []
  },
  {
   "cell_type": "markdown",
   "metadata": {},
   "source": [
    "But if we add parentheses, even empty ones, after the name, then instead of *displaying* the function, Jupyter *calls* it (i.e, *does* it).\n",
    "\n",
    "```python\n",
    "print()\n",
    "```"
   ]
  },
  {
   "cell_type": "code",
   "execution_count": null,
   "metadata": {},
   "outputs": [],
   "source": []
  },
  {
   "cell_type": "markdown",
   "metadata": {},
   "source": [
    "And of course, the results are more interesting if we give it something to print, by filling in the parens:\n",
    "\n",
    "```python\n",
    "print('Hello, world!')\n",
    "```"
   ]
  },
  {
   "cell_type": "code",
   "execution_count": null,
   "metadata": {},
   "outputs": [],
   "source": []
  },
  {
   "cell_type": "markdown",
   "metadata": {},
   "source": [
    "The function `print` is kind of like a verb --- by itself it's just the word, but with the parens it's like a command to *do* the action. The thing we put inside the parens is like a direct object of the verb, something to do the action *to*.\n",
    "\n",
    "\n",
    "## Function definitions\n",
    "\n",
    "We can **define** (or create) our own functions. Why?\n",
    " - to avoid repeating ourselves\n",
    " - to keep code tidy\n",
    " - to reduce opportunities for error\n",
    " - to make our work portable\n",
    " \n",
    "A function **definition** has a couple of important parts:\n",
    " - the keyword `def`\n",
    " - a **name** we give to the function\n",
    " - parentheses, and a colon\n",
    " \n",
    " \n",
    " - optional: a **docstring** explaining in human terms what the function does\n",
    " - optional: the name of one or more **parameters** inside the parens\n",
    " \n",
    "Finally, a function definitions must include a **block** giving the code to be executed when someone calls the function.\n",
    "\n",
    "**Example:**\n",
    "```python\n",
    "def getTacos(word):\n",
    "    '''turn word into taco emojis'''\n",
    "    tacos = '🌮' * len(word)\n",
    "    \n",
    "    print('Your word: ' + word)\n",
    "    print('tacoified: ' + tacos)\n",
    "```\n",
    "\n",
    "In this example, the function's name is `getTacos`, and it takes a parameter (or argument) called `word`. The docstring is the triple-quoted text just after the `def` statement. This will show up if we call `help(getTacos)` later, because we've forgotten what the function was supposed to do.\n",
    "\n",
    "<div class=\"alert alert-info\" style=\"margin:1em 2em;\">\n",
    "<h5>Pro Tip</h5>\n",
    "<p>Give your function a self-explanatory name, so that you remember what it's for when you're reading your own code later. Verbs make great function names.</p>\n",
    "</div>\n",
    "\n",
    "Cut and pase the example into the cell below and run it."
   ]
  },
  {
   "cell_type": "code",
   "execution_count": null,
   "metadata": {},
   "outputs": [],
   "source": []
  },
  {
   "cell_type": "markdown",
   "metadata": {},
   "source": [
    "Notice that running the definition doesn't do anything. Or does it?\n",
    "\n",
    "In fact, although the code hasn't been executed (for that matter, we didn't give it a word to execute *on* yet), something has happened. Python has assigned that code to the name `getTacos`.\n",
    "\n",
    "We can see this by entering just the name into Jupyter. Jupyter will display a representation of the underlying function, much as it did with `print`.\n",
    "\n",
    "```python\n",
    "getTacos\n",
    "```"
   ]
  },
  {
   "cell_type": "code",
   "execution_count": null,
   "metadata": {},
   "outputs": [],
   "source": []
  },
  {
   "cell_type": "markdown",
   "metadata": {},
   "source": [
    "Now let's check the documentation we created.\n",
    "\n",
    "```python\n",
    "help(getTacos)\n",
    "```"
   ]
  },
  {
   "cell_type": "code",
   "execution_count": null,
   "metadata": {},
   "outputs": [],
   "source": []
  },
  {
   "cell_type": "markdown",
   "metadata": {},
   "source": [
    "Finally, we'll try calling the function on some words:\n",
    "\n",
    "```python\n",
    "for student in students:\n",
    "    getTacos(student)\n",
    "    print()\n",
    "```"
   ]
  },
  {
   "cell_type": "code",
   "execution_count": null,
   "metadata": {},
   "outputs": [],
   "source": []
  },
  {
   "cell_type": "markdown",
   "metadata": {},
   "source": [
    "### Functions that *do* something versus functions that *return* something\n",
    "\n",
    "Some functions are important because they do something useful, like `print()`. Others are important because they **return** (i.e. evaluate to) a value, like `len()`. In the `getTacos` example, we can use `len(word)` on the right side of an equals sign because `len(word)` **returns** a number (the length of `word`).\n",
    "\n",
    "Right now, `getTacos()` *does* something -- it prints out a bunch of tacos. But it doesn't **return** anything. It's not very useful on the right side of an assignment:\n",
    "\n",
    "For example, consider this use of `getTacos()`:\n",
    "```python\n",
    "my_tacos = getTacos('chris')\n",
    "```"
   ]
  },
  {
   "cell_type": "code",
   "execution_count": null,
   "metadata": {},
   "outputs": [],
   "source": []
  },
  {
   "cell_type": "markdown",
   "metadata": {},
   "source": [
    "Sure, it prints out five tacos when you run it, but it doesn't actually assign anything useful to `my_tacos`. So afterwards, the following prints `None`:\n",
    "```python\n",
    "print(my_tacos)\n",
    "```"
   ]
  },
  {
   "cell_type": "code",
   "execution_count": null,
   "metadata": {},
   "outputs": [],
   "source": []
  },
  {
   "cell_type": "markdown",
   "metadata": {},
   "source": [
    "**Example 2: using `return`**\n",
    "\n",
    "Let's make a new version of the taco function that **returns** the tacofied word instead of printing it out:\n",
    "\n",
    "```python\n",
    "def getTacos2(word):\n",
    "    '''turn word into taco emojis'''\n",
    "    tacos = '🌮' * len(word)\n",
    "    \n",
    "    return tacos\n",
    "```"
   ]
  },
  {
   "cell_type": "code",
   "execution_count": null,
   "metadata": {},
   "outputs": [],
   "source": []
  },
  {
   "cell_type": "markdown",
   "metadata": {},
   "source": [
    "Try running it. Nothing is printed this time.\n",
    "```python\n",
    "my_tacos = getTacos2('Call me Ishmael. Some years ago—never mind how long precisely...')\n",
    "```"
   ]
  },
  {
   "cell_type": "code",
   "execution_count": null,
   "metadata": {},
   "outputs": [],
   "source": []
  },
  {
   "cell_type": "markdown",
   "metadata": {},
   "source": [
    "But the assignment works. `my_tacos` now contains a huge string of taco emojis:\n",
    "\n",
    "```python\n",
    "print(my_tacos)\n",
    "```"
   ]
  },
  {
   "cell_type": "code",
   "execution_count": null,
   "metadata": {},
   "outputs": [],
   "source": []
  },
  {
   "cell_type": "markdown",
   "metadata": {},
   "source": [
    "If we wanted to replicate the original functionality, we have to write new `print` statements:\n",
    "\n",
    "```python\n",
    "moby_dick = 'Call me Ishmael. Some years ago—never mind how long precisely...'\n",
    "print('original: ' + moby_dick)\n",
    "print('tacos: ' + getTacos2(moby_dick))\n",
    "```"
   ]
  },
  {
   "cell_type": "code",
   "execution_count": null,
   "metadata": {},
   "outputs": [],
   "source": []
  },
  {
   "cell_type": "markdown",
   "metadata": {},
   "source": [
    "<div class=\"alert alert-info\" style=\"margin:1em 2em;\">\n",
    "\n",
    "<h3> 🤔 How much to include in the function?</h3>\n",
    "\n",
    "<p>\n",
    "So which is better—`getTacos()` or `getTacos2()`?  To include the print action inside the function, or leave it out?\n",
    "</p>\n",
    "<p>\n",
    "The answer just depends on how much of the function you think you're going to use again. What aspects of it need to be generalized, and what aspects are particular to a specific use-case. It's a subjective judgment, especially when you're just developing your code for the first time, and you're not sure how useful it will be in the future.\n",
    "</p>\n",
    "</div>"
   ]
  },
  {
   "cell_type": "markdown",
   "metadata": {},
   "source": [
    "### Parameters and optional parameters\n",
    "\n",
    "In the tacos examples above, `word` is a required **parameter**. We pass its value inside the parens, and inside the block of code under `def getTacos`, `word` takes that value. Note that it's only good while the function call is happening.\n",
    "\n",
    "Just like Dory the fish, our function forgets the value of `word` after every call.\n",
    "\n",
    "We can also specify default values for params in the function definition. This makes passing them optional.\n",
    "\n",
    "**Example 3: optional parameters**\n",
    "\n",
    "```python\n",
    "def getJunkFood(word, symbol='🌮'):\n",
    "    '''turn word into food emojis'''\n",
    "    junkfood = symbol * len(word)\n",
    "    \n",
    "    return junkfood\n",
    "```\n",
    "\n",
    "In this case, the user can optionally specify a different food emoji to use instead of the taco. But if they don't give the `symbol` parameter a value, it will take 🌮 by default."
   ]
  },
  {
   "cell_type": "code",
   "execution_count": null,
   "metadata": {},
   "outputs": [],
   "source": []
  },
  {
   "cell_type": "markdown",
   "metadata": {},
   "source": [
    "Try it out with and without the optional param.\n",
    "\n",
    "```python\n",
    "# with default value\n",
    "print(getJunkFood(moby_dick))\n",
    "```\n",
    "```python\n",
    "# specifying second param\n",
    "print(getJunkFood(moby_dick, '🥦'))\n",
    "```\n",
    "```python\n",
    "# syntactically equivalent, but tastier\n",
    "print(getJunkFood(moby_dick, symbol='🥞'))\n",
    "```\n"
   ]
  },
  {
   "cell_type": "code",
   "execution_count": null,
   "metadata": {},
   "outputs": [],
   "source": []
  }
 ],
 "metadata": {
  "kernelspec": {
   "display_name": "Python 3",
   "language": "python",
   "name": "python3"
  },
  "language_info": {
   "codemirror_mode": {
    "name": "ipython",
    "version": 3
   },
   "file_extension": ".py",
   "mimetype": "text/x-python",
   "name": "python",
   "nbconvert_exporter": "python",
   "pygments_lexer": "ipython3",
   "version": "3.6.5"
  }
 },
 "nbformat": 4,
 "nbformat_minor": 2
}
