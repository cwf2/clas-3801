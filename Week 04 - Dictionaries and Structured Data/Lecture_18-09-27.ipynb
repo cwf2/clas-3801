{
 "cells": [
  {
   "cell_type": "markdown",
   "metadata": {},
   "source": [
    "# Tues, 27 Sept. 2018\n",
    "\n",
    "Continuing text analysis intro. Dictionaries and complex data types."
   ]
  },
  {
   "cell_type": "markdown",
   "metadata": {},
   "source": [
    "## Dictionaries\n",
    "\n",
    "Last week we learned about two data types that *contain other values*: **lists**, which contain an ordered sequence of items, and **strings** which contain an ordered sequence of characters. This week we introduce **dictionaries**, another data type that functions as a container. But order is not the organizing principal in this case:\n",
    "\n",
    "A **dictionary** is a collection of key-value pairs. That means that each **value** in the dictionary has a unique **key** associated with it.\n",
    "\n",
    " - keys and values can be any data type\n",
    " - keys and values are associated using the colon (`:`)\n",
    " - key-value pairs are separated by commas\n",
    " - the whole dictionary is wrapped in curly braces (`{}`)\n",
    " \n",
    " \n",
    "**Example:**\n",
    "\n",
    "```python\n",
    "results = {\n",
    "    'PC': 22,\n",
    "    'Lib': 21,\n",
    "    'PA': 3,\n",
    "    'Grn': 3,\n",
    "    'NDP': 0,\n",
    "}\n",
    "```\n",
    "\n",
    "<div class=\"alert alert-info\" style=\"margin:1em 2em;\">\n",
    "⚠️ The order of the values is not particularly important. You can add key-value pairs in any order and the resulting dictionary will be the same. By default, Python will tend to keep the keys alphabetized, but that's mostly just for convenience in debugging code.\n",
    "</div>"
   ]
  },
  {
   "cell_type": "code",
   "execution_count": null,
   "metadata": {},
   "outputs": [],
   "source": []
  },
  {
   "cell_type": "markdown",
   "metadata": {},
   "source": [
    "### Checking dictionary size\n",
    "\n",
    "As with lists and strings, you can check the number of things in a dictionary using `len()`. Note that for dictionaries, this returns the number of **keys**.\n",
    "\n",
    "```python\n",
    "# number of parties for which we have results\n",
    "len(results)\n",
    "```"
   ]
  },
  {
   "cell_type": "code",
   "execution_count": null,
   "metadata": {},
   "outputs": [],
   "source": []
  },
  {
   "cell_type": "markdown",
   "metadata": {},
   "source": [
    "## Retrieving values\n",
    "\n",
    "To retrieve a value from the dictionary, you must provide the appropriate key. Put it in square brackets after the dictionary name, just as you would retrieve an item from a list:\n",
    "\n",
    "**Example:**\n",
    "\n",
    "```python\n",
    "results['PC']\n",
    "```"
   ]
  },
  {
   "cell_type": "code",
   "execution_count": null,
   "metadata": {},
   "outputs": [],
   "source": []
  },
  {
   "cell_type": "markdown",
   "metadata": {},
   "source": [
    "<div class=\"alert alert-warning\" style=\"margin:1em 2em\">\n",
    "<h4>⚠️ KeyError</h4>\n",
    "<p>\n",
    "    If you ask the dictionary for a key that doesn't exist in the dictionary, **your program will crash**.\n",
    "</p>\n",
    "</div>\n",
    "\n",
    "**Example:**\n",
    "```python\n",
    "results['PQ']\n",
    "```"
   ]
  },
  {
   "cell_type": "code",
   "execution_count": null,
   "metadata": {},
   "outputs": [],
   "source": []
  },
  {
   "cell_type": "markdown",
   "metadata": {},
   "source": [
    "To avoid this, you have some options.\n",
    "\n",
    "### Check whether the key exists\n",
    "\n",
    "Just like with lists, you can use the `in` keyword to check membership in the dictionary's keys.\n",
    "\n",
    "**Example:**\n",
    "```python\n",
    "if 'PQ' in results:\n",
    "    print('The Parti Québécois won ' + str(results['PQ']) + ' seats.')\n",
    "else:\n",
    "    print('The Parti Québécois did not run in the New Brunswick election.')\n",
    "```"
   ]
  },
  {
   "cell_type": "code",
   "execution_count": null,
   "metadata": {},
   "outputs": [],
   "source": []
  },
  {
   "cell_type": "markdown",
   "metadata": {},
   "source": [
    "### Use `.get()` to specify a fallback value\n",
    "\n",
    "As an alternative to putting the key square brackets, you can also use the `.get()` method to ask a dictionary for a particular key. Although it's a bit longer to type, `.get()` has the advantage that you can specify a default value: in case the key doesn't exist, `.get()` will return the default.\n",
    "\n",
    "😀 Then your program won't crash!\n",
    "\n",
    "**Example:**\n",
    "```python\n",
    "results.get('Reform Party', 0)\n",
    "```"
   ]
  },
  {
   "cell_type": "code",
   "execution_count": null,
   "metadata": {},
   "outputs": [],
   "source": []
  },
  {
   "cell_type": "markdown",
   "metadata": {},
   "source": [
    "### Use `.setdefault()` to add the key if it doesn't exist\n",
    "\n",
    "A related method is `.setdefault()`. Like `.get()`, it takes a key name to look for, and a default value in case the key does not exist in your dictionary. But unlike `.get()`, the `.setdefault()` method will **add the key and its value** to the dictionary.\n",
    "\n",
    "**Example:**\n",
    "```python\n",
    "# ⚠️ this changes the dictionary!\n",
    "results.setdefault('Ind', 0)\n",
    "```"
   ]
  },
  {
   "cell_type": "code",
   "execution_count": null,
   "metadata": {},
   "outputs": [],
   "source": []
  },
  {
   "cell_type": "markdown",
   "metadata": {},
   "source": [
    "## Iterating over dictionaries\n",
    "\n",
    "Just as with lists, you can use a `for` loop to iterate over the contents of a dictionary. In fact, you have a couple of options:\n",
    "\n",
    "### Iterate over the keys\n",
    "\n",
    "Use `for` ... `in` to iterate over the **keys** of the dictionary. By default, Python goes through the keys in alphabetic order.\n",
    "\n",
    "**Example:**\n",
    "```python\n",
    "for name in results:\n",
    "    seats = results[name]\n",
    "    print('The ' + name + ' party won ' + str(seats) + ' seats.')\n",
    "```"
   ]
  },
  {
   "cell_type": "code",
   "execution_count": null,
   "metadata": {},
   "outputs": [],
   "source": []
  },
  {
   "cell_type": "markdown",
   "metadata": {},
   "source": [
    "### Iterate over keys and values together\n",
    "\n",
    "Use the `.items()` method in your loop to take key-value pairs one at a time.\n",
    "\n",
    "**Example:**\n",
    "```python\n",
    "for name, seats in results.items():\n",
    "    if seats == 0:\n",
    "        msg = 'The ' + name + ' party won no seats.'\n",
    "    else:\n",
    "        msg = 'The ' + name + ' party won ' + str(seats) + ' seats.'\n",
    "    print(msg)\n",
    "```"
   ]
  },
  {
   "cell_type": "code",
   "execution_count": null,
   "metadata": {},
   "outputs": [],
   "source": []
  },
  {
   "cell_type": "markdown",
   "metadata": {},
   "source": [
    "### Other iterables: `.keys()` and `.values()`\n",
    "\n",
    "In addition to the `.items()` method, you can also use `.keys()` or `.values()` to produce an *iterable* version of just the keys or values. This might be useful in a loop, or certain other circumstances where you want to treat e.g. all the values as a collection.\n",
    "\n",
    "**Example:**\n",
    "```python\n",
    "most_seats = max(results.values())\n",
    "\n",
    "if most_seats >= 25:\n",
    "    print('One party has a majority')\n",
    "else:\n",
    "    print('We have a minority government.')\n",
    "```"
   ]
  },
  {
   "cell_type": "code",
   "execution_count": null,
   "metadata": {},
   "outputs": [],
   "source": []
  },
  {
   "cell_type": "markdown",
   "metadata": {},
   "source": [
    "## Use case: wordCount revisted\n",
    "\n",
    "Let's recreate the `wordCount()` function from a couple of weeks ago, using a dictionary.\n",
    "\n",
    "```python\n",
    "def wordCount(text, normalize=False):\n",
    "    '''count all the words in a text'''\n",
    "\n",
    "    # clean up and break into words\n",
    "    text = text.lower().strip()\n",
    "    words = text.split()\n",
    "\n",
    "    # dictionary to hold the tallies\n",
    "    wc = {}\n",
    "\n",
    "    # tally the words\n",
    "    for word in words:\n",
    "        wc[word] = wc.get(word, 0) + 1\n",
    "\n",
    "    # optional normalization\n",
    "    if normalize:\n",
    "        # get the total number of words\n",
    "        total = sum(wc.values())\n",
    "\n",
    "        # calculate normalized freq per 1000 words\n",
    "        for word in wc:\n",
    "            wc[word] = wc[word] / total\n",
    "            wc[word] = round(wc[word] * 1000, 2)\n",
    "    \n",
    "    return(wc)\n",
    "```"
   ]
  },
  {
   "cell_type": "code",
   "execution_count": null,
   "metadata": {},
   "outputs": [],
   "source": []
  },
  {
   "cell_type": "markdown",
   "metadata": {},
   "source": [
    "Test it out:\n",
    "\n",
    "```python\n",
    "text = '''\n",
    "    MRS. Rachel Lynde  lived just where the  Avonlea main road\n",
    "    dipped down into a little  hollow, fringed with alders and\n",
    "    ladies’ eardrops  and traversed  by a  brook that  had its\n",
    "    source away back  in the woods of the  old Cuthbert place;\n",
    "    it was reputed  to be an intricate, headlong  brook in its\n",
    "    earlier course  through those woods, with  dark secrets of\n",
    "    pool  and cascade;  but  by the  time  it reached  Lynde’s\n",
    "    Hollow it  was a quiet, well-conducted  little stream, for\n",
    "    not even a  brook could run past Mrs.  Rachel Lynde’s door\n",
    "    without due  regard for  decency and decorum;  it probably\n",
    "    was conscious that Mrs. Rachel  was sitting at her window,\n",
    "    keeping  a  sharp  eye  on everything  that  passed,  from\n",
    "    brooks and children  up, and that if  she noticed anything\n",
    "    odd or  out of place  she would  never rest until  she had\n",
    "    ferreted out the whys and wherefores thereof.\n",
    "'''\n",
    "\n",
    "# call the function, save the resulting dictionary\n",
    "wc = wordCount(text)\n",
    "\n",
    "# check some word counts\n",
    "for word in ['that', 'mrs.', 'a', 'for']:\n",
    "    print(wc[word], word)\n",
    "```"
   ]
  },
  {
   "cell_type": "code",
   "execution_count": null,
   "metadata": {},
   "outputs": [],
   "source": []
  },
  {
   "cell_type": "markdown",
   "metadata": {},
   "source": [
    "### Bonus: count the entire document\n",
    "\n",
    "Let's download the entire novel from the Internet Archive:\n",
    "\n",
    "```python\n",
    "import requests\n",
    "\n",
    "url = 'https://ia902604.us.archive.org/18/items/anneofgreengable00045gut/anne11.txt'\n",
    "anne = requests.get(url).text\n",
    "```"
   ]
  },
  {
   "cell_type": "code",
   "execution_count": null,
   "metadata": {},
   "outputs": [],
   "source": []
  },
  {
   "cell_type": "markdown",
   "metadata": {},
   "source": [
    "Check that it worked -- sometimes the online repositories get angry if we all try to download the same text at once.\n",
    "\n",
    "```python\n",
    "# check first hundred chars\n",
    "print(anne[:100])\n",
    "```"
   ]
  },
  {
   "cell_type": "code",
   "execution_count": null,
   "metadata": {},
   "outputs": [],
   "source": []
  },
  {
   "cell_type": "markdown",
   "metadata": {},
   "source": [
    "If all's well, then proceed with counting the words:\n",
    "\n",
    "```python\n",
    "# count words\n",
    "wc = wordCount(anne)\n",
    "\n",
    "# sort by value\n",
    "words = sorted(wc, key=wc.get, reverse=True)\n",
    "\n",
    "# show top ten words\n",
    "for word in words[:10]:\n",
    "    print(wc[word], word)\n",
    "```"
   ]
  },
  {
   "cell_type": "code",
   "execution_count": null,
   "metadata": {},
   "outputs": [],
   "source": []
  },
  {
   "cell_type": "markdown",
   "metadata": {},
   "source": [
    "# Complex data types\n",
    "\n",
    "As we've seen, lists and dictionaries can contain other data types, like strings, numbers, Boolean values, etc. They can also contain **other lists or dictionaries**. For example, we could have a **list of lists**, or a **list of dictionaries**, or even a **dictionary whose values are lists or dictionaries**.\n",
    "\n",
    "\n",
    "### 😕 Wait, why would anyone do that??\n",
    "\n",
    "These **complex data structures** are more common (and useful) than you might guess. A **list of lists**, for example, is really good for representing a **table of values**. For example, my fitbit checks my heart rate five times a day for a week:\n",
    "\n",
    "<table class=\"table\">\n",
    "<caption>Heart Rate, 1–7 Sept.</caption>\n",
    "    <thead>\n",
    "    </thead>\n",
    "    <tbody>\n",
    "<tr>\n",
    "    <th>01-09-2018</th>\n",
    "<td>73</td>\n",
    "<td>74</td>\n",
    "<td>71</td>\n",
    "<td>72</td>\n",
    "<td>73</td>\n",
    "</tr>\n",
    "<tr>\n",
    "<th>02-09-2018</th>\n",
    "<td>70</td>\n",
    "<td>70</td>\n",
    "<td>70</td>\n",
    "<td>71</td>\n",
    "<td>71</td></tr>\n",
    "<tr>\n",
    "<th>03-09-2018</th>\n",
    "<td>73</td>\n",
    "<td>76</td>\n",
    "<td>74</td>\n",
    "<td>76</td>\n",
    "<td>73</td>\n",
    "</tr>\n",
    "<tr>\n",
    "<th>04-09-2018</th>\n",
    "<td>77</td>\n",
    "<td>79</td>\n",
    "<td>79</td>\n",
    "<td>79</td>\n",
    "<td>76</td>\n",
    "</tr>\n",
    "<tr>\n",
    "<th>05-09-2018</th>    \n",
    "<td>70</td>\n",
    "<td>69</td>\n",
    "<td>66</td>\n",
    "<td>69</td>\n",
    "<td>69</td>\n",
    "</tr>\n",
    "<tr>\n",
    "    <th>06-09-2018</th>    \n",
    "<td>77</td>\n",
    "<td>76</td>\n",
    "<td>77</td>\n",
    "<td>78</td>\n",
    "<td>81</td>\n",
    "</tr>\n",
    "<tr>\n",
    "        <th>07-09-2018</th>\n",
    "<td>70</td>\n",
    "<td>69</td>\n",
    "<td>69</td>\n",
    "<td>70</td>\n",
    "<td>68</td>\n",
    "</tr>\n",
    "    </tbody>\n",
    "</table>\n",
    "\n",
    "I can represent each row—each day in the chart—as a list of integer values. The whole week is represented as a list of rows, i.e. a list of lists.\n",
    "\n",
    "**Example:**\n",
    "\n",
    "```python\n",
    "hr = [\n",
    "    [73, 74, 71, 72, 73,],\n",
    "    [70, 70, 70, 71, 71,],\n",
    "    [73, 76, 74, 76, 73,],\n",
    "    [77, 79, 79, 79, 76,],\n",
    "    [70, 69, 66, 69, 69,],\n",
    "    [77, 76, 77, 78, 81,],\n",
    "    [70, 69, 69, 70, 68,],\n",
    "]\n",
    "```"
   ]
  },
  {
   "cell_type": "code",
   "execution_count": null,
   "metadata": {},
   "outputs": [],
   "source": []
  },
  {
   "cell_type": "markdown",
   "metadata": {},
   "source": [
    "### Getting a row from a list of lists\n",
    "\n",
    "I can get specific days out of the chart by slicing the outer list. The result is a list.\n",
    "\n",
    "**Example:**\n",
    "\n",
    "```python\n",
    "# day 3\n",
    "hr[2]\n",
    "```"
   ]
  },
  {
   "cell_type": "code",
   "execution_count": null,
   "metadata": {},
   "outputs": [],
   "source": []
  },
  {
   "cell_type": "markdown",
   "metadata": {},
   "source": [
    "And I can use it like a list.\n",
    "\n",
    "**Example:**\n",
    "\n",
    "```python\n",
    "# get average heart rate for day 2\n",
    "avg_hr = sum(hr[1]) / len(hr[1])\n",
    "print('Avg hr =', avg_hr)\n",
    "```"
   ]
  },
  {
   "cell_type": "code",
   "execution_count": null,
   "metadata": {},
   "outputs": [],
   "source": []
  },
  {
   "cell_type": "markdown",
   "metadata": {},
   "source": [
    "**Another example:**\n",
    "```python\n",
    "# iterate over all values in day 3\n",
    "total_active = 0\n",
    "\n",
    "for rate in hr[2]:\n",
    "    if rate > 90:\n",
    "        total_active = total_active + 1\n",
    "\n",
    "print(total_active, ' active sessions today.')\n",
    "```"
   ]
  },
  {
   "cell_type": "code",
   "execution_count": null,
   "metadata": {},
   "outputs": [],
   "source": []
  },
  {
   "cell_type": "markdown",
   "metadata": {},
   "source": [
    "### Getting one value from a list of lists\n",
    "\n",
    "If I want to pull a specific value, I need 👉🏻 **two sets of square brackets**: one for the outer list and a second for the inner list.\n",
    "\n",
    "**Example:**\n",
    "\n",
    "```python\n",
    "# get the first value from day 4\n",
    "rate = hr[3][0]\n",
    "print(rate)\n",
    "```"
   ]
  },
  {
   "cell_type": "code",
   "execution_count": null,
   "metadata": {},
   "outputs": [],
   "source": []
  },
  {
   "cell_type": "markdown",
   "metadata": {},
   "source": [
    "### Iterating over all the individual values\n",
    "\n",
    "If I want to take each value from the whole chart in turn, I need 👉🏻 **two `for` loops**: one for the outer list (i.e. taking each row in turn) and one for the inner list (i.e. each column in the row).\n",
    "\n",
    "**Example:**\n",
    "\n",
    "```python\n",
    "# count measurements with low hr\n",
    "total_lazy = 0\n",
    "\n",
    "# loop over day, measurement\n",
    "for day in hr:\n",
    "    for rate in day:\n",
    "        \n",
    "        # check each measurement\n",
    "        if rate < 70:\n",
    "            total_lazy = total_lazy + 1\n",
    "\n",
    "# print total\n",
    "print(total_lazy, ' inactive sessions this week.')\n",
    "```"
   ]
  },
  {
   "cell_type": "code",
   "execution_count": null,
   "metadata": {},
   "outputs": [],
   "source": []
  },
  {
   "cell_type": "markdown",
   "metadata": {},
   "source": [
    "## Dictionaries as records\n",
    "\n",
    "Another common use of complex data structures is to use a dictionary like a **record**, that is, a collection of labelled data that you might want to collect for each of a number of objects, events, or samples.\n",
    "\n",
    "\n",
    "### Case study: two children's authors\n",
    "\n",
    "Let's say we want to compare Lucy Maud Montgomery's children's writing to that of E. Nesbit. We might have several books that we want to look at, with some important **metadata** for each one."
   ]
  },
  {
   "cell_type": "markdown",
   "metadata": {},
   "source": [
    "<table class=\"table\"> <thead><col><col><col width=\"10%\"><col width=\"40%\"> <tr> <th>author</th> <th>title</th> <th>year</th> <th>url</th> </tr> </thead> <tbody> <tr> <td>Montgomery</td> <td><em>Anne of Green Gables</em></td> <td>1908</td> <td>http://mirror.csclub.uwaterloo.ca/gutenberg/4/45/45.txt</td> </tr> <tr> <td>Montgomery</td> <td><em>Anne of Avonlea</em></td> <td>1909</td> <td>http://mirror.csclub.uwaterloo.ca/gutenberg/4/47/47.txt</td> </tr> <tr> <td>Montgomery</td> <td><em>Anne of the Island</em></td> <td>1915</td> <td>http://mirror.csclub.uwaterloo.ca/gutenberg/5/51/51.txt</td> </tr> <tr> <td>Montgomery</td> <td><em>Anne's House of Dreams</em></td> <td>1917</td> <td>http://mirror.csclub.uwaterloo.ca/gutenberg/5/4/544/544.txt</td> </tr> <tr> <td>Montgomery</td> <td><em>Rilla of Ingleside</em></td> <td>1921</td> <td>http://mirror.csclub.uwaterloo.ca/gutenberg/3/7/9/3796/3796.txt</td> </tr> <tr> <td>Montgomery</td> <td><em>Rainbow Valley</em></td> <td>1919</td> <td>http://mirror.csclub.uwaterloo.ca/gutenberg/5/3/4/5343/5343-0.txt</td> </tr> <tr> <td>Nesbit</td> <td><em>The Enchanted Castle<em></td> <td>1907</td> <td>http://mirror.csclub.uwaterloo.ca/gutenberg/3/5/3/3536/3536.txt</td> </tr> <tr> <td>Nesbit</td> <td><em>The Railway Children</em></td> <td>1906</td> <td>http://mirror.csclub.uwaterloo.ca/gutenberg/1/8/7/1874/1874-0.txt</td> </tr> <tr> <td>Nesbit</td> <td><em>The Story of the Treasure Seekers</em></td> <td>1899</td> <td>http://mirror.csclub.uwaterloo.ca/gutenberg/7/7/770/770-0.txt</td> </tr> <tr> <td>Nesbit</td> <td><em>Five Children and It</em></td> <td>1902</td> <td>http://mirror.csclub.uwaterloo.ca/gutenberg/1/7/3/1/17314/17314.txt</td> </tr> <tr> <td>Nesbit</td> <td><em>The Phoenix and the Carpet</em></td> <td>1904</td> <td>http://mirror.csclub.uwaterloo.ca/gutenberg/8/3/836/836-0.txt</td> </tr> <tr> <td>Nesbit</td> <td><em>The Story of the Amulet</em></td> <td>1906</td> <td>http://mirror.csclub.uwaterloo.ca/gutenberg/8/3/837/837-0.txt</td> </tr> </tbody></table>"
   ]
  },
  {
   "cell_type": "markdown",
   "metadata": {},
   "source": [
    "This is like a set of **records**. Each record represents a book available online, and there are labelled **data fields** we might want to fill in for each record. A dictionary is great for this: the **keys** become the **field labels** and the **values** are the data. With one dictionary per book, the corpus becomes a **list of dictionaries**.\n",
    "\n",
    "**Example:**\n",
    "\n",
    "```python\n",
    "corpus = [\n",
    "    {\n",
    "        \"author\": \"Montgomery\",\n",
    "        \"title\": \"Anne of Green Gables\",\n",
    "        \"date\": 1908,\n",
    "        \"url\": \"http://mirror.csclub.uwaterloo.ca/gutenberg/4/45/45.txt\",\n",
    "    },\n",
    "    {\n",
    "        \"author\": \"Montgomery\",\n",
    "        \"title\": \"Anne of Avonlea\",\n",
    "        \"date\": 1909,\n",
    "        \"url\": \"http://mirror.csclub.uwaterloo.ca/gutenberg/4/47/47.txt\",\n",
    "    },\n",
    "    {\n",
    "        \"author\": \"Montgomery\",\n",
    "        \"title\": \"Anne of the Island\",\n",
    "        \"date\": 1915,\n",
    "        \"url\": \"http://mirror.csclub.uwaterloo.ca/gutenberg/5/51/51.txt\",\n",
    "    },\n",
    "    {\n",
    "        \"author\": \"Montgomery\",\n",
    "        \"title\": \"Anne's House of Dreams\",\n",
    "        \"date\": 1917,\n",
    "        \"url\": \"http://mirror.csclub.uwaterloo.ca/gutenberg/5/4/544/544.txt\",\n",
    "    },\n",
    "    {\n",
    "        \"author\": \"Montgomery\",\n",
    "        \"title\": \"Rilla of Ingleside\",\n",
    "        \"date\": 1921,\n",
    "        \"url\": \"http://mirror.csclub.uwaterloo.ca/gutenberg/3/7/9/3796/3796.txt\",\n",
    "    },\n",
    "    {\n",
    "        \"author\": \"Montgomery\",\n",
    "        \"title\": \"Rainbow Valley\",\n",
    "        \"date\": 1919,\n",
    "        \"url\": \"http://mirror.csclub.uwaterloo.ca/gutenberg/5/3/4/5343/5343-0.txt\",\n",
    "    },\n",
    "    {\n",
    "        \"author\": \"Nesbit\",\n",
    "        \"title\": \"The Enchanted Castle\",\n",
    "        \"date\": 1907,\n",
    "        \"url\": \"http://mirror.csclub.uwaterloo.ca/gutenberg/3/5/3/3536/3536.txt\",\n",
    "    },\n",
    "    {\n",
    "        \"author\": \"Nesbit\",\n",
    "        \"title\": \"The Railway Children\",\n",
    "        \"date\": 1906,\n",
    "        \"url\": \"http://mirror.csclub.uwaterloo.ca/gutenberg/1/8/7/1874/1874-0.txt\",\n",
    "    },\n",
    "    {\n",
    "        \"author\": \"Nesbit\",\n",
    "        \"title\": \"The Story of the Treasure Seekers\",\n",
    "        \"date\": 1899,\n",
    "        \"url\": \"http://mirror.csclub.uwaterloo.ca/gutenberg/7/7/770/770-0.txt\",\n",
    "    },\n",
    "    {\n",
    "        \"author\": \"Nesbit\",\n",
    "        \"title\": \"Five Children and It\",\n",
    "        \"date\": 1902,\n",
    "        \"url\": \"http://mirror.csclub.uwaterloo.ca/gutenberg/1/7/3/1/17314/17314.txt\",\n",
    "    },\n",
    "    {\n",
    "        \"author\": \"Nesbit\",\n",
    "        \"title\": \"The Phoenix and the Carpet\",\n",
    "        \"date\": 1904,\n",
    "        \"url\": \"http://mirror.csclub.uwaterloo.ca/gutenberg/8/3/836/836-0.txt\",\n",
    "    },\n",
    "    {\n",
    "        \"author\": \"Nesbit\",\n",
    "        \"title\": \"The Story of the Amulet\",\n",
    "        \"date\": 1906,\n",
    "        \"url\": \"http://mirror.csclub.uwaterloo.ca/gutenberg/8/3/837/837-0.txt\",\n",
    "    },\n",
    "]\n",
    "```"
   ]
  },
  {
   "cell_type": "code",
   "execution_count": null,
   "metadata": {},
   "outputs": [],
   "source": []
  },
  {
   "cell_type": "markdown",
   "metadata": {},
   "source": [
    "### Try it out:\n",
    "\n",
    "How many books are in the corpus?\n",
    "\n",
    "```python\n",
    "len(corpus)\n",
    "```"
   ]
  },
  {
   "cell_type": "code",
   "execution_count": null,
   "metadata": {},
   "outputs": [],
   "source": []
  },
  {
   "cell_type": "markdown",
   "metadata": {},
   "source": [
    "What's the title of the third book?\n",
    "\n",
    "```python\n",
    "corpus[2]['title']\n",
    "```"
   ]
  },
  {
   "cell_type": "code",
   "execution_count": null,
   "metadata": {},
   "outputs": [],
   "source": []
  },
  {
   "cell_type": "markdown",
   "metadata": {},
   "source": [
    "Iterate over the whole corpus and print out just the dates:\n",
    "\n",
    "```python\n",
    "for book in corpus:\n",
    "    print(book['date'])\n",
    "```"
   ]
  },
  {
   "cell_type": "code",
   "execution_count": null,
   "metadata": {},
   "outputs": [],
   "source": []
  },
  {
   "cell_type": "markdown",
   "metadata": {},
   "source": [
    "## Bonus: authorship attribution with Montgomery and Nesbit\n",
    "\n",
    "Just for fun, let's see if we can tell Montgomery and Nesbit apart using function words. In the code below, I'm going to iterate over each of the books in `corpus` and:\n",
    " - download the complete text from the url\n",
    " - calculate word counts from the text\n",
    " - save counts for 'the', 'and', 'to', and 'a' to a new table\n",
    " \n",
    "**Example:**\n",
    "\n",
    "```python\n",
    "# empty list for function word counds\n",
    "results = []\n",
    "\n",
    "# words to check\n",
    "my_words = ['and', 'the', 'to', 'a']\n",
    "\n",
    "# check each book in turn\n",
    "for book in corpus:\n",
    "    \n",
    "    # download and do complete word count\n",
    "    print('Downloading ' + book['title'] + '...')\n",
    "    \n",
    "    fulltext = requests.get(book['url']).text\n",
    "    wc = wordCount(fulltext, normalize=True)\n",
    "    \n",
    "    # check the words of interest\n",
    "    these_counts = []\n",
    "    for word in my_words:\n",
    "        these_counts.append(wc[word])\n",
    "        \n",
    "    # add the results to the master table\n",
    "    results.append(these_counts)\n",
    "```"
   ]
  },
  {
   "cell_type": "code",
   "execution_count": null,
   "metadata": {},
   "outputs": [],
   "source": []
  },
  {
   "cell_type": "markdown",
   "metadata": {},
   "source": [
    "What do the results look like?\n",
    "\n",
    "**Example:**\n",
    "```python\n",
    "results\n",
    "```"
   ]
  },
  {
   "cell_type": "code",
   "execution_count": null,
   "metadata": {},
   "outputs": [],
   "source": []
  },
  {
   "cell_type": "markdown",
   "metadata": {},
   "source": [
    "### Graphing the results: 'and' versus 'the'\n",
    "\n",
    "Let's try a graphical approach:\n",
    "\n",
    "```python\n",
    "from matplotlib import pyplot\n",
    "%matplotlib inline\n",
    "\n",
    "# x values are 'and' counts, y values are 'the' counts\n",
    "x = []\n",
    "y = []\n",
    "\n",
    "for row in results:\n",
    "    x.append(row[0])\n",
    "    y.append(row[1])\n",
    "\n",
    "# plot the first six books (Montgomery) in red\n",
    "pyplot.plot(x[:6], y[:6], marker='o', color='r', linestyle='')\n",
    "\n",
    "# plot the second six books (Nesbit) in green\n",
    "pyplot.plot(x[:6], y[:6], marker='o', color='g', linestyle='')\n",
    "```"
   ]
  },
  {
   "cell_type": "code",
   "execution_count": null,
   "metadata": {},
   "outputs": [],
   "source": []
  }
 ],
 "metadata": {
  "kernelspec": {
   "display_name": "Python 3",
   "language": "python",
   "name": "python3"
  },
  "language_info": {
   "codemirror_mode": {
    "name": "ipython",
    "version": 3
   },
   "file_extension": ".py",
   "mimetype": "text/x-python",
   "name": "python",
   "nbconvert_exporter": "python",
   "pygments_lexer": "ipython3",
   "version": "3.6.5"
  }
 },
 "nbformat": 4,
 "nbformat_minor": 2
}
