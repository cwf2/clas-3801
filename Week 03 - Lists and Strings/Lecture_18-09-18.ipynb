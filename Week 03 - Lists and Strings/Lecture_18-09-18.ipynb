{
 "cells": [
  {
   "cell_type": "markdown",
   "metadata": {},
   "source": [
    "# Thurs, 13 Sept. 2018\n",
    "\n",
    "Continuing text analysis intro. Our lab is Stylometry in Latin Poetry.\n",
    "\n",
    "Some of the examples reuse `students` and `getJunkFood()` from Tuesday's lab.\n",
    "```python\n",
    "# reuse the list of students from Tuesday\n",
    "students = ['Sam', 'Connor', 'Maya', 'Makoto', 'Miranda']\n",
    "\n",
    "# reuse the junkFood function as well\n",
    "def getJunkFood(word, symbol='🌮'):\n",
    "    '''turn word into food emojis'''\n",
    "    junkfood = symbol * len(word)\n",
    "\n",
    "    return junkfood\n",
    "```"
   ]
  },
  {
   "cell_type": "code",
   "execution_count": null,
   "metadata": {},
   "outputs": [],
   "source": []
  },
  {
   "cell_type": "markdown",
   "metadata": {},
   "source": [
    "## String methods\n",
    "\n",
    "This first part of the course is largely devoted to textual analysis. We've already seen that Python uses the `str` type to handle text as a sequence of characters. We've also used the `len()` function to check the length of a string. In fact, Python has a whole toolbox of useful tricks that it knows how to do on strings.\n",
    "\n",
    "<div class=\"alert alert-info\" style=\"margin:1em 2em;\">\n",
    "Python tends to treat these actions as *things strings know how to do*. The syntax is often <code>string<strong>.verb()</strong></code>, where `string` is a string literal or a variable containing a string, and `verb()` is a **method** (i.e. an action) strings know how to do in Python.\n",
    "</div>\n",
    "\n",
    "### Change case\n",
    "\n",
    "Use the methods `.upper()`, `.lower()`, or `.title()` to return a copy of the string with different case.\n",
    "\n",
    "```python\n",
    "text = 'dr. strangelove or: how i learned to stop worrying and love the bomb'\n",
    "\n",
    "print(' original: ' + text)\n",
    "print()\n",
    "print('uppercase: ' + text.upper())\n",
    "print('lowercase: ' + text.lower())\n",
    "print('titlecase: ' + text.title())\n",
    "```"
   ]
  },
  {
   "cell_type": "code",
   "execution_count": null,
   "metadata": {},
   "outputs": [],
   "source": []
  },
  {
   "cell_type": "markdown",
   "metadata": {},
   "source": [
    "### Remove padding\n",
    "\n",
    "The method `.strip()` returns a copy of the original string with leading and trailing spaces removed. By default, it strips all whitespace, including <kbd>tab</kbd>, <kbd>return</kbd>, etc.\n",
    "\n",
    "For example, imagine we've downloaded a textfile from Project Gutenberg and it uses spaces to centre text:\n",
    "\n",
    "```python\n",
    "chap = '                                CHAPTER ONE                                     '\n",
    "print('original:', len(chap))\n",
    "print('stripped:', len(chap.strip()))\n",
    "```"
   ]
  },
  {
   "cell_type": "code",
   "execution_count": null,
   "metadata": {},
   "outputs": [],
   "source": []
  },
  {
   "cell_type": "markdown",
   "metadata": {},
   "source": [
    "### Search for substrings\n",
    "\n",
    "There are a couple of ways to ask Python whether one string (a character, a word, or longer...) can be found inside a longer string.\n",
    "\n",
    "For the following, assume `text` contains the Dr. Strangelove text from above."
   ]
  },
  {
   "cell_type": "markdown",
   "metadata": {},
   "source": [
    "**Is the substring in there, or not: `in`**\n",
    "\n",
    "The operator `in` will return `True` or `False`, depending on whether the second string is a substring of the first:\n",
    "\n",
    "```python\n",
    "# prints True\n",
    "print('love' in text)\n",
    "\n",
    "# prints False\n",
    "print('tacos' in text)\n",
    "```"
   ]
  },
  {
   "cell_type": "code",
   "execution_count": null,
   "metadata": {},
   "outputs": [],
   "source": []
  },
  {
   "cell_type": "markdown",
   "metadata": {},
   "source": [
    "**Where is it: `.find()`**\n",
    "\n",
    "Once you know a substring is in there, use `.find()` to return the position of its first character within the longer string.\n",
    "\n",
    "For example, the first occurrence of 'love' in `text` begins with the 12th character. So naturally, `text.find('love')` will return `11`.\n",
    "\n",
    "```python\n",
    "# the first occurrence of 'love' begins with the 12th character.\n",
    "print(text.find('love'))\n",
    "```"
   ]
  },
  {
   "cell_type": "code",
   "execution_count": null,
   "metadata": {},
   "outputs": [],
   "source": []
  },
  {
   "cell_type": "markdown",
   "metadata": {},
   "source": [
    "What's the use of that? Well, one thing you can do is subset the string using that number, in order to, say, extract just the text before or after it. We might do more with this later.\n",
    "\n",
    "```python\n",
    "# get the position\n",
    "i = text.find('love')\n",
    "\n",
    "# print everything before i\n",
    "print(text[:i])\n",
    "\n",
    "# print everything from i on\n",
    "print(text[i:])\n",
    "```"
   ]
  },
  {
   "cell_type": "code",
   "execution_count": null,
   "metadata": {},
   "outputs": [],
   "source": []
  },
  {
   "cell_type": "markdown",
   "metadata": {},
   "source": [
    "**How many times: use `.count()`**\n",
    "\n",
    "To count how many times a certain string occurs inside another, use `.count()`:\n",
    "\n",
    "```python\n",
    "paris = 'paris in the the the the the the the the spring'\n",
    "print(paris.count('the'))\n",
    "```"
   ]
  },
  {
   "cell_type": "code",
   "execution_count": null,
   "metadata": {},
   "outputs": [],
   "source": []
  },
  {
   "cell_type": "markdown",
   "metadata": {},
   "source": [
    "### Replace substrings\n",
    "\n",
    "You can use the `.replace()` method to return a copy of the string with custom edits. `.replace()` takes two arguments, the substring to remove, and the substitution to insert in its place. By default, it will replace every occurrence.\n",
    "\n",
    "**Examples**\n",
    "\n",
    "```python\n",
    "# replace characters\n",
    "print(text.replace('o', 'x'))\n",
    "\n",
    "# remove chars by replacing with ''\n",
    "print(text.replace(' ', ''))\n",
    "\n",
    "# replace words (or longer)\n",
    "print(text.replace('love', '----'))\n",
    "```"
   ]
  },
  {
   "cell_type": "code",
   "execution_count": null,
   "metadata": {},
   "outputs": [],
   "source": []
  },
  {
   "cell_type": "markdown",
   "metadata": {},
   "source": [
    "### check whether the string matches simple patterns\n",
    "\n",
    "Use `.startswith()` and `.endswith()` to check whether a string matches some simple pattern. These methods return `True` or `False`, so they're useful in loops and `if` statements.\n",
    "\n",
    "One practical use is checking a list of filenames to see which ones have a particular file extension.\n",
    "\n",
    "**Check endings**\n",
    "\n",
    "```python\n",
    "# filter out students whose names don't end in 'a'\n",
    "for student in students:\n",
    "    if student.endswith('a'):\n",
    "        print(student)\n",
    "    else:\n",
    "        print(getJunkFood(student, '🥦'))\n",
    "```"
   ]
  },
  {
   "cell_type": "code",
   "execution_count": null,
   "metadata": {},
   "outputs": [],
   "source": []
  },
  {
   "cell_type": "markdown",
   "metadata": {},
   "source": [
    "**Check beginnings**\n",
    "\n",
    "```python\n",
    "# filter out students whose names don't start with 'M'\n",
    "for student in students:\n",
    "    if student.startswith('M'):\n",
    "        print(student)\n",
    "    else:\n",
    "        print(getJunkFood(student, '🍕'))\n",
    "```"
   ]
  },
  {
   "cell_type": "code",
   "execution_count": null,
   "metadata": {},
   "outputs": [],
   "source": []
  },
  {
   "cell_type": "markdown",
   "metadata": {},
   "source": [
    "**Check middles**\n",
    "\n",
    "If you're looking for something in the middle, use `in`:\n",
    "\n",
    "```python\n",
    "# filter out students whose names don't contain an 'o'\n",
    "for student in students:\n",
    "    if 'o' in student:\n",
    "        print(student)\n",
    "    else:\n",
    "        print(getJunkFood(student, '🍦'))\n",
    "```"
   ]
  },
  {
   "cell_type": "code",
   "execution_count": null,
   "metadata": {},
   "outputs": [],
   "source": []
  }
 ],
 "metadata": {
  "kernelspec": {
   "display_name": "Python 3",
   "language": "python",
   "name": "python3"
  },
  "language_info": {
   "codemirror_mode": {
    "name": "ipython",
    "version": 3
   },
   "file_extension": ".py",
   "mimetype": "text/x-python",
   "name": "python",
   "nbconvert_exporter": "python",
   "pygments_lexer": "ipython3",
   "version": "3.6.5"
  }
 },
 "nbformat": 4,
 "nbformat_minor": 2
}
