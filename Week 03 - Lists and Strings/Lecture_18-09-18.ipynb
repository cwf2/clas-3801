{
 "cells": [
  {
   "cell_type": "markdown",
   "metadata": {},
   "source": [
    "# Tues, 18 Sept. 2018\n",
    "\n",
    "Continuing text analysis intro. Today's discussion considers readings by Christian Bök and David W. Packard on the subject of sound and sense.\n",
    "\n",
    "Some of the examples reuse `getJunkFood()` from last week's lab:\n",
    "```python\n",
    "def getJunkFood(word, symbol='🌮'):\n",
    "    '''turn word into food emojis'''\n",
    "    junkfood = symbol * len(word)\n",
    "\n",
    "    return junkfood\n",
    "```"
   ]
  },
  {
   "cell_type": "code",
   "execution_count": null,
   "metadata": {},
   "outputs": [],
   "source": []
  },
  {
   "cell_type": "markdown",
   "metadata": {},
   "source": [
    "## Lists\n",
    "\n",
    "Lists are one of several Python data types that can *contain* multiple values. A list is:\n",
    "\n",
    " - a **sequence** (order matters)\n",
    " - **mutable** (you can modify it)\n",
    " - **heterogeneous** (the items it contains don't all have to have the same type)\n",
    " - internally separated by **commas** (comma after final element is optional)\n",
    " - wrapped in **square brackets**\n",
    " \n",
    "**Example:**\n",
    "\n",
    "```python\n",
    "# a list of strings\n",
    "students = [ 'Austin', 'Makoto', 'Brydie', 'Sam', 'Anna', 'Connor', 'Miranda', 'Karston', 'Alice', 'Daniel', 'Maya']\n",
    "```\n",
    "\n",
    "**OR:**\n",
    "```python\n",
    "# a list of strings\n",
    "students = [\n",
    "    'Austin', \n",
    "    'Makoto', \n",
    "    'Brydie', \n",
    "    'Sam', \n",
    "    'Anna', \n",
    "    'Connor', \n",
    "    'Miranda', \n",
    "    'Karston', \n",
    "    'Alice', \n",
    "    'Daniel', \n",
    "    'Maya',\n",
    "]\n",
    "```\n",
    "\n",
    "<div class=\"alert alert-success\" style=\"margin:1em 2em;\">\n",
    "🤔 What do the contents look like?\n",
    "</div>"
   ]
  },
  {
   "cell_type": "code",
   "execution_count": 1,
   "metadata": {},
   "outputs": [],
   "source": [
    "students = [\n",
    "    'Austin', \n",
    "    'Makoto', \n",
    "    'Brydie', \n",
    "    'Sam', \n",
    "    'Anna', \n",
    "    'Connor', \n",
    "    'Miranda', \n",
    "    'Karston', \n",
    "    'Alice', \n",
    "    'Daniel', \n",
    "    'Maya',\n",
    "]"
   ]
  },
  {
   "cell_type": "markdown",
   "metadata": {},
   "source": [
    "### Indexing items in a list\n",
    "\n",
    "Now that they're in there, how do you access the items? Because they're **ordered**, you can get the item you want by specifying its position (or **index**) in the list. Use **square brackets** after the list's name. Remember that counting starts at zero in Python.\n",
    "\n",
    "**Example:**\n",
    "```python\n",
    "# sixth student in the list\n",
    "print(students[5])\n",
    "```\n",
    "\n",
    "**Negative indices count from the right:**\n",
    "\n",
    "```python\n",
    "# second-last student\n",
    "print(students[-2])\n",
    "```"
   ]
  },
  {
   "cell_type": "code",
   "execution_count": null,
   "metadata": {},
   "outputs": [],
   "source": []
  },
  {
   "cell_type": "markdown",
   "metadata": {},
   "source": [
    "### Slicing a list\n",
    "\n",
    "You can retrieve multiple items from a list by giving a range of indices. This is called a **slice**. Inside the square brackets, specify one or more of *start*, *stop*, *step*, separated by colons.\n",
    "\n",
    "**Examples:**\n",
    "```python\n",
    "# first four students\n",
    "print(students[:4])\n",
    "\n",
    "# fifth through the last student\n",
    "print(students[4:])\n",
    "\n",
    "# students two through six\n",
    "print(students[1:6])\n",
    "\n",
    "# every other student\n",
    "print(students[::2])\n",
    "```"
   ]
  },
  {
   "cell_type": "code",
   "execution_count": null,
   "metadata": {},
   "outputs": [],
   "source": []
  },
  {
   "cell_type": "markdown",
   "metadata": {},
   "source": [
    "### Iterating over a list\n",
    "\n",
    "One of the most useful things to do with a list is to loop over all its items. We've actually already done this a few times. Use `for`...`in`:\n",
    "```python\n",
    "for student in students:\n",
    "    print('Welcome, ' + student + '!')\n",
    "```"
   ]
  },
  {
   "cell_type": "code",
   "execution_count": null,
   "metadata": {},
   "outputs": [],
   "source": []
  },
  {
   "cell_type": "markdown",
   "metadata": {},
   "source": [
    "### List methods\n",
    "\n",
    "Python provides some built-in tools for common actions you might want to do with a list. Some of these are **functions**, like `len`. Others are **methods**, with a slightly different syntax.\n",
    "\n",
    "<div class=\"alert alert-info\" style=\"margin:1em 2em;\">\n",
    "<p>**Methods** are like functions, but instead of actions you do *to* an object, they're actions the object just *knows how to do* itself.</p>\n",
    "</div>\n",
    "\n",
    "<p>Calling a method is mostly like calling a function, but you start with the name of the object. Then you add a **dot**, plus the name of the method. Just as with functions, remember to add parentheses after the name.</p>\n",
    "\n",
    "**Function**\n",
    "\n",
    "```python\n",
    "# get the length\n",
    "print(len(students))\n",
    "```\n",
    "**Method**\n",
    "```python\n",
    "# add a new item: notice the method syntax\n",
    "students.append('Dr. Forstall')\n",
    "```\n",
    "\n",
    "<div class=\"alert alert-success\" style=\"margin:1em 2em;\">\n",
    "<p>🤔 Check the length again. Did it work?</p>\n",
    "<p>🤔 What is the index of the new item?</p>\n",
    "</div>"
   ]
  },
  {
   "cell_type": "code",
   "execution_count": 2,
   "metadata": {},
   "outputs": [
    {
     "data": {
      "text/plain": [
       "['Austin',\n",
       " 'Makoto',\n",
       " 'Brydie',\n",
       " 'Sam',\n",
       " 'Anna',\n",
       " 'Connor',\n",
       " 'Miranda',\n",
       " 'Karston',\n",
       " 'Alice',\n",
       " 'Daniel',\n",
       " 'Maya']"
      ]
     },
     "execution_count": 2,
     "metadata": {},
     "output_type": "execute_result"
    }
   ],
   "source": [
    "students"
   ]
  },
  {
   "cell_type": "code",
   "execution_count": 3,
   "metadata": {},
   "outputs": [
    {
     "data": {
      "text/plain": [
       "11"
      ]
     },
     "execution_count": 3,
     "metadata": {},
     "output_type": "execute_result"
    }
   ],
   "source": [
    "len(students)"
   ]
  },
  {
   "cell_type": "code",
   "execution_count": 4,
   "metadata": {},
   "outputs": [],
   "source": [
    "students.append('chris')"
   ]
  },
  {
   "cell_type": "code",
   "execution_count": 5,
   "metadata": {},
   "outputs": [
    {
     "data": {
      "text/plain": [
       "12"
      ]
     },
     "execution_count": 5,
     "metadata": {},
     "output_type": "execute_result"
    }
   ],
   "source": [
    "len(students)"
   ]
  },
  {
   "cell_type": "code",
   "execution_count": 6,
   "metadata": {},
   "outputs": [
    {
     "data": {
      "text/plain": [
       "['Austin',\n",
       " 'Makoto',\n",
       " 'Brydie',\n",
       " 'Sam',\n",
       " 'Anna',\n",
       " 'Connor',\n",
       " 'Miranda',\n",
       " 'Karston',\n",
       " 'Alice',\n",
       " 'Daniel',\n",
       " 'Maya',\n",
       " 'chris']"
      ]
     },
     "execution_count": 6,
     "metadata": {},
     "output_type": "execute_result"
    }
   ],
   "source": [
    "students"
   ]
  },
  {
   "cell_type": "markdown",
   "metadata": {},
   "source": [
    "### Sorting\n",
    "\n",
    "Several common tasks involve changing the order of a list.\n",
    "\n",
    "#### `reversed()`\n",
    "\n",
    "This returns a **copy** of the list in reverse order.\n",
    "\n",
    "```python\n",
    "for student in reversed(students):\n",
    "    print(student)\n",
    "```"
   ]
  },
  {
   "cell_type": "code",
   "execution_count": null,
   "metadata": {},
   "outputs": [],
   "source": []
  },
  {
   "cell_type": "markdown",
   "metadata": {},
   "source": [
    "#### `sorted()`\n",
    "\n",
    "This function returns a **copy** of the list in a new order (by default, alphabetical for strings and numerical for numbers). To sort in decreasing order, use the optional `reverse=True` flag.\n",
    "\n",
    "```python\n",
    "for student in sorted(students):\n",
    "    print(student)\n",
    "```"
   ]
  },
  {
   "cell_type": "code",
   "execution_count": null,
   "metadata": {},
   "outputs": [],
   "source": []
  },
  {
   "cell_type": "markdown",
   "metadata": {},
   "source": [
    "### Membership\n",
    "\n",
    "Another group of tasks you'll do a lot involves figuring out **whether**, **where**, or **how many times** a certain item appears in a list.\n",
    "\n",
    "#### Is it in there: `in`\n",
    "\n",
    "The keyword `in` is a **Boolean operator**, like `>`, `==` or `<`. If the thing on the left is an item in the list on the right, it returns `True`, otherwise, `False`.\n",
    "\n",
    "```python\n",
    "print('Anna' in students)\n",
    "```\n",
    "\n",
    "Because it returns a Boolean, it's useful in **conditionals**:\n",
    "```python\n",
    "if 'Tom Riddle' in students:\n",
    "    print('present')\n",
    "else:\n",
    "    print('absent')\n",
    "```"
   ]
  },
  {
   "cell_type": "code",
   "execution_count": null,
   "metadata": {},
   "outputs": [],
   "source": []
  },
  {
   "cell_type": "markdown",
   "metadata": {},
   "source": [
    "#### Where is it: `.index()`\n",
    "\n",
    "This **method** returns the index of the first occurrence of an item. ⚠️ Careful: If there's no match, you'll get an error.\n",
    "\n",
    "```python\n",
    "print(students.index('Connor'))\n",
    "```"
   ]
  },
  {
   "cell_type": "code",
   "execution_count": null,
   "metadata": {},
   "outputs": [],
   "source": []
  },
  {
   "cell_type": "markdown",
   "metadata": {},
   "source": [
    "#### How many: `.count()`\n",
    "\n",
    "This **method** returns the number of times the item occurs in the list. \n",
    "\n",
    "```python\n",
    "birds = ['duck', 'duck', 'duck', 'duck', 'duck', 'goose']\n",
    "print(birds.count('duck'))\n",
    "```"
   ]
  },
  {
   "cell_type": "code",
   "execution_count": null,
   "metadata": {},
   "outputs": [],
   "source": []
  },
  {
   "cell_type": "markdown",
   "metadata": {},
   "source": [
    "### Adding and removing items\n",
    "\n",
    "#### `.append()`\n",
    "\n",
    "This method adds a new item to the right end of the list. \n",
    "\n",
    "```python\n",
    "birds.append('heron')\n",
    "print(birds)\n",
    "```\n",
    "\n",
    "⚠️ Careful: if the thing you add is another list, you'll get a sublist. To add the elements of one list to another *one by one*, use `.extend()`."
   ]
  },
  {
   "cell_type": "code",
   "execution_count": null,
   "metadata": {},
   "outputs": [],
   "source": []
  },
  {
   "cell_type": "markdown",
   "metadata": {},
   "source": [
    "#### `del()`\n",
    "\n",
    "This removes item(s) by index, changing the list.\n",
    "\n",
    "```python\n",
    "authors = ['homer', 'apollonius', 'vergil', 'ovid', 'lucan']\n",
    "print(authors)\n",
    "\n",
    "# remove first two authors -- greek parser isn't working\n",
    "del(authors[:2])\n",
    "\n",
    "print(authors)\n",
    "```"
   ]
  },
  {
   "cell_type": "code",
   "execution_count": null,
   "metadata": {},
   "outputs": [],
   "source": []
  },
  {
   "cell_type": "markdown",
   "metadata": {},
   "source": [
    "#### `.remove()`\n",
    "\n",
    "This method removes the first item that matchs a certain value, changing the list. ⚠️ Careful: If there's no match, you'll get an error.\n",
    "\n",
    "```python\n",
    "# original inventory of ducks\n",
    "print(birds)\n",
    "\n",
    "# one duck fewer\n",
    "birds.remove('duck')\n",
    "print(birds)\n",
    "```"
   ]
  },
  {
   "cell_type": "code",
   "execution_count": null,
   "metadata": {},
   "outputs": [],
   "source": []
  }
 ],
 "metadata": {
  "kernelspec": {
   "display_name": "Python 3",
   "language": "python",
   "name": "python3"
  },
  "language_info": {
   "codemirror_mode": {
    "name": "ipython",
    "version": 3
   },
   "file_extension": ".py",
   "mimetype": "text/x-python",
   "name": "python",
   "nbconvert_exporter": "python",
   "pygments_lexer": "ipython3",
   "version": "3.6.5"
  }
 },
 "nbformat": 4,
 "nbformat_minor": 2
}
