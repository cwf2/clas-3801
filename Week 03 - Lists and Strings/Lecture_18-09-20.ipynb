{
 "cells": [
  {
   "cell_type": "markdown",
   "metadata": {},
   "source": [
    "# Thurs, 20 Sept. 2018\n",
    "\n",
    "Continuing text analysis intro. Today's lab is Lipograms.\n",
    "\n",
    "Some of the examples reuse `getJunkFood()` and `students` from Tuesday's lab:\n",
    "```python\n",
    "def getJunkFood(word, symbol='🌮'):\n",
    "    '''turn word into food emojis'''\n",
    "    junkfood = symbol * len(word)\n",
    "\n",
    "    return junkfood\n",
    "\n",
    "students = [\n",
    "    'Austin', \n",
    "    'Makoto', \n",
    "    'Brydie', \n",
    "    'Sam', \n",
    "    'Anna', \n",
    "    'Connor', \n",
    "    'Miranda', \n",
    "    'Karston', \n",
    "    'Alice', \n",
    "    'Daniel', \n",
    "    'Maya',\n",
    "]\n",
    "```"
   ]
  },
  {
   "cell_type": "code",
   "execution_count": null,
   "metadata": {},
   "outputs": [],
   "source": []
  },
  {
   "cell_type": "markdown",
   "metadata": {},
   "source": [
    "## Working with strings\n",
    "\n",
    "This first part of the course is largely devoted to textual analysis. We've already seen that Python uses the `str` type to handle text, and we've also used the `len()` function to check the length of a string.\n",
    "\n",
    "In fact, Python has a whole toolbox of useful tricks that it knows how to do on strings. Just as with lists, many of these actions are **methods** that strings just \"know how to do.\" Keep an eye on the syntax for each.\n",
    "\n",
    "<div class=\"alert alert-info\" style=\"margin:1em 2em;\">\n",
    "<strong>Strings and lists are similar in many ways</strong>\n",
    "<p>\n",
    "    Like a list, a string is a **sequence**—in this case a sequence of characters. That means that many of the tasks we do with lists have analogues here: for example, checking length, checking membership, and iterating.\n",
    "</p>\n",
    "<p>\n",
    "    One important way in which strings and lists are different is that strings are **immutable**. You can't alter a string once you've created it. However, you can always replace it with an altered copy, which usually amounts to the same thing for us.</p>\n",
    "</div>\n",
    "\n",
    "### Slicing\n",
    "\n",
    "You can slice strings much like lists. (⚠️ But you can't *assign to* a string slice, because strings are immutable.)\n",
    "\n",
    "**Examples:**\n",
    "\n",
    "```python\n",
    "text = 'dr. strangelove or: how i learned to stop worrying and love the bomb'\n",
    "\n",
    "# the first four characters\n",
    "print(text[:4])\n",
    "\n",
    "# the last 13\n",
    "print(text[-13:])\n",
    "\n",
    "# every third character, starting with the second\n",
    "print(text[1::3])\n",
    "```"
   ]
  },
  {
   "cell_type": "code",
   "execution_count": null,
   "metadata": {},
   "outputs": [],
   "source": []
  },
  {
   "cell_type": "markdown",
   "metadata": {},
   "source": [
    "### Change case\n",
    "\n",
    "Use the methods `.upper()`, `.lower()`, or `.title()` to return a copy of the string with different case.\n",
    "\n",
    "```python\n",
    "print(' original: ' + text)\n",
    "print()\n",
    "print('uppercase: ' + text.upper())\n",
    "print('lowercase: ' + text.lower())\n",
    "print('titlecase: ' + text.title())\n",
    "```"
   ]
  },
  {
   "cell_type": "code",
   "execution_count": null,
   "metadata": {},
   "outputs": [],
   "source": []
  },
  {
   "cell_type": "markdown",
   "metadata": {},
   "source": [
    "### Remove padding\n",
    "\n",
    "The method `.strip()` returns a copy of the original string with leading and trailing spaces removed. By default, it strips all whitespace, including <kbd>tab</kbd>, <kbd>return</kbd>, etc.\n",
    "\n",
    "For example, imagine we've downloaded a textfile from Project Gutenberg and it uses spaces to centre text:\n",
    "\n",
    "```python\n",
    "chap = '                 CHAPTER ONE                       '\n",
    "print('original:', len(chap))\n",
    "print('stripped:', len(chap.strip()))\n",
    "```"
   ]
  },
  {
   "cell_type": "code",
   "execution_count": null,
   "metadata": {},
   "outputs": [],
   "source": []
  },
  {
   "cell_type": "markdown",
   "metadata": {},
   "source": [
    "### Search for substrings\n",
    "\n",
    "There are a couple of ways to ask Python whether one string (a character, a word, or longer...) can be found inside a longer string.\n",
    "\n",
    "For the following, assume `text` contains the Dr. Strangelove text from above."
   ]
  },
  {
   "cell_type": "markdown",
   "metadata": {},
   "source": [
    "**Is the substring in there, or not: `in`**\n",
    "\n",
    "The operator `in` will return `True` or `False`, depending on whether the second string is a substring of the first:\n",
    "\n",
    "```python\n",
    "# prints True\n",
    "print('love' in text)\n",
    "\n",
    "# prints False\n",
    "print('tacos' in text)\n",
    "```"
   ]
  },
  {
   "cell_type": "code",
   "execution_count": null,
   "metadata": {},
   "outputs": [],
   "source": []
  },
  {
   "cell_type": "markdown",
   "metadata": {},
   "source": [
    "**Where is it: `.index()`**\n",
    "\n",
    "Once you know a substring is in there, use `.index()` to return the position of its first character within the longer string.\n",
    "\n",
    "For example, the first occurrence of 'love' in `text` begins with the 12th character. So because Python counts from zero, `text.index('love')` will return `11`.\n",
    "\n",
    "```python\n",
    "# the first occurrence of 'love' begins with the 12th character.\n",
    "print(text.index('love'))\n",
    "```"
   ]
  },
  {
   "cell_type": "code",
   "execution_count": null,
   "metadata": {},
   "outputs": [],
   "source": []
  },
  {
   "cell_type": "markdown",
   "metadata": {},
   "source": [
    "What's the use of that? Well, one thing you can do is slice the string using that number, in order to, say, extract just the text before or after it. We might do more with this later.\n",
    "\n",
    "```python\n",
    "# get the position\n",
    "i = text.find('love')\n",
    "\n",
    "# print everything before i\n",
    "print(text[:i])\n",
    "\n",
    "# print everything from i on\n",
    "print(text[i:])\n",
    "```"
   ]
  },
  {
   "cell_type": "code",
   "execution_count": null,
   "metadata": {},
   "outputs": [],
   "source": []
  },
  {
   "cell_type": "markdown",
   "metadata": {},
   "source": [
    "**How many times: use `.count()`**\n",
    "\n",
    "To count how many times a certain string occurs inside another, use `.count()`:\n",
    "\n",
    "```python\n",
    "paris = 'paris in the the the the the the the the spring'\n",
    "print(paris.count('the'))\n",
    "```"
   ]
  },
  {
   "cell_type": "code",
   "execution_count": null,
   "metadata": {},
   "outputs": [],
   "source": []
  },
  {
   "cell_type": "markdown",
   "metadata": {},
   "source": [
    "### Replace substrings\n",
    "\n",
    "You can use the `.replace()` method to return **a copy of the string** with custom edits. `.replace()` takes two arguments, the substring to remove, and the substitution to insert in its place. By default, it will replace every occurrence.\n",
    "\n",
    "⚠️ This **does not** alter the original string.\n",
    "\n",
    "**Examples**\n",
    "\n",
    "```python\n",
    "# replace characters\n",
    "print(text.replace('o', 'x'))\n",
    "\n",
    "# remove chars by replacing with ''\n",
    "print(text.replace(' ', ''))\n",
    "\n",
    "# replace words (or longer)\n",
    "print(text.replace('love', '----'))\n",
    "```"
   ]
  },
  {
   "cell_type": "code",
   "execution_count": null,
   "metadata": {},
   "outputs": [],
   "source": []
  },
  {
   "cell_type": "markdown",
   "metadata": {},
   "source": [
    "### Check whether the string matches simple patterns\n",
    "\n",
    "Use `.startswith()` and `.endswith()` to check whether a string matches some simple pattern. These methods return `True` or `False`, so they're useful in loops and `if` statements.\n",
    "\n",
    "<div class=\"alert alert-info\" style=\"margin: 1em 2em;\">\n",
    "One practical use of these methods is checking a list of filenames to see which ones have a particular file extension (e.g. `.txt`, `.docx`) or prefix (e.g. `2018-09-` or `vergil.aeneid_`).\n",
    "</div>\n",
    "\n",
    "**Check endings**\n",
    "\n",
    "```python\n",
    "# filter out students whose names don't end in 'a'\n",
    "for student in students:\n",
    "    if student.endswith('a'):\n",
    "        print(student)\n",
    "    else:\n",
    "        print(getJunkFood(student, '🥦'))\n",
    "```"
   ]
  },
  {
   "cell_type": "code",
   "execution_count": null,
   "metadata": {},
   "outputs": [],
   "source": []
  },
  {
   "cell_type": "markdown",
   "metadata": {},
   "source": [
    "**Check beginnings**\n",
    "\n",
    "```python\n",
    "# filter out students whose names don't start with 'M'\n",
    "for student in students:\n",
    "    if student.startswith('M'):\n",
    "        print(student)\n",
    "    else:\n",
    "        print(getJunkFood(student, '🍕'))\n",
    "```"
   ]
  },
  {
   "cell_type": "code",
   "execution_count": null,
   "metadata": {},
   "outputs": [],
   "source": []
  },
  {
   "cell_type": "markdown",
   "metadata": {},
   "source": [
    "**Check middles**\n",
    "\n",
    "If you're looking for something in the middle, use `in`:\n",
    "\n",
    "```python\n",
    "# filter out students whose names don't contain an 'o'\n",
    "for student in students:\n",
    "    if 'o' in student:\n",
    "        print(student)\n",
    "    else:\n",
    "        print(getJunkFood(student, '🍦'))\n",
    "```"
   ]
  },
  {
   "cell_type": "code",
   "execution_count": null,
   "metadata": {},
   "outputs": [],
   "source": []
  }
 ],
 "metadata": {
  "kernelspec": {
   "display_name": "Python 3",
   "language": "python",
   "name": "python3"
  },
  "language_info": {
   "codemirror_mode": {
    "name": "ipython",
    "version": 3
   },
   "file_extension": ".py",
   "mimetype": "text/x-python",
   "name": "python",
   "nbconvert_exporter": "python",
   "pygments_lexer": "ipython3",
   "version": "3.6.5"
  }
 },
 "nbformat": 4,
 "nbformat_minor": 2
}
