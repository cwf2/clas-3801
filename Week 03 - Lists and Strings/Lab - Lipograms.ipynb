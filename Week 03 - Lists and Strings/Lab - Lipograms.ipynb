{
 "cells": [
  {
   "cell_type": "markdown",
   "metadata": {},
   "source": [
    "# Lipograms\n",
    "\n",
    "In this lab we're going to experiment with sounds and spelling using Python. As practical test cases 🤨, we'll explore what it might be like to be an Oulipian proof-reader, as well as whether we can model the process by which Christian Bök might have gone about composing *Eunoia*."
   ]
  },
  {
   "cell_type": "markdown",
   "metadata": {},
   "source": [
    "## Part I: formalizing criteria for lipograms\n",
    "\n",
    "**A humanist definition**\n",
    "\n",
    "<a href=\"https://fr.wikipedia.org/wiki/Wikip%C3%A9dia:Pastiches/La_Disparition_(roman)#Un_vrai_roman\" target=\"_blank\"><img src=\"https://upload.wikimedia.org/wikipedia/commons/thumb/d/d0/Plaque_perec.JPG/320px-Plaque_perec.JPG\" style=\"float:right\" width=\"160\"></a>\n",
    "A **lipogram** is a text that omits a certain letter (from λείπω, \"leave,\" and γράμμα, \"letter\"). Check out the [Wikipedia article](https://en.wikipedia.org/wiki/Lipogram) for a reasonably detailed history of the genre with entertaining examples from antiquity to the present.\n",
    "\n",
    "**A computational definition**\n",
    "\n",
    "If we're going to use computers to help us compose lipograms, the first thing we need to do is formalize the concept in terms Python can understand.\n",
    "\n",
    "<div class=\"alert alert-warning\">\n",
    "<h4>✏️ Prototype</h4>\n",
    "<p>In the cell below, work with your group to **create a function** that checks whether a given word is a lipogram with respect to the letter **e**.</p>\n",
    "\n",
    "<p>The function:</p>\n",
    "<ul>\n",
    "    <li>takes an argument `word`, the word to check</li>\n",
    "    <li>returns `True` if the word is a lipogram of 'e'</li>\n",
    "    <li>returns `False` if the word is not a lipogram 'e'</li>\n",
    "    <li>⚠️ is *not sensitive to case*</li>\n",
    "</ul>\n",
    "</div>\n",
    "\n",
    "Use the framework below to get started. \n",
    "\n",
    "```python\n",
    "def isLipoE(word):\n",
    "    '''Check whether word is a lipogram of e'''\n",
    "    \n",
    "    # TODO: fill in code here\n",
    "    pass\n",
    "```\n",
    "\n",
    "<div class=\"alert alert-info\" style=\"margin: 1em 2em\">\n",
    "<p>👉🏻 Delete <code>pass</code>; it's a word we use in Python as a placeholder for future code.</p>\n",
    "<p>👉🏻 We often use a `#TODO` comment as a reminder for later revisions.</p>\n",
    "</div>"
   ]
  },
  {
   "cell_type": "code",
   "execution_count": null,
   "metadata": {},
   "outputs": [],
   "source": []
  },
  {
   "cell_type": "markdown",
   "metadata": {},
   "source": [
    "<div class=\"alert alert-warning\">\n",
    "<h4>🤔 Test it out!</h4>\n",
    "\n",
    "<p>Write a loop that:</p>\n",
    "<ul>\n",
    "    <li>Asks the user for a word</li>\n",
    "    <li>Notifies them whether their word is an 'e' lipogram</li>\n",
    "    <li>Terminates under some condition (e.g. if the word is blank)</li>\n",
    "</ul>\n",
    "</div>"
   ]
  },
  {
   "cell_type": "code",
   "execution_count": null,
   "metadata": {},
   "outputs": [],
   "source": []
  },
  {
   "cell_type": "markdown",
   "metadata": {},
   "source": [
    "This would work well if we were writing our own translation of Georges Perec's *La Disparition*, the e-less novel, in English. But what if we wanted to suppress a different letter (as the Spanish translation does with 'a')?\n",
    "\n",
    "<div class=\"alert alert-warning\">\n",
    "<h4>✏️ Refactor</h4>\n",
    "<p>In the cell below, work with your group to create new function, `isLipo()`, based on your original code above.</p>\n",
    "\n",
    "<p>The only difference:</p>\n",
    "<ul>\n",
    "    <li>It takes an optional second argument `forbidden`, which sets the letter to check for.</li>\n",
    "    <li>By default, `forbidden` is set to `'e'`.</li>\n",
    "    <li>Remember to modify the **docstring** accordingly.</li>\n",
    "</ul>\n",
    "</div>"
   ]
  },
  {
   "cell_type": "code",
   "execution_count": null,
   "metadata": {},
   "outputs": [],
   "source": []
  },
  {
   "cell_type": "markdown",
   "metadata": {},
   "source": [
    "<div class=\"alert alert-success\">\n",
    "<h4>🤔 Test it out!</h4>\n",
    "<p>\n",
    "Repeat your testing process from above. Does the new function work as expected?</p>\n",
    "</div>"
   ]
  },
  {
   "cell_type": "code",
   "execution_count": null,
   "metadata": {},
   "outputs": [],
   "source": []
  },
  {
   "cell_type": "markdown",
   "metadata": {},
   "source": [
    "## Part II: Univocalic lipograms\n",
    "\n",
    "In *Eunoia*, Bök used a variant of this kind of writing in which he allowed himself *only one* vowel at a time. What does that look like to a computer?\n",
    "\n",
    "<div class=\"alert alert-warning\">\n",
    "<h4>✏️ Analyse</h4>\n",
    "<p>In your group, discuss and then describe (in English, not Python) a set of criteria for defining univocalic (i.e. *one-vowel*) lipograms.</p>\n",
    "\n",
    "<ul>\n",
    "    <li>Think of the task in terms of list membership.</li>\n",
    "    <li>Hint: it might help to define the list of vowels.</li>\n",
    "</ul>\n",
    "</div>\n",
    "\n",
    "If you like, you can work back and forth between this problem and the next."
   ]
  },
  {
   "cell_type": "markdown",
   "metadata": {},
   "source": []
  },
  {
   "cell_type": "markdown",
   "metadata": {},
   "source": [
    "<div class=\"alert alert-warning\">\n",
    "<h4>✏️ Implement</h4>\n",
    "<p>Now (or alongside the previous question) create Python code to implement your criteria. Create a function `isUniVocal()` that...</p>\n",
    "\n",
    "<ul>\n",
    "    <li>takes an argument `word`, giving the word to check.</li>\n",
    "    <li>takes a second argument, `allowed`, giving the only vowel permitted.</li>\n",
    "    <li>returns `True` if the word has that vowel and no other</li>\n",
    "    <li>returns `False` if the word has any other vowel</li>\n",
    "</ul>\n",
    "</div>"
   ]
  },
  {
   "cell_type": "code",
   "execution_count": null,
   "metadata": {},
   "outputs": [],
   "source": []
  },
  {
   "cell_type": "markdown",
   "metadata": {},
   "source": [
    "<div class=\"alert alert-success\">\n",
    "<h4>🤔 Test it out!</h4>\n",
    "<p>Test again. Does the function work? Any weird side-effects?</p>\n",
    "<p>(For example, what does it return if `word` contains *no vowels at all*?)\n",
    "</div>"
   ]
  },
  {
   "cell_type": "code",
   "execution_count": null,
   "metadata": {},
   "outputs": [],
   "source": []
  },
  {
   "cell_type": "markdown",
   "metadata": {},
   "source": [
    "## Part III: Working at scale\n",
    "\n",
    "Once we've got our function working, we can try using it. But the testing loop we've been relying on so far is a little cumbersome for checking long texts.\n",
    "\n",
    "### Case study: *A Void*.\n",
    "\n",
    "Here's an passage from *A Void*, an English-language translation of *La Disparition* written by Gilbet Adair.\n",
    "\n",
    "<blockquote style=\"margin:1em 2em;\">\n",
    "Noon rings out. A wasp, making an ominous sound, a sound akin to a klaxon or a tocsin, flits about. Augustus, who has had a bad night, sits up blinking and purblind. Oh what was that word (is his thought) that ran through my brain all night, that idiotic word that, hard as I'd try to pun it down, was always just an inch or two out of my grasp - fowl or foul or Vow or Voyal? - a word which, by association, brought into play an incongruous mass and magma of nouns, idioms, slogans and sayings, a confusing, amorphous outpouring which I sought in vain to control or turn off but which wound around my mind a whirlwind of a cord, a whiplash of a cord, a cord that would split again and again, would knit again and again, of words without communication or any possibility of combination, words without pronunciation, signification or transcription but out of which, notwithstanding, was brought forth a flux, a continuous, compact and lucid flow: an intuition, a vacillating frisson of illumination as if caught in a flash of lightning or in a mist abruptly rising to unshroud an obvious sign - but a sign, alas, that would last an instant only to vanish for good.\n",
    "</blockquote>\n",
    "\n",
    "** Is it a lipogram of E? **\n",
    "\n",
    "Imagine you're Adair's editor. You want to help him proof-check his text, to be sure that it obeys the contraint.</p>"
   ]
  },
  {
   "cell_type": "markdown",
   "metadata": {},
   "source": [
    "<div class=\"alert alert-warning\">\n",
    "<h4>✏️ Test it out</h4>\n",
    "\n",
    "<p>Use Python to check this text with `isLipo()`...</p>\n",
    "<ul>\n",
    "    <li>all at once</li>\n",
    "    <li>word by word</li>\n",
    "</ul>\n",
    "</div>"
   ]
  },
  {
   "cell_type": "code",
   "execution_count": null,
   "metadata": {},
   "outputs": [],
   "source": []
  },
  {
   "cell_type": "markdown",
   "metadata": {},
   "source": [
    "<div class=\"alert alert-success\">\n",
    "<h4>🤔 Discuss and reflect</h4>\n",
    "<p>In your group, consider the pros and cons of the tool you have built.</p>\n",
    "<ul>\n",
    "    <li>What kind of information is most helpful to the editor's task?</li>\n",
    "    <li>Can you find a way to make Python do what you need?</li>\n",
    "    <li>Try *introducing* errors into the text to see how your program behaves...</li>\n",
    "</ul>\n",
    "<p>If necessary, revise your code above. Feel free to use comments or additional markdown cells to explain your thinking.</p>\n",
    "</div>"
   ]
  },
  {
   "cell_type": "markdown",
   "metadata": {},
   "source": [
    "## Case study: a univocalic dictionary\n",
    "\n",
    "Bök states that each chapter in *Eunoia* uses at least 98% of the allowable vocabulary. In order to make this claim, he must have a dictionary of univocalic words. Let's see if we can achieve the same thing.\n",
    "\n",
    "The file `wordlist.txt` contains a dictionary of English words used by one of the more common spell-checkers for Unix. We're going to extract from this all the words that could possibly be used for a particular chapter of *Eunoia*.\n",
    "\n",
    "<div class=\"alert alert-warning\">\n",
    "<h4>✏️ Try it out</h4>\n",
    "<p>Choose a vowel to look for, then write Python code to do the following:</p>\n",
    "<ul>\n",
    "    <li>**Create an empty list** to hold your univocalic lexicon</li>\n",
    "    <li>**Loop over all the words** in the file (use the template below)</li>\n",
    "    <li>Check each word:\n",
    "        <ul>\n",
    "            <li>**if** it meets the criteria, **add it** to your list</li>\n",
    "        </ul>\n",
    "    </li>\n",
    "    <li>**Print** out the final list; if it's not already in order, alphabetize it.</li>\n",
    "</ul>\n",
    "</div>\n",
    "\n",
    "**Example: looping over a file**\n",
    "```python\n",
    "# the name of the file to work with\n",
    "filename = 'wordlist.txt'\n",
    "\n",
    "# open returns a file object, a \"view\" onto the contents of the file\n",
    "file = open(filename)\n",
    "\n",
    "# optionally skip a given number of header lines\n",
    "#   - is this necessary for you? how many lines?\n",
    "file.readlines(15)\n",
    "\n",
    "# loop: read one line of the file at a time\n",
    "for line in file:\n",
    "    \n",
    "    # do something with line\n",
    "    pass\n",
    "```\n",
    "\n",
    "<div class=\"alert alert-info\" style=\"margin:1em 2em\">\n",
    "<p><strong>Hint: </strong> If you're working on your own computer (not the cloud) and you have <strong>Windows</strong>, the file `wordlist-win.txt` might work better.</p></div>\n"
   ]
  },
  {
   "cell_type": "code",
   "execution_count": null,
   "metadata": {},
   "outputs": [],
   "source": []
  },
  {
   "cell_type": "markdown",
   "metadata": {},
   "source": [
    "<div class=\"alert alert-warning\">\n",
    "<h4>✏️ Discuss and reflect</h4>\n",
    "<ul>\n",
    "    <li>Does it work? Could you optimize this process further?</li>\n",
    "    <li>How could the resulting list be more useful?</li>\n",
    "</ul>\n",
    "<p>Try each of the vowels in turn:</p>\n",
    "<ul>\n",
    "    <li>What are the relative sizes of the vocabularies?</li>\n",
    "    <li>Do you notice any special \"character\" or \"personality\" for each vowel?</li>\n",
    "</ul>\n",
    "</div>"
   ]
  },
  {
   "cell_type": "markdown",
   "metadata": {},
   "source": []
  },
  {
   "cell_type": "markdown",
   "metadata": {},
   "source": [
    "## Bonus: constrained writing\n",
    "\n",
    "If there's time, see whether you can create a short text following one of the constraints we've explored (or your own). In what ways are you able to use Python to assist the process?"
   ]
  },
  {
   "cell_type": "code",
   "execution_count": null,
   "metadata": {},
   "outputs": [],
   "source": []
  }
 ],
 "metadata": {
  "kernelspec": {
   "display_name": "Python 3",
   "language": "python",
   "name": "python3"
  },
  "language_info": {
   "codemirror_mode": {
    "name": "ipython",
    "version": 3
   },
   "file_extension": ".py",
   "mimetype": "text/x-python",
   "name": "python",
   "nbconvert_exporter": "python",
   "pygments_lexer": "ipython3",
   "version": "3.6.5"
  }
 },
 "nbformat": 4,
 "nbformat_minor": 2
}
