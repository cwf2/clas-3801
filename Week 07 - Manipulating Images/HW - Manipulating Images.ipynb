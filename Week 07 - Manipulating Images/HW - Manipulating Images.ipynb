{
 "cells": [
  {
   "cell_type": "markdown",
   "metadata": {},
   "source": [
    "# Working with images\n",
    "\n",
    "Let's continue with image basics: in addition to creating our own images, we can also load existing image files and manipulate them with our code.\n",
    "\n",
    "We start by loading an image from a file and assigning it to a variable.\n",
    "\n",
    "```python\n",
    "from PIL import Image\n",
    "from IPython.display import display\n",
    "\n",
    "# The Mount Allison Latin class of 1891 --- “Worst class ever known”\n",
    "photo = Image.open('1891-sm-grey.jpg')\n",
    "display(photo)\n",
    "```"
   ]
  },
  {
   "cell_type": "code",
   "execution_count": null,
   "metadata": {
    "collapsed": true
   },
   "outputs": [],
   "source": []
  },
  {
   "cell_type": "markdown",
   "metadata": {},
   "source": [
    "Now that we've loaded this file into an Image object, we can treat it just like our home-made images, getting and setting arbitrary pixels.\n",
    "\n",
    "First, let's see what the image dimensions are. \n",
    "\n",
    "```python\n",
    "print(photo.size)\n",
    "```"
   ]
  },
  {
   "cell_type": "code",
   "execution_count": null,
   "metadata": {
    "collapsed": true
   },
   "outputs": [],
   "source": []
  },
  {
   "cell_type": "markdown",
   "metadata": {},
   "source": [
    "Let's compare the grey values of the pixels at the lower-right and top-right corners.\n",
    " - lower-right is dark, should be a low number\n",
    " - upper-right is light, should be a high number\n",
    " \n",
    "```python\n",
    "print('lower right:', photo.getpixel((photo.width-1, photo.height-1)))\n",
    "print('upper right:', photo.getpixel((photo.width-1, 0)))\n",
    "```"
   ]
  },
  {
   "cell_type": "code",
   "execution_count": null,
   "metadata": {
    "collapsed": true
   },
   "outputs": [],
   "source": []
  },
  {
   "cell_type": "markdown",
   "metadata": {},
   "source": [
    "### Modifying pixels\n",
    "\n",
    "Let's redo the grid of vertical and horizontal lines from Tuesday's class, drawing the lines overtop of our photo. \n",
    "\n",
    "We don't want to permanently mess up our image, so we'll use the `copy` method to create a new copy first, then do our experiment on that.\n",
    "\n",
    "```python\n",
    "# create a working copy\n",
    "foo = photo.copy()\n",
    "\n",
    "# colour, spacing for our lattice\n",
    "step = 20\n",
    "colour = 255\n",
    "\n",
    "# iterate over all pixels\n",
    "for x in range(foo.width):\n",
    "    for y in range(foo.height):\n",
    "        # draw the grid\n",
    "        if x % step == 0 or y % step == 0:\n",
    "            foo.putpixel((x,y), colour)\n",
    "\n",
    "# display the copy\n",
    "display(foo)\n",
    "```"
   ]
  },
  {
   "cell_type": "code",
   "execution_count": null,
   "metadata": {
    "collapsed": true
   },
   "outputs": [],
   "source": []
  },
  {
   "cell_type": "markdown",
   "metadata": {},
   "source": [
    "<div class=\"alert alert-success\">\n",
    "<h4>🤔 Take a minute to try&hellip;</h4>\n",
    "<ul style=\"margin-top:1em;\">\n",
    "<li>resizing the grid</li>\n",
    "<li>changing its colour</li>\n",
    "</ul>\n",
    "</div>\n",
    "\n",
    "### The Checkerboard revisited\n",
    "\n",
    "Let's try repeating the checkerboard pattern as well:\n",
    " - save a fresh copy of the image to `foo`\n",
    " - reuse the checkerboard code:\n",
    "   - colour black squares black\n",
    "   - leave pixels of the \"white\" squares unchanged\n",
    "   \n",
    "\n",
    "<div style=\"margin: 2em;\"><a class=\"btn btn-warning\" data-toggle=\"collapse\" href=\"#checkerboard_spoilers\" role=\"button\" aria-expanded=\"false\" aria-controls=\"checkerboard_spoilers\">Show code</a></div>\n",
    "<div class=\"collapse\" id=\"checkerboard_spoilers\">\n",
    "<pre><code class=\"cm-s-ipython language-python\"><span class=\"cm-comment\"># start with a fresh copy of the image</span>\n",
    "<span class=\"cm-variable\">foo</span> <span class=\"cm-operator\">=</span> <span class=\"cm-variable\">photo</span>.<span class=\"cm-property\">copy</span>()<br />\n",
    "<span class=\"cm-comment\"># set the step parameters</span>\n",
    "<span class=\"cm-variable\">step_x</span> <span class=\"cm-operator\">=</span> <span class=\"cm-number\">40</span>\n",
    "<span class=\"cm-variable\">step_y</span> <span class=\"cm-operator\">=</span> <span class=\"cm-number\">40</span><br />\n",
    "<span class=\"cm-comment\"># iterate over all pixels</span>\n",
    "<span class=\"cm-keyword\">for</span> <span class=\"cm-variable\">x</span> <span class=\"cm-keyword\">in</span> <span class=\"cm-builtin\">range</span>(<span class=\"cm-variable\">foo</span>.<span class=\"cm-property\">width</span>):\n",
    "    <span class=\"cm-keyword\">for</span> <span class=\"cm-variable\">y</span> <span class=\"cm-keyword\">in</span> <span class=\"cm-builtin\">range</span>(<span class=\"cm-variable\">foo</span>.<span class=\"cm-property\">height</span>):\n",
    "        <span class=\"cm-comment\"># draw black squares only -- no `else` clause</span>\n",
    "        <span class=\"cm-keyword\">if</span> (<span class=\"cm-variable\">x</span> <span class=\"cm-operator\">/</span><span class=\"cm-operator\">/</span> <span class=\"cm-variable\">step_x</span>) <span class=\"cm-operator\">%</span> <span class=\"cm-number\">2</span> <span class=\"cm-operator\">==</span> (<span class=\"cm-variable\">y</span> <span class=\"cm-operator\">/</span><span class=\"cm-operator\">/</span> <span class=\"cm-variable\">step_y</span>) <span class=\"cm-operator\">%</span> <span class=\"cm-number\">2</span>:\n",
    "            <span class=\"cm-variable\">foo</span>.<span class=\"cm-property\">putpixel</span>((<span class=\"cm-variable\">x</span>,<span class=\"cm-variable\">y</span>), <span class=\"cm-number\">0</span>)<br />\n",
    "<span class=\"cm-comment\"># show the new image</span>\n",
    "<span class=\"cm-variable\">display</span>(<span class=\"cm-variable\">foo</span>)</code></pre>\n",
    "</div>"
   ]
  },
  {
   "cell_type": "code",
   "execution_count": null,
   "metadata": {
    "collapsed": true
   },
   "outputs": [],
   "source": []
  },
  {
   "cell_type": "markdown",
   "metadata": {},
   "source": [
    "<h3 id=\"peephole\">Peephole</h3>\n",
    "\n",
    "Let's mask everything except a circular region.\n",
    "\n",
    "<ol>\n",
    "<li>You choose values for&hellip;</li>\n",
    "<ul style=\"margin-top:0em; margin-bottom:1em;\">\n",
    "<li>a point <code>(cent_x, cent_y)</code> somewhere on the image</li>\n",
    "<li>a radius <code>rad</code> (in pixels)</li>\n",
    "<li>a colour <code>col</code> for the mask</li>\n",
    "</ul>\n",
    "<li>Now, for every pixel <code>(x, y)</code>:</li>\n",
    "<ul style=\"margin-top:0em; margin-bottom:1em;\">\n",
    "<li>if the distance from <code>(x, y)</code> to <code>(cent_x, cent_y)</code>is less than <code>rad</code>, leave it alone</li>\n",
    "<li>otherwise, set the pixel value to <code>col</code></li>\n",
    "</ul>\n",
    "</ol>\n",
    "<strong>Hint:</strong>\n",
    "<ul>\n",
    "<li>For calculating distance, refer to the circle exercise from last week's lab</li>\n",
    "</ul>\n",
    "\n",
    "<div style=\"margin: 2em;\"><a class=\"btn btn-warning\" data-toggle=\"collapse\" href=\"#peephole_spoilers\" role=\"button\" aria-expanded=\"false\" aria-controls=\"peephole_spoilers\">Show code</a></div>\n",
    "<div class=\"collapse\" id=\"peephole_spoilers\">\n",
    "    <pre><code class=\"cm-s-ipython language-python\"><span class=\"cm-comment\"># need math module for square root</span>\n",
    "<span class=\"cm-keyword\">import</span> <span class=\"cm-variable\">math</span><br />\n",
    "<span class=\"cm-comment\"># start with a fresh copy of the image</span>\n",
    "<span class=\"cm-variable\">foo</span> <span class=\"cm-operator\">=</span> <span class=\"cm-variable\">photo</span>.<span class=\"cm-property\">copy</span>()<br />\n",
    "<span class=\"cm-comment\"># set variables</span>\n",
    "<span class=\"cm-variable\">cent_x</span> <span class=\"cm-operator\">=</span> <span class=\"cm-number\">410</span>\n",
    "<span class=\"cm-variable\">cent_y</span> <span class=\"cm-operator\">=</span> <span class=\"cm-number\">180</span>\n",
    "<span class=\"cm-variable\">rad</span> <span class=\"cm-operator\">=</span> <span class=\"cm-number\">99</span>\n",
    "<span class=\"cm-variable\">col</span> <span class=\"cm-operator\">=</span> <span class=\"cm-number\">15</span><br />\n",
    "<span class=\"cm-comment\"># iterate over all pixels</span>\n",
    "<span class=\"cm-keyword\">for</span> <span class=\"cm-variable\">x</span> <span class=\"cm-keyword\">in</span> <span class=\"cm-builtin\">range</span>(<span class=\"cm-variable\">foo</span>.<span class=\"cm-property\">width</span>):\n",
    "    <span class=\"cm-keyword\">for</span> <span class=\"cm-variable\">y</span> <span class=\"cm-keyword\">in</span> <span class=\"cm-builtin\">range</span>(<span class=\"cm-variable\">foo</span>.<span class=\"cm-property\">height</span>):\n",
    "        <span class=\"cm-comment\"># get distance to centre</span>\n",
    "        <span class=\"cm-variable\">dist</span> <span class=\"cm-operator\">=</span> <span class=\"cm-variable\">math</span>.<span class=\"cm-property\">sqrt</span>((<span class=\"cm-variable\">x</span> <span class=\"cm-operator\">-</span> <span class=\"cm-variable\">cent_x</span>)<span class=\"cm-operator\">*</span><span class=\"cm-operator\">*</span><span class=\"cm-number\">2</span> <span class=\"cm-operator\">+</span> (<span class=\"cm-variable\">y</span> <span class=\"cm-operator\">-</span> <span class=\"cm-variable\">cent_y</span>)<span class=\"cm-operator\">*</span><span class=\"cm-operator\">*</span><span class=\"cm-number\">2</span>)\n",
    "        <span class=\"cm-comment\"># if outside radius, mask pixel</span>\n",
    "        <span class=\"cm-keyword\">if</span> <span class=\"cm-variable\">dist</span> <span class=\"cm-operator\">&gt;</span> <span class=\"cm-variable\">rad</span>:\n",
    "            <span class=\"cm-variable\">foo</span>.<span class=\"cm-property\">putpixel</span>((<span class=\"cm-variable\">x</span>, <span class=\"cm-variable\">y</span>), <span class=\"cm-variable\">col</span>)<br />\n",
    "<span class=\"cm-comment\"># display result</span>\n",
    "<span class=\"cm-variable\">display</span>(<span class=\"cm-variable\">foo</span>)</code></pre>\n",
    "</div>"
   ]
  },
  {
   "cell_type": "code",
   "execution_count": null,
   "metadata": {
    "collapsed": true
   },
   "outputs": [],
   "source": []
  },
  {
   "cell_type": "markdown",
   "metadata": {},
   "source": [
    "### Pixelate\n",
    "\n",
    "In this exercise, we divide the image up into imaginary blocks, as in the checkerboard or lattice examples. The twist: we determine the value of the centre pixel for each block, then make all the rest of the pixels in that block match it.\n",
    "\n",
    "<img src=\"figs/fig_stepsize.png\" style=\"float:right\" width=\"320\">\n",
    "\n",
    "<h5>Divide the image into blocks</h5>\n",
    "<p>Choose the size of blocks you want (e.g. 3×3). Create a variable <code>step</code> equal to the length of one side of the block (e.g. 3 pixels).</p>\n",
    "<h5>Iterate over the blocks</h5>\n",
    "<ul>\n",
    "<li>Use nested <code>for</code> loops to move an imaginary top-left corner across the image, block by block.</li>\n",
    "<li>We're not iterating over every single pixel, this time</li>\n",
    "<li>Instead, we're moving by <code>step</code> each time. So you'll need to use that version of <code>range()</code> that specifies <code>start</code>, <code>stop</code>, and <code>step</code> values.</li>\n",
    "</ul>\n",
    "<img src=\"figs/fig_pixellate.png\" style=\"float:right\" width=\"320\">\n",
    "<h5>For each block, find the value of the center pixel.</h5>\n",
    "<p>You can determine the <code>(x, y)</code> coordinates for this pixel based on the current <code>(left, top)</code> and the value of <code>step</code>.</p>\n",
    "<h5>Now colour the whole block in</h5>\n",
    "<p>This will require another set of nested <code>for</code> loops, iterating <code>(x, y)</code> over all values from <code>(left, top)</code> to <code>(left+step, top+step)</code>.\n",
    "</p>\n",
    "\n",
    "<div style=\"margin: 2em;\"><a class=\"btn btn-warning\" data-toggle=\"collapse\" href=\"#pixellate_spoilers\" role=\"button\" aria-expanded=\"false\" aria-controls=\"pixellate_spoilers\">Show code</a></div>\n",
    "<div class=\"collapse\" id=\"pixellate_spoilers\">\n",
    "    <pre><code class=\"cm-s-ipython language-python\"><span class=\"cm-comment\"># start with a fresh copy of the image</span>\n",
    "<span class=\"cm-variable\">foo</span> <span class=\"cm-operator\">=</span> <span class=\"cm-variable\">photo</span>.<span class=\"cm-property\">copy</span>()<br />\n",
    "<span class=\"cm-comment\"># block size</span>\n",
    "<span class=\"cm-variable\">step</span> <span class=\"cm-operator\">=</span> <span class=\"cm-number\">5</span><br />\n",
    "<span class=\"cm-comment\"># move by skips across the image</span>\n",
    "<span class=\"cm-keyword\">for</span> <span class=\"cm-variable\">left</span> <span class=\"cm-keyword\">in</span> <span class=\"cm-builtin\">range</span>(<span class=\"cm-number\">0</span>, <span class=\"cm-variable\">foo</span>.<span class=\"cm-property\">width</span><span class=\"cm-operator\">-</span><span class=\"cm-variable\">step</span>, <span class=\"cm-variable\">step</span>):\n",
    "    <span class=\"cm-keyword\">for</span> <span class=\"cm-variable\">top</span> <span class=\"cm-keyword\">in</span> <span class=\"cm-builtin\">range</span>(<span class=\"cm-number\">0</span>, <span class=\"cm-variable\">foo</span>.<span class=\"cm-property\">height</span><span class=\"cm-operator\">-</span><span class=\"cm-variable\">step</span>, <span class=\"cm-variable\">step</span>):\n",
    "        <span class=\"cm-comment\"># get value of central pixel</span>\n",
    "        <span class=\"cm-variable\">grey_val</span> <span class=\"cm-operator\">=</span> <span class=\"cm-variable\">foo</span>.<span class=\"cm-property\">getpixel</span>((<span class=\"cm-variable\">left</span> <span class=\"cm-operator\">+</span> <span class=\"cm-variable\">step</span> <span class=\"cm-operator\">/</span><span class=\"cm-operator\">/</span> <span class=\"cm-number\">2</span>, <span class=\"cm-variable\">top</span> <span class=\"cm-operator\">+</span> <span class=\"cm-variable\">step</span> <span class=\"cm-operator\">/</span><span class=\"cm-operator\">/</span> <span class=\"cm-number\">2</span>))<br />\n",
    "        <span class=\"cm-comment\"># now iterate over the whole block, colour it in</span>\n",
    "        <span class=\"cm-keyword\">for</span> <span class=\"cm-variable\">x</span> <span class=\"cm-keyword\">in</span> <span class=\"cm-builtin\">range</span>(<span class=\"cm-variable\">left</span>, <span class=\"cm-variable\">left</span> <span class=\"cm-operator\">+</span> <span class=\"cm-variable\">step</span>):\n",
    "            <span class=\"cm-keyword\">for</span> <span class=\"cm-variable\">y</span> <span class=\"cm-keyword\">in</span> <span class=\"cm-builtin\">range</span>(<span class=\"cm-variable\">top</span>, <span class=\"cm-variable\">top</span> <span class=\"cm-operator\">+</span> <span class=\"cm-variable\">step</span>):\n",
    "                <span class=\"cm-variable\">foo</span>.<span class=\"cm-property\">putpixel</span>((<span class=\"cm-variable\">x</span>, <span class=\"cm-variable\">y</span>), <span class=\"cm-variable\">grey_val</span>)<br />\n",
    "<span class=\"cm-comment\"># display result</span>\n",
    "<span class=\"cm-variable\">display</span>(<span class=\"cm-variable\">foo</span>)</code></pre>\n",
    "</div>"
   ]
  },
  {
   "cell_type": "code",
   "execution_count": null,
   "metadata": {
    "collapsed": true
   },
   "outputs": [],
   "source": []
  },
  {
   "cell_type": "markdown",
   "metadata": {},
   "source": [
    "### Simple Filter\n",
    "\n",
    "So far, we've been calculating pixel values based on position. We can make things more interesting if we use the values of neighbouring pixels as part of our calculation.\n",
    "\n",
    "In the next example, we set the value of each pixel to the average of its neighbours.\n",
    "\n",
    "<h5>preliminaries</h5>\n",
    "<ul style=\"margin-top:1em; margin-bottom:1em\">\n",
    "<li>As usual, start by creating a fresh copy of the image</li>\n",
    "<li>Decide what size you want the blocks. Set a variable <code>size</code> to half that.\n",
    "<li>As before, use nested <code>for</code> loops to iterate over every pair of <code>(x, y)</code></li>\n",
    "</ul>\n",
    "\n",
    "<h5>for each pixel <code>(x, y)</code></h5>\n",
    "<p>\n",
    "Imagine a block extending <code>size</code> pixels in every direction, with the current pixel at the centre. We want to calculate the mean value for all pixels in that block. That means 👉🏻 iterating over all those pixels, 👉🏻 adding their values together, and then 👉🏻 dividing by the number of pixels in the block.\n",
    "</p>\n",
    "<p>\n",
    "<ul style=\"margin-top:1em; margin-bottom:1em\">\n",
    "<li>Start with a variable <code>grey_val</code> set to zero</li>\n",
    "<li>You'll need another set of nested <code>for</code> loops to iterate over the block of pixels</li>\n",
    "<ul style=\"margin-top:1em; margin-bottom:0em\">\n",
    "<li><code>working_x</code> needs to iterate from <code>x - size</code> to <code>x + size</code></li>\n",
    "<li><code>working_y</code> needs to iterate from <code>y - size</code> to <code>y + size</code></li>\n",
    "<li><strong>Note:</strong> you'll have to make sure you don't go out of bounds near the edge of the image</li>\n",
    "</ul>\n",
    "<li>For each <code>(working_x, working_y)</code> add the value of that pixel to <code>grey_val</code>.</li>\n",
    "<li>When you're done, <code>grey_val</code> will be equal to the sum of all the pixels in the block.</li>\n",
    "<li>Now divide by the number of pixels in the block to get the mean value.</li>\n",
    "</ul>\n",
    "<h5>colouring in the pixel</h5>\n",
    "<p>Now that you've found the mean value, set the pixel at <code>(x, y)</code>. <strong>Careful:</strong> if you're altering the image as you go, then pixels you've already changed will affect the calculations for their neighbours. You can avoid this by using 👉🏻  <code><strong>photo</strong>.getpixel()</code> to check pixel values in the <strong>unaltered original</strong> image, and 👉🏻 <code><strong>foo</strong>.putpixel()</code> to set values on your <strong>working copy</strong>.</p>\n",
    "</div>\n",
    "\n",
    "<div style=\"margin: 2em;\"><a class=\"btn btn-warning\" data-toggle=\"collapse\" href=\"#filter_spoilers\" role=\"button\" aria-expanded=\"false\" aria-controls=\"filter_spoilers\">Show code</a></div>\n",
    "<div class=\"collapse\" id=\"filter_spoilers\">\n",
    "    <pre><code class=\"cm-s-ipython language-python\"><span class=\"cm-comment\"># start with a fresh copy of the image</span>\n",
    "<span class=\"cm-variable\">foo</span> <span class=\"cm-operator\">=</span> <span class=\"cm-variable\">photo</span>.<span class=\"cm-property\">copy</span>()<br />\n",
    "<span class=\"cm-comment\"># how far (in either direction) to calculate average</span>\n",
    "<span class=\"cm-variable\">size</span> <span class=\"cm-operator\">=</span> <span class=\"cm-number\">4</span><br />\n",
    "<span class=\"cm-comment\"># iterate over all pixels</span>\n",
    "<span class=\"cm-keyword\">for</span> <span class=\"cm-variable\">x</span> <span class=\"cm-keyword\">in</span> <span class=\"cm-builtin\">range</span>(<span class=\"cm-variable\">size</span>, <span class=\"cm-variable\">foo</span>.<span class=\"cm-property\">width</span> <span class=\"cm-operator\">-</span> <span class=\"cm-variable\">size</span>):\n",
    "    <span class=\"cm-keyword\">for</span> <span class=\"cm-variable\">y</span> <span class=\"cm-keyword\">in</span> <span class=\"cm-builtin\">range</span>(<span class=\"cm-variable\">size</span>, <span class=\"cm-variable\">foo</span>.<span class=\"cm-property\">height</span> <span class=\"cm-operator\">-</span> <span class=\"cm-variable\">size</span>):\n",
    "        <span class=\"cm-variable\">grey_val</span> <span class=\"cm-operator\">=</span> <span class=\"cm-number\">0</span><br />\n",
    "        <span class=\"cm-comment\"># now iterate over a given pixel's \"neighbourhood\"</span>\n",
    "        <span class=\"cm-keyword\">for</span> <span class=\"cm-variable\">working_x</span> <span class=\"cm-keyword\">in</span> <span class=\"cm-builtin\">range</span>(<span class=\"cm-variable\">x</span> <span class=\"cm-operator\">-</span> <span class=\"cm-variable\">size</span>, <span class=\"cm-variable\">x</span> <span class=\"cm-operator\">+</span> <span class=\"cm-variable\">size</span>):\n",
    "            <span class=\"cm-keyword\">for</span> <span class=\"cm-variable\">working_y</span> <span class=\"cm-keyword\">in</span> <span class=\"cm-builtin\">range</span>(<span class=\"cm-variable\">y</span> <span class=\"cm-operator\">-</span> <span class=\"cm-variable\">size</span>, <span class=\"cm-variable\">y</span> <span class=\"cm-operator\">+</span> <span class=\"cm-variable\">size</span>):<br />\n",
    "                <span class=\"cm-comment\"># get the sum of all values in the neighbourhood</span>\n",
    "                <span class=\"cm-variable\">grey_val</span> <span class=\"cm-operator\">=</span> <span class=\"cm-variable\">grey_val</span> <span class=\"cm-operator\">+</span> <span class=\"cm-variable\">photo</span>.<span class=\"cm-property\">getpixel</span>((<span class=\"cm-variable\">working_x</span>, <span class=\"cm-variable\">working_y</span>))<br />\n",
    "        <span class=\"cm-comment\"># divide by the no. of pixels in the neighbourhood to get mean value</span>\n",
    "        <span class=\"cm-variable\">grey_val</span> <span class=\"cm-operator\">=</span> <span class=\"cm-variable\">grey_val</span><span class=\"cm-operator\">/</span><span class=\"cm-operator\">/</span>(<span class=\"cm-number\">4</span> <span class=\"cm-operator\">*</span> <span class=\"cm-variable\">size</span> <span class=\"cm-operator\">*</span><span class=\"cm-operator\">*</span> <span class=\"cm-number\">2</span>)<br />\n",
    "        <span class=\"cm-comment\"># set the new pixel value (NB: on the *copy* not the original)</span>\n",
    "        <span class=\"cm-variable\">foo</span>.<span class=\"cm-property\">putpixel</span>((<span class=\"cm-variable\">x</span>, <span class=\"cm-variable\">y</span>), <span class=\"cm-variable\">grey_val</span>)<br />\n",
    "<span class=\"cm-comment\"># display the result</span>\n",
    "<span class=\"cm-variable\">display</span>(<span class=\"cm-variable\">foo</span>)</code></pre>\n",
    "</div>"
   ]
  },
  {
   "cell_type": "code",
   "execution_count": null,
   "metadata": {
    "collapsed": true
   },
   "outputs": [],
   "source": []
  },
  {
   "cell_type": "markdown",
   "metadata": {},
   "source": [
    "### bonus: swiss cheese\n",
    "\n",
    "<p>Unlike the peephole exercise, which starts with the photo and blacks everything out around the \"hole\", this works by starting with a blank image and then copying each circular \"hole\" pixel-by-pixel from the 1891 photo.</p>\n",
    "\n",
    "<strong>Hint:</strong> It's more fun if you start off with <code>import random</code>. \n",
    "<ul><li>Then you can randomize the hole centres and radii.</li>\n",
    "<li>Use <a href=\"https://docs.python.org/3.6/library/random.html?highlight=randint#functions-for-integers\" target=\"_blank\"><code>random.randint(low, high)</code></a> to generate a random number between <code>low</code> and <code>high</code>.</li>\n",
    "</ul>\n",
    "<strong>Hint:</strong> If you have a lot (e.g. > 50) of holes in your cheese, this can be slow.\n",
    "\n",
    "<div style=\"margin: 2em;\"><a class=\"btn btn-warning\" data-toggle=\"collapse\" href=\"#swisscheese_spoilers\" role=\"button\" aria-expanded=\"false\" aria-controls=\"swisscheese_spoilers\">Show code</a></div>\n",
    "<div class=\"collapse\" id=\"swisscheese_spoilers\">\n",
    "    <pre><code class=\"cm-s-ipython language-python\"><span class=\"cm-comment\"># random module makes things more interesting</span>\n",
    "<span class=\"cm-keyword\">import</span> <span class=\"cm-variable\">random</span><br />\n",
    "<span class=\"cm-comment\"># create a blank image</span>\n",
    "<span class=\"cm-variable\">foo</span> <span class=\"cm-operator\">=</span> <span class=\"cm-variable\">Image</span>.<span class=\"cm-property\">new</span>(<span class=\"cm-string\">'L'</span>, (<span class=\"cm-variable\">photo</span>.<span class=\"cm-property\">width</span>, <span class=\"cm-variable\">photo</span>.<span class=\"cm-property\">height</span>), <span class=\"cm-number\">205</span>)<br />\n",
    "<span class=\"cm-keyword\">for</span> <span class=\"cm-variable\">i</span> <span class=\"cm-keyword\">in</span> <span class=\"cm-builtin\">range</span>(<span class=\"cm-number\">50</span>):\n",
    "    <span class=\"cm-comment\"># set variables</span>\n",
    "    <span class=\"cm-variable\">cent_x</span> <span class=\"cm-operator\">=</span> <span class=\"cm-variable\">random</span>.<span class=\"cm-property\">randint</span>(<span class=\"cm-number\">0</span>, <span class=\"cm-variable\">foo</span>.<span class=\"cm-property\">width</span>)\n",
    "    <span class=\"cm-variable\">cent_y</span> <span class=\"cm-operator\">=</span> <span class=\"cm-variable\">random</span>.<span class=\"cm-property\">randint</span>(<span class=\"cm-number\">0</span>, <span class=\"cm-variable\">foo</span>.<span class=\"cm-property\">height</span>)\n",
    "    <span class=\"cm-variable\">rad</span> <span class=\"cm-operator\">=</span> <span class=\"cm-variable\">random</span>.<span class=\"cm-property\">randint</span>(<span class=\"cm-number\">6</span>, <span class=\"cm-number\">30</span>)<br />\n",
    "    <span class=\"cm-comment\"># iterate over all pixels</span>\n",
    "    <span class=\"cm-keyword\">for</span> <span class=\"cm-variable\">x</span> <span class=\"cm-keyword\">in</span> <span class=\"cm-builtin\">range</span>(<span class=\"cm-variable\">foo</span>.<span class=\"cm-property\">width</span>):\n",
    "        <span class=\"cm-keyword\">for</span> <span class=\"cm-variable\">y</span> <span class=\"cm-keyword\">in</span> <span class=\"cm-builtin\">range</span>(<span class=\"cm-variable\">foo</span>.<span class=\"cm-property\">height</span>):<br />\n",
    "            <span class=\"cm-comment\"># get distance to centre</span>\n",
    "            <span class=\"cm-variable\">dist</span> <span class=\"cm-operator\">=</span> <span class=\"cm-variable\">math</span>.<span class=\"cm-property\">sqrt</span>((<span class=\"cm-variable\">x</span> <span class=\"cm-operator\">-</span> <span class=\"cm-variable\">cent_x</span>)<span class=\"cm-operator\">*</span><span class=\"cm-operator\">*</span><span class=\"cm-number\">2</span> <span class=\"cm-operator\">+</span> (<span class=\"cm-variable\">y</span> <span class=\"cm-operator\">-</span> <span class=\"cm-variable\">cent_y</span>)<span class=\"cm-operator\">*</span><span class=\"cm-operator\">*</span><span class=\"cm-number\">2</span>)<br />\n",
    "            <span class=\"cm-comment\"># if inside radius, copy pixel from photo</span>\n",
    "            <span class=\"cm-keyword\">if</span> <span class=\"cm-variable\">dist</span> <span class=\"cm-operator\">&lt;</span> <span class=\"cm-variable\">rad</span>:\n",
    "                <span class=\"cm-variable\">value</span> <span class=\"cm-operator\">=</span> <span class=\"cm-variable\">photo</span>.<span class=\"cm-property\">getpixel</span>((<span class=\"cm-variable\">x</span>, <span class=\"cm-variable\">y</span>))\n",
    "                <span class=\"cm-variable\">foo</span>.<span class=\"cm-property\">putpixel</span>((<span class=\"cm-variable\">x</span>, <span class=\"cm-variable\">y</span>), <span class=\"cm-variable\">value</span>)<br />\n",
    "<span class=\"cm-comment\"># display result</span>\n",
    "<span class=\"cm-variable\">display</span>(<span class=\"cm-variable\">foo</span>)</code></pre>\n",
    "</div>"
   ]
  },
  {
   "cell_type": "code",
   "execution_count": null,
   "metadata": {
    "collapsed": true
   },
   "outputs": [],
   "source": []
  }
 ],
 "metadata": {
  "kernelspec": {
   "display_name": "Python 3",
   "language": "python",
   "name": "python3"
  },
  "language_info": {
   "codemirror_mode": {
    "name": "ipython",
    "version": 3
   },
   "file_extension": ".py",
   "mimetype": "text/x-python",
   "name": "python",
   "nbconvert_exporter": "python",
   "pygments_lexer": "ipython3",
   "version": "3.6.3"
  }
 },
 "nbformat": 4,
 "nbformat_minor": 2
}
