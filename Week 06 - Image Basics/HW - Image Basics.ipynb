{
 "cells": [
  {
   "cell_type": "markdown",
   "metadata": {},
   "source": [
    "# Images I—basics, creating images\n",
    "## Working with images\n",
    "\n",
    "In the first part of this course, we practiced taking texts apart into words and characters and manipulating those tokens in some basic ways. Let's try doing some of the same things to images.\n",
    "\n",
    "Like text, images are made up of parts that we can examine and modify one at a time. Our image units are **pixels** (for “picture elements”) rather than characters, and the image has two dimensions instead of just one, but when it comes to taking things apart, counting, modifying, and putting them back together, the two media have a lot in common.\n",
    "\n",
    "For now, we're really just focused on the basic concepts, and we're going to use a built-in library called **Pillow** (Python imaging library) to create and load pictures, and to get and set the values of pixels.\n",
    "\n",
    "```python\n",
    "# to load and manipulate images\n",
    "from PIL import Image\n",
    "\n",
    "# to show images in the notebook\n",
    "from IPython.display import display\n",
    "```"
   ]
  },
  {
   "cell_type": "code",
   "execution_count": null,
   "metadata": {},
   "outputs": [],
   "source": []
  },
  {
   "cell_type": "markdown",
   "metadata": {},
   "source": [
    "## Image Basics\n",
    "\n",
    "For this course we're working with **raster images** (as opposed to vector images), which means that each image is represented as a grid of pixels. Images therefore have width and height, measured in pixels. Depending on the image format, they might also have several different channels of colour information. A **greyscale** image will have a single value for each pixel, giving its intensity. A **color** image might have separate intensity values for, e.g., red, green and blue.\n",
    "\n",
    "Some image formats can display thousands of different colours, others only a few (or two). For starters, we'll work with images that can display 256 different shades of grey. A low pixel value—close to zero—is dark, and a high value—close to 255—is bright.\n",
    "\n",
    "Let's demonstrate by creating some blank images with different background colours.\n",
    "\n",
    "```python\n",
    "# a blank image -- by default, it's all black\n",
    "Image.new('L', (100, 100))\n",
    "```"
   ]
  },
  {
   "cell_type": "code",
   "execution_count": null,
   "metadata": {},
   "outputs": [],
   "source": []
  },
  {
   "cell_type": "markdown",
   "metadata": {},
   "source": [
    "The <a href=\"https://pillow.readthedocs.io/en/5.3.x/reference/Image.html#PIL.Image.new\" target=\"_blank\">`Image.new()`</a> method takes two or three arguments. First, an image **mode**. Setting this to `'L'` tells PIL that we want an 8-bit greyscale image. Second, the size. This is represented by a **tuple** giving width and height together. That's why we have an inner set of parens. The third argument is the background colour. If you omit it, as I did above, it takes a value of 0 (black) by default.\n",
    "\n",
    "Let's try specifying a background colour of 255 (white):\n",
    "\n",
    "```python\n",
    "# a blank image with white background\n",
    "Image.new('L', (100, 100), 255)\n",
    "```"
   ]
  },
  {
   "cell_type": "code",
   "execution_count": null,
   "metadata": {},
   "outputs": [],
   "source": []
  },
  {
   "cell_type": "markdown",
   "metadata": {},
   "source": [
    "<div class=\"alert alert-success\">\n",
    "<strong>Before continuing on, try experimenting on your own.</strong>\n",
    "<p>\n",
    "🤔 Try some other values to see what you get. What's the lightest shade you can actually see on your monitor?\n",
    "</p>\n",
    "<p>\n",
    "🤔 Experiment with different image sizes—and think about how many pixels are in each one...\n",
    "</p>\n",
    "</div>\n",
    "\n",
    "## Getting and setting pixel values\n",
    "\n",
    "There are lots of sophisticated ways to manipulate images. For now, we're going to do everything the hard way, just by manually getting and setting individual pixel values.\n",
    "\n",
    "For starters, let's create a blank image that's 500 pixels wide and 200 pixels tall. We'll store the resultant Image object in a variable, so we can work with it.\n",
    "\n",
    "```python\n",
    "# blank image, wider than it is tall\n",
    "foo = Image.new('L', (500, 200), 0)\n",
    "display(foo)\n",
    "```"
   ]
  },
  {
   "cell_type": "code",
   "execution_count": null,
   "metadata": {},
   "outputs": [],
   "source": []
  },
  {
   "cell_type": "markdown",
   "metadata": {},
   "source": [
    "The methods we use to get and set pixel values are `.getpixel()` and `.putpixel()`, respectively. Both of these methods take as their argument the coordinates of the pixel you're interested in, as a tuple of the form (*x*, *y*). The `.putpixel()` method also needs an additional argument—the new value for the pixel.\n",
    "\n",
    "<div class=\"alert alert-info\" style=\"margin:1em 2em\">\n",
    "<h4>Pixel coordinates</h4>\n",
    "\n",
    "The origin of the coordinate system is the top-left corner of the image. So <em>y</em> values increase going downward, and <em>x</em> values increase going to the right.\n",
    "</div>\n",
    "\n",
    "\n",
    "For example, let's add some white pixels to our black canvas:\n",
    "\n",
    "```python\n",
    "foo.putpixel((248, 80), 255)\n",
    "foo.putpixel((252, 80), 255)\n",
    "foo.putpixel((250, 84), 255)\n",
    "foo.display()\n",
    "```"
   ]
  },
  {
   "cell_type": "code",
   "execution_count": null,
   "metadata": {},
   "outputs": [],
   "source": []
  },
  {
   "cell_type": "markdown",
   "metadata": {},
   "source": [
    "Let's see what `.getpixel()` returns for black versus white pixels. The pixel at `(0, 0)` is still the default black colour, but the one at (248, 80) has now been coloured white:\n",
    "\n",
    "<div class=\"alert alert-warning\" style=\"margin:1em 2em\">\n",
    "<strong>⚠️ Note:</strong> the coordinates are a <strong>tuple</strong>, so they have to be in their own (extra) set of parens.</div>\n",
    "\n",
    "```python\n",
    "# should be black\n",
    "img.getpixel((0, 0))\n",
    "```\n",
    "\n",
    "```python\n",
    "# should be white\n",
    "img.getpixel((248, 80))\n",
    "```"
   ]
  },
  {
   "cell_type": "code",
   "execution_count": null,
   "metadata": {},
   "outputs": [],
   "source": []
  },
  {
   "cell_type": "markdown",
   "metadata": {},
   "source": [
    "## Traversing an image using `for`\n",
    "\n",
    "New let's draw a white horizontal line across the image stored in `foo`, by using a `for` loop to traverse all possible `x` values:\n",
    "\n",
    "<div class=\"alert alert-warning\" style=\"margin:1em 2em\">\n",
    "<h4>⚠️ Out of bounds</h4>\n",
    "<p>\n",
    "If you try to get or set a pixel outside the image bounds, you'll get an error. You can use the `width` and `height` attributes of an Image object to avoid this.</p>\n",
    "</div>\n",
    "\n",
    "\n",
    "```python\n",
    "# constant y value, halfway up the image\n",
    "y = 100\n",
    "\n",
    "# traverse the image from left to right\n",
    "for x in range(foo.width):\n",
    "    foo.putpixel((x, y), 255)\n",
    "\n",
    "# show the image\n",
    "display(foo)\n",
    "```\n",
    "\n",
    "What does the result look like?"
   ]
  },
  {
   "cell_type": "code",
   "execution_count": null,
   "metadata": {},
   "outputs": [],
   "source": []
  },
  {
   "cell_type": "markdown",
   "metadata": {},
   "source": [
    "Now let's do a set of vertical stripes, spaced every 20 pixels.\n",
    "\n",
    "```python\n",
    "# start over with a blank image\n",
    "foo = Image.new('L', (500, 200), 0)\n",
    "\n",
    "# move horizontally in steps of 20\n",
    "for x in range(0, foo.width, 20):\n",
    "    \n",
    "    # but iterate over *all* y values\n",
    "    for y in range(foo.height):\n",
    "        \n",
    "        foo.putpixel((x, y), 255)\n",
    "\n",
    "# show result\n",
    "display(foo)\n",
    "```"
   ]
  },
  {
   "cell_type": "code",
   "execution_count": null,
   "metadata": {},
   "outputs": [],
   "source": []
  },
  {
   "cell_type": "markdown",
   "metadata": {},
   "source": [
    "<div class=\"alert alert-success\">\n",
    "🤔 Can you change the spacing of the lines?<br />\n",
    "🤔 Try adding horizontal stripes to the existing <code>foo</code> to create a lattice pattern.<br />\n",
    "🤔 Can you start from a new, blank image and do both horizontal and vertical stripes in one loop?\n",
    "</div>"
   ]
  },
  {
   "cell_type": "code",
   "execution_count": null,
   "metadata": {},
   "outputs": [],
   "source": []
  },
  {
   "cell_type": "markdown",
   "metadata": {},
   "source": [
    "One common pattern we'll use a lot is iterating over the entire image and setting the value of each pixel as a function of its location, its current value, or the values of its neighbours.\n",
    "\n",
    "Here's one way to create the lattice: we can use the modulus operator (`%`) to check whether a given pixel's *x* or *y* value is evenly divisible by 20. If so, then the pixel is somewhere on one of the gridlines.\n",
    "\n",
    "```python\n",
    "# start over with a blank image\n",
    "foo = Image.new('L', (500, 200), 0)\n",
    "\n",
    "# iterate over all pixels\n",
    "for x in range(foo.width):\n",
    "    for y in range(foo.height):\n",
    "\n",
    "        # if x or y is a multiple of 20, this pixel is white\n",
    "        if x % 20 == 0 or y % 20 == 0:\n",
    "            foo.putpixel((x, y), 255)\n",
    "\n",
    "# show the image\n",
    "display(foo)\n",
    "```"
   ]
  },
  {
   "cell_type": "code",
   "execution_count": null,
   "metadata": {},
   "outputs": [],
   "source": []
  },
  {
   "cell_type": "markdown",
   "metadata": {},
   "source": [
    "Instead of hard-coding the grid size, let's use a variable—it makes things neater and easier to read.\n",
    "\n",
    "```python\n",
    "# start over with a blank image\n",
    "foo = Image.new('L', (500, 200), 0)\n",
    "\n",
    "step = 50\n",
    "\n",
    "# iterate over all pixels\n",
    "for x in range(foo.width):\n",
    "    for y in range(foo.height):\n",
    "\n",
    "        # if x or y is a multiple of 20, this pixel is white\n",
    "        if x % step == 0 or y % step == 0:\n",
    "            foo.putpixel((x, y), 255)\n",
    "\n",
    "# show the image\n",
    "display(foo)\n",
    "```"
   ]
  },
  {
   "cell_type": "code",
   "execution_count": null,
   "metadata": {},
   "outputs": [],
   "source": []
  },
  {
   "cell_type": "markdown",
   "metadata": {},
   "source": [
    "<div class=\"alert alert-success\">\n",
    "🤔 Can you rewrite this to use different-sized steps for <em>x</em> and <em>y</em> (i.e., rectangular blocks instead of squares)?\n",
    "</div>"
   ]
  },
  {
   "cell_type": "code",
   "execution_count": null,
   "metadata": {},
   "outputs": [],
   "source": []
  },
  {
   "cell_type": "markdown",
   "metadata": {},
   "source": [
    "## Challenge problems\n",
    "\n",
    "<img src=\"figs/fig_checkerboard.png\" style=\"float:right; margin:1em;\" width=\"150\">\n",
    "### Checkerboard\n",
    "\n",
    "Let's create a checkerboard pattern. Here are some rules that defines whether a given square is white or black:\n",
    "\n",
    " - if the column is odd and the row is odd, the square is white\n",
    " - if the column is odd and the row is even, the square is black\n",
    " - if the column is even and the row is odd, the square is black\n",
    " - if the column is even and the row is even, the square is white\n",
    "\n",
    "<div class=\"alert alert-info\">\n",
    "<h4>Some problems</h4>\n",
    "\n",
    "<p>🤔 There are only two outcomes—black and white. So is there a way we can reduce these four rules to just two?</p>\n",
    "\n",
    "<p>🤔 How do we check whether a given row, say, is even or odd?</p>\n",
    "<ul>\n",
    "    <li>Hint: use <code>%</code> again.</li>\n",
    "</ul>\n",
    "\n",
    "<p>🤔 How do we set the width / height of the squares?</p>\n",
    "<ul>\n",
    "    <li>Hint: Imagine you want your squares to be, say, 4 pixels wide. Then:</li>\n",
    "    <ul>\n",
    "        </li>Your <em>x</em> values are <samp>0, 1, 2, 3, 4, 5, 6, 7, 8, 9, 10, 11, 12, …</samp></li>\n",
    "        <li>You want to turn this into <samp>0, 0, 0, 0, 1, 1, 1, 1, 2, 2, 2, 2, …</samp></li>\n",
    "        <li>This is a job for the <code>//</code> operator.</li>\n",
    "    </ul>\n",
    "</ul>\n",
    "</div>\n",
    "\n",
    "<div style=\"margin: 2em;\"><a class=\"btn btn-warning\" data-toggle=\"collapse\" href=\"#checkerboard_spoilers\" role=\"button\" aria-expanded=\"false\" aria-controls=\"checkerboard_spoilers\">Show code</a></div>\n",
    "<div class=\"collapse\" id=\"checkerboard_spoilers\">\n",
    "<pre><code class=\"cm-s-ipython language-python\"><span class=\"cm-comment\"># start with a blank image</span>\n",
    "<span class=\"cm-variable\">foo</span> <span class=\"cm-operator\">=</span> <span class=\"cm-variable\">Image</span>.<span class=\"cm-property\">new</span>(<span class=\"cm-string\">'L'</span>, (<span class=\"cm-number\">200</span>, <span class=\"cm-number\">200</span>), <span class=\"cm-number\">0</span>)<br />\n",
    "<span class=\"cm-variable\">step</span> <span class=\"cm-operator\">=</span> <span class=\"cm-number\">20</span><br />\n",
    "<span class=\"cm-comment\"># iterate over all pixels</span>\n",
    "<span class=\"cm-keyword\">for</span> <span class=\"cm-variable\">x</span> <span class=\"cm-keyword\">in</span> <span class=\"cm-builtin\">range</span>(<span class=\"cm-variable\">foo</span>.<span class=\"cm-property\">width</span>):\n",
    "    <span class=\"cm-keyword\">for</span> <span class=\"cm-variable\">y</span> <span class=\"cm-keyword\">in</span> <span class=\"cm-builtin\">range</span>(<span class=\"cm-variable\">foo</span>.<span class=\"cm-property\">height</span>):\n",
    "        <span class=\"cm-keyword\">if</span> (<span class=\"cm-variable\">x</span> <span class=\"cm-operator\">/</span><span class=\"cm-operator\">/</span> <span class=\"cm-variable\">step</span>) <span class=\"cm-operator\">%</span> <span class=\"cm-number\">2</span> <span class=\"cm-operator\">==</span> (<span class=\"cm-variable\">y</span> <span class=\"cm-operator\">/</span><span class=\"cm-operator\">/</span> <span class=\"cm-variable\">step</span>) <span class=\"cm-operator\">%</span> <span class=\"cm-number\">2</span>:\n",
    "            <span class=\"cm-variable\">val</span> <span class=\"cm-operator\">=</span> <span class=\"cm-number\">255</span>\n",
    "        <span class=\"cm-keyword\">else</span>:\n",
    "            <span class=\"cm-variable\">val</span> <span class=\"cm-operator\">=</span> <span class=\"cm-number\">0</span>\n",
    "        <span class=\"cm-variable\">foo</span>.<span class=\"cm-property\">putpixel</span>((<span class=\"cm-variable\">x</span>, <span class=\"cm-variable\">y</span>), <span class=\"cm-variable\">val</span>)<br />\n",
    "<span class=\"cm-comment\"># show image</span>\n",
    "<span class=\"cm-variable\">display</span>(<span class=\"cm-variable\">foo</span>)</code></pre>\n",
    "</div>"
   ]
  },
  {
   "cell_type": "code",
   "execution_count": null,
   "metadata": {},
   "outputs": [],
   "source": []
  },
  {
   "cell_type": "markdown",
   "metadata": {},
   "source": [
    "### Spartan tartan\n",
    "\n",
    "<img src=\"figs/fig_tartan.png\" width=\"150\" style=\"margin:1em; float:right\">\n",
    "\n",
    "Let's extend that pattern still further, and create a minimalist tartan.\n",
    "\n",
    "  - Only 1 in 3 rows, and 1 in 3 columns is colored.\n",
    "  - The marked rows are coloured grey; the marked cols are also grey\n",
    "  - Where a grey row and a grey column cross, the square is black.\n",
    "\n",
    "<div style=\"margin: 2em;\"><a class=\"btn btn-warning\" data-toggle=\"collapse\" href=\"#tartan_spoilers\" role=\"button\" aria-expanded=\"false\" aria-controls=\"tartan_spoilers\">Show code</a></div>\n",
    "<div class=\"collapse\" id=\"tartan_spoilers\">\n",
    "<pre><code class=\"cm-s-ipython language-python\"><span class=\"cm-comment\"># a new blank image</span>\n",
    "<span class=\"cm-variable\">foo</span> <span class=\"cm-operator\">=</span> <span class=\"cm-variable\">Image</span>.<span class=\"cm-property\">new</span>(<span class=\"cm-string\">'L'</span>, (<span class=\"cm-number\">200</span>, <span class=\"cm-number\">200</span>))<br />\n",
    "<span class=\"cm-comment\"># size of squares</span>\n",
    "<span class=\"cm-variable\">step</span> <span class=\"cm-operator\">=</span> <span class=\"cm-number\">10</span><br />\n",
    "<span class=\"cm-keyword\">for</span> <span class=\"cm-variable\">x</span> <span class=\"cm-keyword\">in</span> <span class=\"cm-builtin\">range</span>(<span class=\"cm-number\">0</span>, <span class=\"cm-variable\">foo</span>.<span class=\"cm-property\">width</span>):\n",
    "    <span class=\"cm-keyword\">for</span> <span class=\"cm-variable\">y</span> <span class=\"cm-keyword\">in</span> <span class=\"cm-builtin\">range</span>(<span class=\"cm-number\">0</span>, <span class=\"cm-variable\">foo</span>.<span class=\"cm-property\">height</span>):<br />\n",
    "        <span class=\"cm-comment\"># assume pixel is white unless marked</span>\n",
    "        <span class=\"cm-variable\">val</span> <span class=\"cm-operator\">=</span> <span class=\"cm-number\">255</span><br />\n",
    "        <span class=\"cm-comment\"># check for marked column</span>\n",
    "        <span class=\"cm-keyword\">if</span> (<span class=\"cm-variable\">x</span> <span class=\"cm-operator\">/</span><span class=\"cm-operator\">/</span> <span class=\"cm-variable\">step</span>) <span class=\"cm-operator\">%</span> <span class=\"cm-number\">3</span> <span class=\"cm-operator\">==</span> <span class=\"cm-number\">1</span>:\n",
    "            <span class=\"cm-variable\">val</span> <span class=\"cm-operator\">=</span> <span class=\"cm-variable\">val</span> <span class=\"cm-operator\">-</span> <span class=\"cm-number\">128</span><br />\n",
    "        <span class=\"cm-comment\"># check for marked row</span>\n",
    "        <span class=\"cm-keyword\">if</span> (<span class=\"cm-variable\">y</span> <span class=\"cm-operator\">/</span><span class=\"cm-operator\">/</span> <span class=\"cm-variable\">step</span>) <span class=\"cm-operator\">%</span> <span class=\"cm-number\">3</span> <span class=\"cm-operator\">==</span> <span class=\"cm-number\">1</span>:\n",
    "            <span class=\"cm-variable\">val</span> <span class=\"cm-operator\">=</span> <span class=\"cm-variable\">val</span> <span class=\"cm-operator\">-</span> <span class=\"cm-number\">128</span><br />\n",
    "        <span class=\"cm-comment\"># draw pixel</span>\n",
    "        <span class=\"cm-variable\">foo</span>.<span class=\"cm-property\">putpixel</span>((<span class=\"cm-variable\">x</span>,<span class=\"cm-variable\">y</span>), <span class=\"cm-variable\">val</span>)<br />\n",
    "<span class=\"cm-comment\"># show image</span>\n",
    "<span class=\"cm-variable\">display</span>(<span class=\"cm-variable\">foo</span>)</code></pre>\n",
    "</div>"
   ]
  },
  {
   "cell_type": "code",
   "execution_count": null,
   "metadata": {},
   "outputs": [],
   "source": []
  },
  {
   "cell_type": "markdown",
   "metadata": {},
   "source": [
    "### Gradients\n",
    "\n",
    "<img src=\"figs/fig_gradient.png\" width=\"150\" style=\"margin:1em; float:right\">\n",
    "\n",
    "Let's say we want the value of every pixel to be a function of its distance from the left side of the image. That will give us a horizontal gradient.\n",
    "\n",
    "**Hints**:\n",
    "\n",
    "  - for a given pixel, how far is *x* from the left-hand side, in pixels?\n",
    "  - convert that distance in pixels to a percentage of the width of the image\n",
    "  - then scale it to the range <samp>(0, 256)</samp> so we can use it as a colour value\n",
    "\n",
    "<div style=\"margin: 2em;\"><a class=\"btn btn-warning\" data-toggle=\"collapse\" href=\"#gradient_spoilers\" role=\"button\" aria-expanded=\"false\" aria-controls=\"gradient_spoilers\">Show code</a></div>\n",
    "<div class=\"collapse\" id=\"gradient_spoilers\">\n",
    "<pre><code class=\"cm-s-ipython language-python\"><span class=\"cm-comment\"># create a new image</span>\n",
    "<span class=\"cm-variable\">foo</span> <span class=\"cm-operator\">=</span> <span class=\"cm-variable\">Image</span>.<span class=\"cm-property\">new</span>(<span class=\"cm-string\">'L'</span>, (<span class=\"cm-number\">200</span>, <span class=\"cm-number\">200</span>))<br />\n",
    "<span class=\"cm-comment\"># iterate over x, y</span>\n",
    "<span class=\"cm-keyword\">for</span> <span class=\"cm-variable\">x</span> <span class=\"cm-keyword\">in</span> <span class=\"cm-builtin\">range</span>(<span class=\"cm-variable\">foo</span>.<span class=\"cm-property\">width</span>):\n",
    "    <span class=\"cm-keyword\">for</span> <span class=\"cm-variable\">y</span> <span class=\"cm-keyword\">in</span> <span class=\"cm-builtin\">range</span>(<span class=\"cm-variable\">foo</span>.<span class=\"cm-property\">height</span>):<br />\n",
    "        <span class=\"cm-comment\"># calculate horiz. distance as fraction of width </span>\n",
    "        <span class=\"cm-variable\">dist</span> <span class=\"cm-operator\">=</span> <span class=\"cm-variable\">x</span> <span class=\"cm-operator\">/</span> <span class=\"cm-variable\">foo</span>.<span class=\"cm-property\">width</span><br />\n",
    "        <span class=\"cm-comment\"># generate grey value between 0 and 255 using fractional distance</span>\n",
    "        <span class=\"cm-variable\">value</span> <span class=\"cm-operator\">=</span> <span class=\"cm-builtin\">int</span>(<span class=\"cm-variable\">dist</span> <span class=\"cm-operator\">*</span> <span class=\"cm-number\">255</span>)<br />\n",
    "        <span class=\"cm-comment\"># draw pixel</span>\n",
    "        <span class=\"cm-variable\">foo</span>.<span class=\"cm-property\">putpixel</span>((<span class=\"cm-variable\">x</span>,<span class=\"cm-variable\">y</span>), <span class=\"cm-variable\">value</span>)<br />\n",
    "<span class=\"cm-comment\"># show image</span>\n",
    "<span class=\"cm-variable\">display</span>(<span class=\"cm-variable\">foo</span>)</code></pre></div>"
   ]
  },
  {
   "cell_type": "code",
   "execution_count": null,
   "metadata": {},
   "outputs": [],
   "source": []
  },
  {
   "cell_type": "markdown",
   "metadata": {},
   "source": [
    "<div class=\"alert alert-success\">\n",
    "<strong>🤔 What about…</strong>\n",
    "\n",
    "  - a vertical gradient\n",
    "  - a vertical gradient with white in the middle and black at the edges?\n",
    "</div>"
   ]
  }
 ],
 "metadata": {
  "kernelspec": {
   "display_name": "Python 3",
   "language": "python",
   "name": "python3"
  },
  "language_info": {
   "codemirror_mode": {
    "name": "ipython",
    "version": 3
   },
   "file_extension": ".py",
   "mimetype": "text/x-python",
   "name": "python",
   "nbconvert_exporter": "python",
   "pygments_lexer": "ipython3",
   "version": "3.6.5"
  }
 },
 "nbformat": 4,
 "nbformat_minor": 2
}
